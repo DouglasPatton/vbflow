{
 "cells": [
  {
   "cell_type": "code",
   "execution_count": 2,
   "metadata": {},
   "outputs": [],
   "source": [
    "import numpy as np\n"
   ]
  },
  {
   "cell_type": "code",
   "execution_count": 15,
   "metadata": {},
   "outputs": [
    {
     "data": {
      "text/plain": [
       "array([   0.5       ,   -0.605     ,    0.73205   ,   -0.8857805 ,\n",
       "          1.0717944 ,   -1.29687123,    1.56921419,   -1.89874917,\n",
       "          2.29748649,   -2.77995866,    3.36374997,   -4.07013747,\n",
       "          4.92486634,   -5.95908827,    7.21049681,   -8.72470113,\n",
       "         10.55688837,  -12.77383493,   15.45634027,  -18.70217172,\n",
       "         22.62962778,  -27.38184962,   33.13203804,  -40.08976603,\n",
       "         48.50861689,  -58.69542644,   71.02146599,  -85.93597385,\n",
       "        103.98252836, -125.81885931])"
      ]
     },
     "execution_count": 15,
     "metadata": {},
     "output_type": "execute_result"
    }
   ],
   "source": [
    ".5*(-1.21)**np.arange(30)"
   ]
  },
  {
   "cell_type": "code",
   "execution_count": 13,
   "metadata": {},
   "outputs": [
    {
     "name": "stdout",
     "output_type": "stream",
     "text": [
      "0\n",
      "15\n"
     ]
    }
   ],
   "source": [
    "for i in range(0,30,15):\n",
    "    print(i)"
   ]
  },
  {
   "cell_type": "code",
   "execution_count": null,
   "metadata": {},
   "outputs": [],
   "source": []
  }
 ],
 "metadata": {
  "kernelspec": {
   "display_name": "Python 3",
   "language": "python",
   "name": "python3"
  },
  "language_info": {
   "codemirror_mode": {
    "name": "ipython",
    "version": 3
   },
   "file_extension": ".py",
   "mimetype": "text/x-python",
   "name": "python",
   "nbconvert_exporter": "python",
   "pygments_lexer": "ipython3",
   "version": "3.7.6"
  }
 },
 "nbformat": 4,
 "nbformat_minor": 4
}
