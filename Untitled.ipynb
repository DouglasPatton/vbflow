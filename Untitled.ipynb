{
 "cells": [
  {
   "cell_type": "code",
   "execution_count": 13,
   "metadata": {},
   "outputs": [],
   "source": [
    "import numpy as np"
   ]
  },
  {
   "cell_type": "code",
   "execution_count": 15,
   "metadata": {},
   "outputs": [],
   "source": [
    "gridpoints=3\n",
    "k_=20"
   ]
  },
  {
   "cell_type": "code",
   "execution_count": 18,
   "metadata": {},
   "outputs": [
    {
     "data": {
      "text/plain": [
       "[0.2875, 0.525, 0.7625]"
      ]
     },
     "execution_count": 18,
     "metadata": {},
     "output_type": "execute_result"
    }
   ],
   "source": [
    "list(np.linspace(1/k_,1,gridpoints+2)[1:-1])"
   ]
  },
  {
   "cell_type": "code",
   "execution_count": 11,
   "metadata": {},
   "outputs": [
    {
     "data": {
      "text/plain": [
       "array([1.00000000e-02, 4.57088190e-02, 2.08929613e-01, 9.54992586e-01,\n",
       "       4.36515832e+00, 1.99526231e+01])"
      ]
     },
     "execution_count": 11,
     "metadata": {},
     "output_type": "execute_result"
    }
   ],
   "source": [
    "np.logspace(-2,1.3,6)"
   ]
  },
  {
   "cell_type": "code",
   "execution_count": 5,
   "metadata": {},
   "outputs": [
    {
     "data": {
      "text/plain": [
       "9.104979856318357"
      ]
     },
     "execution_count": 5,
     "metadata": {},
     "output_type": "execute_result"
    }
   ],
   "source": [
    "np.log(900*10)"
   ]
  },
  {
   "cell_type": "code",
   "execution_count": 3,
   "metadata": {},
   "outputs": [
    {
     "data": {
      "text/plain": [
       "array([3.16227766e-02, 4.64158883e-01, 6.81292069e+00, 1.00000000e+02])"
      ]
     },
     "execution_count": 3,
     "metadata": {},
     "output_type": "execute_result"
    }
   ],
   "source": [
    "np.logspace(-1.5,2,4)"
   ]
  },
  {
   "cell_type": "code",
   "execution_count": 7,
   "metadata": {},
   "outputs": [
    {
     "data": {
      "text/plain": [
       "[1, 6, 11]"
      ]
     },
     "execution_count": 7,
     "metadata": {},
     "output_type": "execute_result"
    }
   ],
   "source": [
    "list(range(1,12,5))"
   ]
  },
  {
   "cell_type": "code",
   "execution_count": 22,
   "metadata": {},
   "outputs": [
    {
     "ename": "ValueError",
     "evalue": "array split does not result in an equal division",
     "output_type": "error",
     "traceback": [
      "\u001b[0;31m---------------------------------------------------------------------------\u001b[0m",
      "\u001b[0;31mTypeError\u001b[0m                                 Traceback (most recent call last)",
      "\u001b[0;32m~/miniconda3/envs/vbflow38/lib/python3.8/site-packages/numpy/lib/shape_base.py\u001b[0m in \u001b[0;36msplit\u001b[0;34m(ary, indices_or_sections, axis)\u001b[0m\n\u001b[1;32m    866\u001b[0m     \u001b[0;32mtry\u001b[0m\u001b[0;34m:\u001b[0m\u001b[0;34m\u001b[0m\u001b[0;34m\u001b[0m\u001b[0m\n\u001b[0;32m--> 867\u001b[0;31m         \u001b[0mlen\u001b[0m\u001b[0;34m(\u001b[0m\u001b[0mindices_or_sections\u001b[0m\u001b[0;34m)\u001b[0m\u001b[0;34m\u001b[0m\u001b[0;34m\u001b[0m\u001b[0m\n\u001b[0m\u001b[1;32m    868\u001b[0m     \u001b[0;32mexcept\u001b[0m \u001b[0mTypeError\u001b[0m\u001b[0;34m:\u001b[0m\u001b[0;34m\u001b[0m\u001b[0;34m\u001b[0m\u001b[0m\n",
      "\u001b[0;31mTypeError\u001b[0m: object of type 'int' has no len()",
      "\nDuring handling of the above exception, another exception occurred:\n",
      "\u001b[0;31mValueError\u001b[0m                                Traceback (most recent call last)",
      "\u001b[0;32m<ipython-input-22-6a7bfc864cd4>\u001b[0m in \u001b[0;36m<module>\u001b[0;34m\u001b[0m\n\u001b[0;32m----> 1\u001b[0;31m \u001b[0mnp\u001b[0m\u001b[0;34m.\u001b[0m\u001b[0msplit\u001b[0m\u001b[0;34m(\u001b[0m\u001b[0mnp\u001b[0m\u001b[0;34m.\u001b[0m\u001b[0marange\u001b[0m\u001b[0;34m(\u001b[0m\u001b[0;36m7\u001b[0m\u001b[0;34m)\u001b[0m\u001b[0;34m,\u001b[0m\u001b[0;36m2\u001b[0m\u001b[0;34m)\u001b[0m\u001b[0;34m\u001b[0m\u001b[0;34m\u001b[0m\u001b[0m\n\u001b[0m",
      "\u001b[0;32m<__array_function__ internals>\u001b[0m in \u001b[0;36msplit\u001b[0;34m(*args, **kwargs)\u001b[0m\n",
      "\u001b[0;32m~/miniconda3/envs/vbflow38/lib/python3.8/site-packages/numpy/lib/shape_base.py\u001b[0m in \u001b[0;36msplit\u001b[0;34m(ary, indices_or_sections, axis)\u001b[0m\n\u001b[1;32m    870\u001b[0m         \u001b[0mN\u001b[0m \u001b[0;34m=\u001b[0m \u001b[0mary\u001b[0m\u001b[0;34m.\u001b[0m\u001b[0mshape\u001b[0m\u001b[0;34m[\u001b[0m\u001b[0maxis\u001b[0m\u001b[0;34m]\u001b[0m\u001b[0;34m\u001b[0m\u001b[0;34m\u001b[0m\u001b[0m\n\u001b[1;32m    871\u001b[0m         \u001b[0;32mif\u001b[0m \u001b[0mN\u001b[0m \u001b[0;34m%\u001b[0m \u001b[0msections\u001b[0m\u001b[0;34m:\u001b[0m\u001b[0;34m\u001b[0m\u001b[0;34m\u001b[0m\u001b[0m\n\u001b[0;32m--> 872\u001b[0;31m             raise ValueError(\n\u001b[0m\u001b[1;32m    873\u001b[0m                 'array split does not result in an equal division')\n\u001b[1;32m    874\u001b[0m     \u001b[0;32mreturn\u001b[0m \u001b[0marray_split\u001b[0m\u001b[0;34m(\u001b[0m\u001b[0mary\u001b[0m\u001b[0;34m,\u001b[0m \u001b[0mindices_or_sections\u001b[0m\u001b[0;34m,\u001b[0m \u001b[0maxis\u001b[0m\u001b[0;34m)\u001b[0m\u001b[0;34m\u001b[0m\u001b[0;34m\u001b[0m\u001b[0m\n",
      "\u001b[0;31mValueError\u001b[0m: array split does not result in an equal division"
     ]
    }
   ],
   "source": [
    "np.split(np.arange(7),2)"
   ]
  },
  {
   "cell_type": "code",
   "execution_count": 12,
   "metadata": {},
   "outputs": [],
   "source": [
    "from sklearn.model_selection import RepeatedStratifiedKFold, RepeatedKFold"
   ]
  },
  {
   "cell_type": "code",
   "execution_count": 13,
   "metadata": {
    "collapsed": true,
    "jupyter": {
     "outputs_hidden": true
    }
   },
   "outputs": [
    {
     "name": "stdout",
     "output_type": "stream",
     "text": [
      "615848.2087303039\n",
      "78475997.0351446\n",
      "54555.947811672406\n",
      "10000000000.0\n",
      "6951927.961775591\n",
      "885866790.1124444\n",
      "10000000000.0\n",
      "78475997.03514622\n",
      "4832.930238570623\n",
      "54555.94760477134\n",
      "428.1332398708107\n",
      "885866790.4100796\n",
      "78475997.0351279\n",
      "10000000000.0\n",
      "54555.947811685044\n",
      "3.359818286183774\n",
      "6951927.664140446\n",
      "9999945444.052189\n",
      "615848.2110660243\n",
      "4832.930220241945\n",
      "615848.2110660127\n",
      "4832.930031657944\n",
      "10000000000.0\n",
      "885866790.4100795\n",
      "6951927.961775591\n",
      "78475997.00877972\n",
      "37.92690189457963\n",
      "885866790.4100796\n",
      "615848.2110658815\n",
      "10000000000.0\n",
      "54555.947793355335\n",
      "6951927.961568677\n",
      "885866790.4077439\n",
      "78475997.03514622\n",
      "10000000000.0\n",
      "9999999999.999998\n",
      "885866790.4100796\n",
      "4832.930238559009\n",
      "78475997.03514622\n",
      "6951927.961775447\n",
      "615848.2110658815\n",
      "428.1332398708107\n",
      "9999999999.997663\n",
      "885866790.4100796\n",
      "6951927.961775578\n",
      "10000000000.0\n",
      "615848.2108591116\n",
      "78475997.03514607\n",
      "885866790.4100779\n",
      "6951927.961775591\n"
     ]
    }
   ],
   "source": [
    "cv=RepeatedKFold(n_splits=5,n_repeats=10,random_state=0)\n",
    "n=20\n",
    "y=np.logspace(-n//2,n//2,n)\n",
    "np.random.shuffle(y)\n",
    "x=(y.copy()*1E20)[:,None] # make 2d\n",
    "\n",
    "for train,test in cv.split(x,y):\n",
    "    #print(train,test)\n",
    "    print(np.ptp(y[test]))"
   ]
  },
  {
   "cell_type": "code",
   "execution_count": 1,
   "metadata": {},
   "outputs": [],
   "source": [
    "from vb_cross_validator import regressor_stratified_cv\n",
    "import numpy as np"
   ]
  },
  {
   "cell_type": "code",
   "execution_count": 15,
   "metadata": {},
   "outputs": [],
   "source": [
    "n=40\n",
    "n_splits=5\n",
    "y=np.logspace(-n//2,n//2,n)\n",
    "np.random.shuffle(y)\n",
    "X=(y.copy()*1E20)[:,None] # make 2d"
   ]
  },
  {
   "cell_type": "code",
   "execution_count": 18,
   "metadata": {},
   "outputs": [],
   "source": [
    "cv=regressor_stratified_cv(n_splits=n_splits,n_repeats=100,strategy='balanced',group_count=5,random_state=0)\n"
   ]
  },
  {
   "cell_type": "code",
   "execution_count": 24,
   "metadata": {},
   "outputs": [
    {
     "name": "stdout",
     "output_type": "stream",
     "text": [
      "1e+20\n",
      "1e+20\n",
      "1e+20\n",
      "1e+20\n",
      "for repeat 1, 0.0\n",
      "9.426684551178777e+18\n",
      "1e+20\n",
      "1e+20\n",
      "9.426684551178777e+18\n",
      "1e+20\n",
      "for repeat 2, 9.057331544882122e+19\n",
      "1e+20\n",
      "1e+20\n",
      "9.426684551178777e+18\n",
      "1e+20\n",
      "1e+20\n",
      "for repeat 3, 9.057331544882122e+19\n",
      "1e+20\n",
      "1e+20\n",
      "1e+20\n",
      "1e+20\n",
      "9.426684551178777e+18\n",
      "for repeat 4, 9.057331544882122e+19\n",
      "1e+20\n",
      "1e+20\n",
      "9.426684551178777e+18\n",
      "1e+20\n",
      "1e+20\n",
      "for repeat 5, 9.057331544882122e+19\n",
      "1e+20\n",
      "1e+20\n",
      "1e+20\n",
      "1e+20\n",
      "1e+20\n",
      "for repeat 6, 0.0\n",
      "9.426684551178777e+18\n",
      "1e+20\n",
      "1e+20\n",
      "1e+20\n",
      "9.426684551178777e+18\n",
      "for repeat 7, 9.057331544882122e+19\n",
      "1e+20\n",
      "1e+20\n",
      "1e+20\n",
      "1e+20\n",
      "8.886238162743261e+17\n",
      "for repeat 8, 9.911137618372567e+19\n",
      "1e+20\n",
      "1e+20\n",
      "1e+20\n",
      "1e+20\n",
      "9.426684551178777e+18\n",
      "for repeat 9, 9.057331544882122e+19\n",
      "1e+20\n",
      "9.426684551178777e+18\n",
      "1e+20\n",
      "1e+20\n",
      "1e+20\n",
      "for repeat 10, 9.057331544882122e+19\n",
      "1e+20\n",
      "1e+20\n",
      "1e+20\n",
      "1e+20\n",
      "9.426684551178777e+18\n",
      "for repeat 11, 9.057331544882122e+19\n",
      "1e+20\n",
      "1e+20\n",
      "1e+20\n",
      "1e+20\n",
      "1e+20\n",
      "for repeat 12, 0.0\n",
      "9.426684551178777e+18\n",
      "1e+20\n",
      "1e+20\n",
      "1e+20\n",
      "1e+20\n",
      "for repeat 13, 9.057331544882122e+19\n",
      "9.426684551178777e+18\n",
      "1e+20\n",
      "1e+20\n",
      "1e+20\n",
      "9.426684551178777e+18\n",
      "for repeat 14, 9.057331544882122e+19\n",
      "1e+20\n",
      "1e+20\n",
      "1e+20\n",
      "1e+20\n",
      "9.426684551178777e+18\n",
      "for repeat 15, 9.057331544882122e+19\n",
      "1e+20\n",
      "1e+20\n",
      "9.426684551178777e+18\n",
      "1e+20\n",
      "1e+20\n",
      "for repeat 16, 9.057331544882122e+19\n",
      "1e+20\n",
      "1e+20\n",
      "1e+20\n",
      "1e+20\n",
      "1e+20\n",
      "for repeat 17, 0.0\n",
      "9.426684551178777e+18\n",
      "1e+20\n",
      "1e+20\n",
      "9.426684551178777e+18\n",
      "1e+20\n",
      "for repeat 18, 9.057331544882122e+19\n",
      "1e+20\n",
      "1e+20\n",
      "1e+20\n",
      "1e+20\n",
      "1e+20\n",
      "for repeat 19, 0.0\n",
      "8.886238162743261e+17\n",
      "1e+20\n",
      "9.426684551178777e+18\n",
      "1e+20\n",
      "1e+20\n",
      "for repeat 20, 9.911137618372567e+19\n",
      "1e+20\n",
      "1e+20\n",
      "9.426684551178777e+18\n",
      "1e+20\n",
      "1e+20\n",
      "for repeat 21, 9.057331544882122e+19\n",
      "1e+20\n",
      "1e+20\n",
      "1e+20\n",
      "1e+20\n",
      "9.426684551178777e+18\n",
      "for repeat 22, 9.057331544882122e+19\n",
      "1e+20\n",
      "9.426684551178777e+18\n",
      "1e+20\n",
      "1e+20\n",
      "1e+20\n",
      "for repeat 23, 9.057331544882122e+19\n",
      "1e+20\n",
      "9.426684551178777e+18\n",
      "1e+20\n",
      "1e+20\n",
      "1e+20\n",
      "for repeat 24, 9.057331544882122e+19\n",
      "1e+20\n",
      "1e+20\n",
      "1e+20\n",
      "1e+20\n",
      "9.426684551178777e+18\n",
      "for repeat 25, 9.057331544882122e+19\n",
      "1e+20\n",
      "9.426684551178777e+18\n",
      "1e+20\n",
      "1e+20\n",
      "1e+20\n",
      "for repeat 26, 9.057331544882122e+19\n",
      "1e+20\n",
      "8.886238162743261e+17\n",
      "1e+20\n",
      "1e+20\n",
      "1e+20\n",
      "for repeat 27, 9.911137618372567e+19\n",
      "1e+20\n",
      "1e+20\n",
      "1e+20\n",
      "1e+20\n",
      "1e+20\n",
      "for repeat 28, 0.0\n",
      "9.426684551178777e+18\n",
      "9.426684551178777e+18\n",
      "1e+20\n",
      "1e+20\n",
      "1e+20\n",
      "for repeat 29, 9.057331544882122e+19\n",
      "1e+20\n",
      "1e+20\n",
      "1e+20\n",
      "1e+20\n",
      "9.426684551178777e+18\n",
      "for repeat 30, 9.057331544882122e+19\n",
      "1e+20\n",
      "1e+20\n",
      "1e+20\n",
      "1e+20\n",
      "9.426684551178777e+18\n",
      "for repeat 31, 9.057331544882122e+19\n",
      "1e+20\n",
      "9.426684551178777e+18\n",
      "1e+20\n",
      "1e+20\n",
      "1e+20\n",
      "for repeat 32, 9.057331544882122e+19\n",
      "1e+20\n",
      "1e+20\n",
      "1e+20\n",
      "1e+20\n",
      "1e+20\n",
      "for repeat 33, 0.0\n",
      "9.426684551178777e+18\n",
      "1e+20\n",
      "1e+20\n",
      "1e+20\n",
      "1e+20\n",
      "for repeat 34, 9.057331544882122e+19\n",
      "9.426684551178777e+18\n",
      "9.426684551178777e+18\n",
      "1e+20\n",
      "1e+20\n",
      "1e+20\n",
      "for repeat 35, 9.057331544882122e+19\n",
      "1e+20\n",
      "1e+20\n",
      "1e+20\n",
      "1e+20\n",
      "1e+20\n",
      "for repeat 36, 0.0\n",
      "9.426684551178777e+18\n",
      "1e+20\n",
      "1e+20\n",
      "9.426684551178777e+18\n",
      "1e+20\n",
      "for repeat 37, 9.057331544882122e+19\n",
      "1e+20\n",
      "1e+20\n",
      "1e+20\n",
      "1e+20\n",
      "9.426684551178777e+18\n",
      "for repeat 38, 9.057331544882122e+19\n",
      "1e+20\n",
      "1e+20\n",
      "1e+20\n",
      "1e+20\n",
      "9.426684551178777e+18\n",
      "for repeat 39, 9.057331544882122e+19\n",
      "1e+20\n",
      "1e+20\n",
      "1e+20\n",
      "9.426684551178777e+18\n",
      "1e+20\n",
      "for repeat 40, 9.057331544882122e+19\n",
      "1e+20\n",
      "1e+20\n",
      "1e+20\n",
      "1e+20\n",
      "8.886238162743261e+17\n",
      "for repeat 41, 9.911137618372567e+19\n",
      "1e+20\n",
      "9.426684551178777e+18\n",
      "1e+20\n",
      "1e+20\n",
      "1e+20\n",
      "for repeat 42, 9.057331544882122e+19\n",
      "1e+20\n",
      "1e+20\n",
      "1e+20\n",
      "1e+20\n",
      "9.426684551178777e+18\n",
      "for repeat 43, 9.057331544882122e+19\n",
      "1e+20\n",
      "1e+20\n",
      "1e+20\n",
      "9.426684551178777e+18\n",
      "1e+20\n",
      "for repeat 44, 9.057331544882122e+19\n",
      "1e+20\n",
      "1e+20\n",
      "1e+20\n",
      "1e+20\n",
      "1e+20\n",
      "for repeat 45, 0.0\n",
      "9.426684551178777e+18\n",
      "9.426684551178777e+18\n",
      "1e+20\n",
      "1e+20\n",
      "1e+20\n",
      "for repeat 46, 9.057331544882122e+19\n",
      "1e+20\n",
      "9.426684551178777e+18\n",
      "1e+20\n",
      "1e+20\n",
      "1e+20\n",
      "for repeat 47, 9.057331544882122e+19\n",
      "1e+20\n",
      "1e+20\n",
      "1e+20\n",
      "1e+20\n",
      "1e+20\n",
      "for repeat 48, 0.0\n",
      "9.426684551178777e+18\n",
      "1e+20\n",
      "1e+20\n",
      "1e+20\n",
      "9.426684551178777e+18\n",
      "for repeat 49, 9.057331544882122e+19\n",
      "1e+20\n",
      "1e+20\n",
      "1e+20\n",
      "1e+20\n",
      "9.426684551178777e+18\n",
      "for repeat 50, 9.057331544882122e+19\n",
      "1e+20\n",
      "9.426684551178777e+18\n",
      "1e+20\n",
      "1e+20\n",
      "1e+20\n",
      "for repeat 51, 9.057331544882122e+19\n",
      "1e+20\n",
      "9.426684551178777e+18\n",
      "1e+20\n",
      "1e+20\n",
      "1e+20\n",
      "for repeat 52, 9.057331544882122e+19\n",
      "1e+20\n",
      "9.426684551178777e+18\n",
      "1e+20\n",
      "1e+20\n",
      "1e+20\n",
      "for repeat 53, 9.057331544882122e+19\n",
      "1e+20\n",
      "1e+20\n",
      "1e+20\n",
      "1e+20\n",
      "9.426684551178777e+18\n",
      "for repeat 54, 9.057331544882122e+19\n",
      "1e+20\n",
      "9.426684551178777e+18\n",
      "1e+20\n",
      "1e+20\n",
      "1e+20\n",
      "for repeat 55, 9.057331544882122e+19\n",
      "1e+20\n",
      "1e+20\n",
      "1e+20\n",
      "1e+20\n",
      "9.426684551178777e+18\n",
      "for repeat 56, 9.057331544882122e+19\n",
      "1e+20\n",
      "9.426684551178777e+18\n",
      "1e+20\n",
      "1e+20\n",
      "1e+20\n",
      "for repeat 57, 9.057331544882122e+19\n",
      "1e+20\n",
      "9.426684551178777e+18\n",
      "1e+20\n",
      "1e+20\n",
      "1e+20\n",
      "for repeat 58, 9.057331544882122e+19\n",
      "1e+20\n",
      "1e+20\n",
      "1e+20\n",
      "9.426684551178777e+18\n",
      "1e+20\n",
      "for repeat 59, 9.057331544882122e+19\n",
      "1e+20\n",
      "1e+20\n",
      "1e+20\n",
      "1e+20\n",
      "9.426684551178777e+18\n",
      "for repeat 60, 9.057331544882122e+19\n",
      "1e+20\n",
      "1e+20\n",
      "1e+20\n",
      "1e+20\n",
      "1e+20\n",
      "for repeat 61, 0.0\n",
      "9.426684551178777e+18\n",
      "9.426684551178777e+18\n",
      "1e+20\n",
      "1e+20\n",
      "1e+20\n",
      "for repeat 62, 9.057331544882122e+19\n",
      "1e+20\n",
      "1e+20\n",
      "1e+20\n",
      "1e+20\n",
      "9.426684551178777e+18\n",
      "for repeat 63, 9.057331544882122e+19\n",
      "1e+20\n",
      "1e+20\n",
      "1e+20\n",
      "9.426684551178777e+18\n",
      "1e+20\n",
      "for repeat 64, 9.057331544882122e+19\n",
      "1e+20\n",
      "1e+20\n",
      "9.426684551178777e+18\n",
      "1e+20\n",
      "1e+20\n",
      "for repeat 65, 9.057331544882122e+19\n",
      "1e+20\n",
      "1e+20\n",
      "1e+20\n",
      "1e+20\n",
      "1e+20\n",
      "for repeat 66, 0.0\n",
      "9.426684551178777e+18\n",
      "1e+20\n",
      "1e+20\n",
      "1e+20\n",
      "8.886238162743261e+17\n",
      "for repeat 67, 9.911137618372567e+19\n",
      "1e+20\n",
      "1e+20\n",
      "1e+20\n",
      "1e+20\n",
      "9.426684551178777e+18\n",
      "for repeat 68, 9.057331544882122e+19\n",
      "1e+20\n",
      "9.426684551178777e+18\n",
      "1e+20\n",
      "1e+20\n",
      "1e+20\n",
      "for repeat 69, 9.057331544882122e+19\n",
      "1e+20\n",
      "1e+20\n",
      "1e+20\n",
      "1e+20\n",
      "9.426684551178777e+18\n",
      "for repeat 70, 9.057331544882122e+19\n",
      "1e+20\n",
      "9.426684551178777e+18\n",
      "1e+20\n",
      "1e+20\n",
      "1e+20\n",
      "for repeat 71, 9.057331544882122e+19\n",
      "1e+20\n",
      "1e+20\n",
      "1e+20\n",
      "1e+20\n",
      "9.426684551178777e+18\n",
      "for repeat 72, 9.057331544882122e+19\n",
      "1e+20\n",
      "9.426684551178777e+18\n",
      "1e+20\n",
      "1e+20\n",
      "1e+20\n",
      "for repeat 73, 9.057331544882122e+19\n",
      "1e+20\n",
      "9.426684551178777e+18\n",
      "1e+20\n",
      "1e+20\n",
      "1e+20\n",
      "for repeat 74, 9.057331544882122e+19\n",
      "1e+20\n",
      "1e+20\n",
      "1e+20\n",
      "9.426684551178777e+18\n",
      "1e+20\n",
      "for repeat 75, 9.057331544882122e+19\n",
      "1e+20\n",
      "1e+20\n",
      "1e+20\n",
      "1e+20\n",
      "1e+20\n",
      "for repeat 76, 0.0\n",
      "9.426684551178777e+18\n",
      "1e+20\n",
      "1e+20\n",
      "1e+20\n",
      "1e+20\n",
      "for repeat 77, 9.057331544882122e+19\n",
      "9.426684551178777e+18\n",
      "9.426684551178777e+18\n",
      "1e+20\n",
      "1e+20\n",
      "1e+20\n",
      "for repeat 78, 9.057331544882122e+19\n",
      "1e+20\n",
      "9.426684551178777e+18\n",
      "1e+20\n",
      "1e+20\n",
      "1e+20\n",
      "for repeat 79, 9.057331544882122e+19\n",
      "1e+20\n",
      "1e+20\n",
      "1e+20\n",
      "9.426684551178777e+18\n",
      "1e+20\n",
      "for repeat 80, 9.057331544882122e+19\n",
      "1e+20\n",
      "1e+20\n",
      "1e+20\n",
      "1e+20\n",
      "8.886238162743261e+17\n",
      "for repeat 81, 9.911137618372567e+19\n",
      "1e+20\n",
      "1e+20\n",
      "9.426684551178777e+18\n",
      "1e+20\n",
      "1e+20\n",
      "for repeat 82, 9.057331544882122e+19\n",
      "1e+20\n",
      "1e+20\n",
      "1e+20\n",
      "1e+20\n",
      "1e+20\n",
      "for repeat 83, 0.0\n",
      "8.886238162743261e+17\n",
      "9.426684551178777e+18\n",
      "1e+20\n",
      "1e+20\n",
      "1e+20\n",
      "for repeat 84, 9.911137618372567e+19\n",
      "1e+20\n",
      "9.426684551178777e+18\n",
      "1e+20\n",
      "1e+20\n",
      "1e+20\n",
      "for repeat 85, 9.057331544882122e+19\n",
      "1e+20\n",
      "1e+20\n",
      "9.426684551178777e+18\n",
      "1e+20\n",
      "1e+20\n",
      "for repeat 86, 9.057331544882122e+19\n",
      "1e+20\n",
      "1e+20\n",
      "1e+20\n",
      "1e+20\n",
      "1e+20\n",
      "for repeat 87, 0.0\n",
      "9.426684551178777e+18\n",
      "1e+20\n",
      "1e+20\n",
      "1e+20\n",
      "9.426684551178777e+18\n",
      "for repeat 88, 9.057331544882122e+19\n",
      "1e+20\n",
      "9.426684551178777e+18\n",
      "1e+20\n",
      "1e+20\n",
      "1e+20\n",
      "for repeat 89, 9.057331544882122e+19\n",
      "1e+20\n",
      "9.426684551178777e+18\n",
      "1e+20\n",
      "1e+20\n",
      "1e+20\n",
      "for repeat 90, 9.057331544882122e+19\n",
      "1e+20\n",
      "1e+20\n",
      "1e+20\n",
      "1e+20\n",
      "8.886238162743261e+17\n",
      "for repeat 91, 9.911137618372567e+19\n",
      "1e+20\n",
      "8.886238162743261e+17\n",
      "1e+20\n",
      "1e+20\n",
      "1e+20\n",
      "for repeat 92, 9.911137618372567e+19\n",
      "1e+20\n",
      "1e+20\n",
      "9.426684551178777e+18\n",
      "1e+20\n",
      "1e+20\n",
      "for repeat 93, 9.057331544882122e+19\n",
      "1e+20\n",
      "1e+20\n",
      "1e+20\n",
      "1e+20\n",
      "9.426684551178777e+18\n",
      "for repeat 94, 9.057331544882122e+19\n",
      "1e+20\n",
      "1e+20\n",
      "1e+20\n",
      "1e+20\n",
      "9.426684551178777e+18\n",
      "for repeat 95, 9.057331544882122e+19\n",
      "1e+20\n",
      "1e+20\n",
      "1e+20\n",
      "9.426684551178777e+18\n",
      "1e+20\n",
      "for repeat 96, 9.057331544882122e+19\n",
      "1e+20\n",
      "1e+20\n",
      "1e+20\n",
      "1e+20\n",
      "1e+20\n",
      "for repeat 97, 0.0\n",
      "9.426684551178777e+18\n",
      "1e+20\n",
      "9.426684551178777e+18\n",
      "1e+20\n",
      "1e+20\n",
      "for repeat 98, 9.057331544882122e+19\n",
      "1e+20\n",
      "1e+20\n",
      "1e+20\n",
      "1e+20\n",
      "8.886238162743261e+17\n",
      "for repeat 99, 9.911137618372567e+19\n",
      "1e+20\n",
      "9.426684551178777e+18\n",
      "1e+20\n",
      "1e+20\n",
      "1e+20\n",
      "for repeat 100, 9.057331544882122e+19\n",
      "1e+20\n"
     ]
    }
   ],
   "source": [
    "\n",
    "i=0;j=0;splist=[]\n",
    "for train,test in cv.split(X,y):\n",
    "    #print(train,test)\n",
    "    i+=1\n",
    "    if i==n_splits:\n",
    "        j+=1\n",
    "        print(f'for repeat {j}, {np.ptp(np.array(splist))}') # find the range of the ranges for each repeat\n",
    "        splist=[]\n",
    "        i=0\n",
    "    range_i=np.ptp(y[train])\n",
    "    splist.append(range_i)\n",
    "    print(range_i)\n",
    "    "
   ]
  },
  {
   "cell_type": "code",
   "execution_count": 13,
   "metadata": {},
   "outputs": [
    {
     "data": {
      "text/plain": [
       "1e+20"
      ]
     },
     "execution_count": 13,
     "metadata": {},
     "output_type": "execute_result"
    }
   ],
   "source": [
    "1E20"
   ]
  },
  {
   "cell_type": "code",
   "execution_count": 16,
   "metadata": {},
   "outputs": [
    {
     "data": {
      "text/plain": [
       "array([1.e-10, 1.e-09, 1.e-08, 1.e-07, 1.e-06, 1.e-05, 1.e-04, 1.e-03,\n",
       "       1.e-02, 1.e-01, 1.e+00, 1.e+01, 1.e+02, 1.e+03, 1.e+04, 1.e+05,\n",
       "       1.e+06, 1.e+07, 1.e+08, 1.e+09, 1.e+10])"
      ]
     },
     "execution_count": 16,
     "metadata": {},
     "output_type": "execute_result"
    }
   ],
   "source": [
    "n=20\n",
    "y=np.logspace(-n//2,n//2,n+1)\n",
    "y"
   ]
  },
  {
   "cell_type": "code",
   "execution_count": 13,
   "metadata": {},
   "outputs": [],
   "source": [
    "a=np.arange(20)+0.5\n",
    "np.random.shuffle(a)"
   ]
  },
  {
   "cell_type": "code",
   "execution_count": 14,
   "metadata": {},
   "outputs": [
    {
     "name": "stdout",
     "output_type": "stream",
     "text": [
      "[16.5 10.5  8.5  3.5 19.5  4.5  7.5  6.5 13.5 12.5 14.5 18.5  5.5 15.5\n",
      " 11.5  9.5  0.5  1.5 17.5  2.5]\n"
     ]
    }
   ],
   "source": [
    "print(a)"
   ]
  },
  {
   "cell_type": "code",
   "execution_count": 15,
   "metadata": {},
   "outputs": [
    {
     "data": {
      "text/plain": [
       "array([16.5, 10.5,  8.5,  3.5, 19.5,  4.5,  7.5,  6.5, 13.5, 12.5, 14.5,\n",
       "       18.5,  5.5, 15.5, 11.5,  9.5,  0.5,  1.5, 17.5,  2.5])"
      ]
     },
     "execution_count": 15,
     "metadata": {},
     "output_type": "execute_result"
    }
   ],
   "source": [
    "a[np.argsort(a)][np.argsort(np.argsort(a))]"
   ]
  },
  {
   "cell_type": "code",
   "execution_count": 21,
   "metadata": {},
   "outputs": [
    {
     "data": {
      "text/plain": [
       "array([16, 17, 19,  3,  5, 12,  7,  6,  2, 15,  1, 14,  9,  8, 10, 13,  0,\n",
       "       18, 11,  4])"
      ]
     },
     "execution_count": 21,
     "metadata": {},
     "output_type": "execute_result"
    }
   ],
   "source": [
    "a_srt_idx=np.argsort(a)\n",
    "b=a[a_srt_idx]\n",
    "a_srt_idx"
   ]
  },
  {
   "cell_type": "code",
   "execution_count": 22,
   "metadata": {},
   "outputs": [],
   "source": [
    "a_unsrt_idx=np.argsort(a_srt_idx)\n"
   ]
  },
  {
   "cell_type": "code",
   "execution_count": 23,
   "metadata": {},
   "outputs": [
    {
     "data": {
      "text/plain": [
       "array([16, 10,  8,  3, 19,  4,  7,  6, 13, 12, 14, 18,  5, 15, 11,  9,  0,\n",
       "        1, 17,  2])"
      ]
     },
     "execution_count": 23,
     "metadata": {},
     "output_type": "execute_result"
    }
   ],
   "source": [
    "a_unsrt_idx"
   ]
  },
  {
   "cell_type": "code",
   "execution_count": 19,
   "metadata": {},
   "outputs": [
    {
     "data": {
      "text/plain": [
       "array([ 0.5,  1.5,  2.5,  3.5,  4.5,  5.5,  6.5,  7.5,  8.5,  9.5, 10.5,\n",
       "       11.5, 12.5, 13.5, 14.5, 15.5, 16.5, 17.5, 18.5, 19.5])"
      ]
     },
     "execution_count": 19,
     "metadata": {},
     "output_type": "execute_result"
    }
   ],
   "source": [
    "b"
   ]
  },
  {
   "cell_type": "code",
   "execution_count": 20,
   "metadata": {},
   "outputs": [
    {
     "data": {
      "text/plain": [
       "array([16.5, 10.5,  8.5,  3.5, 19.5,  4.5,  7.5,  6.5, 13.5, 12.5, 14.5,\n",
       "       18.5,  5.5, 15.5, 11.5,  9.5,  0.5,  1.5, 17.5,  2.5])"
      ]
     },
     "execution_count": 20,
     "metadata": {},
     "output_type": "execute_result"
    }
   ],
   "source": [
    "b[a_unsrt_idx]"
   ]
  },
  {
   "cell_type": "code",
   "execution_count": null,
   "metadata": {},
   "outputs": [],
   "source": []
  }
 ],
 "metadata": {
  "kernelspec": {
   "display_name": "Python 3",
   "language": "python",
   "name": "python3"
  },
  "language_info": {
   "codemirror_mode": {
    "name": "ipython",
    "version": 3
   },
   "file_extension": ".py",
   "mimetype": "text/x-python",
   "name": "python",
   "nbconvert_exporter": "python",
   "pygments_lexer": "ipython3",
   "version": "3.8.5"
  }
 },
 "nbformat": 4,
 "nbformat_minor": 4
}
