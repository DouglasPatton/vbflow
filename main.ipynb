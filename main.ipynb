{
 "cells": [
  {
   "cell_type": "code",
   "execution_count": null,
   "metadata": {},
   "outputs": [],
   "source": []
  },
  {
   "cell_type": "markdown",
   "metadata": {},
   "source": [
    "## Model Selection\n",
    "### define estimators\n",
    "#### example:\n",
    " - make_pipeline(\n",
    "   - handle missing values,\n",
    "     - global: drop_rows or impute \n",
    "       - could also look for columns with many missing vals first\n",
    "     - set cv_drop_rows variable if rows are dropped to make sure GBR doesn't use those in cross validation\n",
    "   \n",
    "   - make transformed columns,\n",
    "   - Multi CV (make our own wrapper that chooses the best of model variations)\n",
    "     - modify model (e.g., transform Y)\n",
    "       - combined selection/estimation (e.g., lars(https://scikit-learn.org/stable/modules/linear_model.html#least-angle-regression))\n",
    "       - pre-select-features -> CV estimate\n",
    "         - for lin reg with k>n, \n",
    "           - select features k << n\n",
    "           - project data such that k << n\n",
    "   - set final model as best in the pipeline based on chosen loss (mse default for continuous y)\n",
    "   \n",
    "   \n",
    "\n",
    "   \n"
   ]
  },
  {
   "cell_type": "code",
   "execution_count": null,
   "metadata": {},
   "outputs": [],
   "source": []
  },
  {
   "cell_type": "markdown",
   "metadata": {},
   "source": [
    "## Next Steps\n",
    "- ### add options for dealing with important but underrepresented values of Y\n",
    "- ### construct model averaging using average cross validation scores\n",
    "- ### predict with confidence intervals \n",
    "  -    #### could use variability from cv\n",
    "  -   #### some algorithms have their own method\n"
   ]
  }
 ],
 "metadata": {
  "kernelspec": {
   "display_name": "Python 3",
   "language": "python",
   "name": "python3"
  },
  "language_info": {
   "codemirror_mode": {
    "name": "ipython",
    "version": 3
   },
   "file_extension": ".py",
   "mimetype": "text/x-python",
   "name": "python",
   "nbconvert_exporter": "python",
   "pygments_lexer": "ipython3",
   "version": "3.7.6"
  }
 },
 "nbformat": 4,
 "nbformat_minor": 4
}
