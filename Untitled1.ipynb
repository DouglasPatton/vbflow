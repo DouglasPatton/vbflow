{
 "cells": [
  {
   "cell_type": "code",
   "execution_count": 1,
   "metadata": {},
   "outputs": [],
   "source": [
    "import numpy as np\n",
    "from sklearn.datasets import make_regression\n",
    "from sklearn.pipeline import make_pipeline,Pipeline\n",
    "from sklearn.linear_model import ElasticNetCV, LinearRegression, Lars\n",
    "from sklearn.svm import LinearSVR, SVR\n",
    "from sklearn.preprocessing import StandardScaler, FunctionTransformer, PolynomialFeatures\n",
    "from sklearn.model_selection import cross_validate, train_test_split, RepeatedKFold, GridSearchCV\n",
    "from sklearn.metrics import mean_squared_error, mean_absolute_error, r2_score\n",
    "from sklearn.ensemble import GradientBoostingRegressor\n",
    "from sklearn.compose import TransformedTargetRegressor\n",
    "import matplotlib.pyplot as plt"
   ]
  },
  {
   "cell_type": "code",
   "execution_count": 24,
   "metadata": {},
   "outputs": [
    {
     "name": "stdout",
     "output_type": "stream",
     "text": [
      "transformedtargetregressor and no intercept r2_score:  0.9999343800041816\n",
      "\n",
      "only standard scalar and no intercept r2_score:  0.3319175799267782\n"
     ]
    }
   ],
   "source": [
    "from sklearn.base import BaseEstimator, TransformerMixin\n",
    "from sklearn.pipeline import make_pipeline\n",
    "from sklearn.datasets import make_regression\n",
    "from sklearn.compose import TransformedTargetRegressor\n",
    "from sklearn.linear_model import LinearRegression\n",
    "from sklearn.preprocessing import StandardScaler\n",
    "import numpy as np\n",
    "\n",
    "class stdY(BaseEstimator,TransformerMixin):\n",
    "    def __init__(self):\n",
    "        pass\n",
    "    def fit(self,Y):#,y=None):\n",
    "        self.std_err=np.std(Y)\n",
    "        self.mean=np.mean(Y)\n",
    "        return self\n",
    "    def transform(self,Y):#,y=None):\n",
    "        return (Y-self.mean)/self.std_err\n",
    "    def inverse_transform(self,Y):#X,y=None):\n",
    "        return Y*self.std_err+self.mean\n",
    "no_int_pipe=make_pipeline(StandardScaler(),LinearRegression(fit_intercept=0))\n",
    "std_lin_reg=TransformedTargetRegressor(regressor=no_int_pipe, transformer=stdY())\n",
    "\n",
    "\n",
    "X, y, w = make_regression(n_samples=100,\n",
    "                          n_features=3, # x variables generated and returned \n",
    "                          n_informative=3, # x variables included in the actual model of y\n",
    "                          effective_rank=3, # make less than n_informative for multicollinearity\n",
    "                          coef=True,\n",
    "                          noise=0.1,\n",
    "                          random_state=0,\n",
    "                          bias=10)\n",
    "\n",
    "std_lin_reg.fit(X,y)\n",
    "print('transformedtargetregressor and no intercept r2_score: ',std_lin_reg.score(X,y))\n",
    "\n",
    "no_int_pipe.fit(X,y)\n",
    "print('\\nonly standard scalar and no intercept r2_score: ',no_int_pipe.score(X,y))"
   ]
  },
  {
   "cell_type": "code",
   "execution_count": 31,
   "metadata": {},
   "outputs": [
    {
     "name": "stdout",
     "output_type": "stream",
     "text": [
      "custom transformer on y and no intercept r2_score:  0.9999343800041816\n",
      "\n",
      "standard scaler on y and no intercept r2_score:  0.9999343800041816\n",
      "\n",
      "only standard scalar and no intercept r2_score:  0.3319175799267782\n"
     ]
    }
   ],
   "source": [
    "std_lin_reg.fit(X,y)\n",
    "print('custom transformer on y and no intercept r2_score: ',std_lin_reg.score(X,y))\n",
    "\n",
    "std_lin_reg_easy.fit(X,y)\n",
    "print('\\nstandard scaler on y and no intercept r2_score: ',std_lin_reg_easy.score(X,y))\n",
    "\n",
    "no_int_pipe.fit(X,y)\n",
    "print('\\nonly standard scalar and no intercept r2_score: ',no_int_pipe.score(X,y))"
   ]
  },
  {
   "cell_type": "code",
   "execution_count": 27,
   "metadata": {},
   "outputs": [
    {
     "name": "stdout",
     "output_type": "stream",
     "text": [
      "transformedtargetregressor and no intercept r2_score:  0.9999343800041816\n",
      "\n",
      "only standard scalar and no intercept r2_score:  0.3319175799267782\n"
     ]
    }
   ],
   "source": [
    "no_int_pipe=make_pipeline(StandardScaler(),LinearRegression(fit_intercept=0))\n",
    "std_lin_reg=TransformedTargetRegressor(regressor=no_int_pipe, transformer=StandardScaler())\n",
    "\n",
    "\n",
    "X, y, w = make_regression(n_samples=100,\n",
    "                          n_features=3, # x variables generated and returned \n",
    "                          n_informative=3, # x variables included in the actual model of y\n",
    "                          effective_rank=3, # make less than n_informative for multicollinearity\n",
    "                          coef=True,\n",
    "                          noise=0.1,\n",
    "                          random_state=0,\n",
    "                          bias=10)\n",
    "\n",
    "std_lin_reg2.fit(X,y)\n",
    "print('transformedtargetregressor and no intercept r2_score: ',std_lin_reg.score(X,y))\n",
    "\n",
    "no_int_pipe.fit(X,y)\n",
    "print('\\nonly standard scalar and no intercept r2_score: ',no_int_pipe.score(X,y))"
   ]
  },
  {
   "cell_type": "code",
   "execution_count": null,
   "metadata": {},
   "outputs": [],
   "source": []
  }
 ],
 "metadata": {
  "kernelspec": {
   "display_name": "Python 3",
   "language": "python",
   "name": "python3"
  },
  "language_info": {
   "codemirror_mode": {
    "name": "ipython",
    "version": 3
   },
   "file_extension": ".py",
   "mimetype": "text/x-python",
   "name": "python",
   "nbconvert_exporter": "python",
   "pygments_lexer": "ipython3",
   "version": "3.7.6"
  }
 },
 "nbformat": 4,
 "nbformat_minor": 4
}
