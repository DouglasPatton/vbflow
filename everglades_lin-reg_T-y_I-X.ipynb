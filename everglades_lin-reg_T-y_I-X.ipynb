{
 "cells": [
  {
   "cell_type": "markdown",
   "metadata": {},
   "source": [
    "### Setup"
   ]
  },
  {
   "cell_type": "code",
   "execution_count": 1,
   "metadata": {},
   "outputs": [],
   "source": [
    "import numpy as np\n",
    "from sklearn.datasets import make_regression\n",
    "from sklearn.pipeline import make_pipeline,Pipeline\n",
    "from sklearn.linear_model import ElasticNetCV, LinearRegression, Lars\n",
    "from sklearn.svm import LinearSVR, SVR\n",
    "from sklearn.preprocessing import StandardScaler, FunctionTransformer, PolynomialFeatures, OneHotEncoder\n",
    "from sklearn.model_selection import cross_validate, train_test_split, RepeatedKFold, GridSearchCV\n",
    "from sklearn.metrics import mean_squared_error, mean_absolute_error, r2_score\n",
    "from sklearn.ensemble import GradientBoostingRegressor\n",
    "from sklearn.compose import TransformedTargetRegressor\n",
    "import matplotlib.pyplot as plt\n",
    "from vb_helper import VBHelper,shrinkBigKTransformer,logminus_T,exp_T,logminplus1_T,none_T, logp1_T,missingValHandler\n",
    "import os\n",
    "import pandas as pd"
   ]
  },
  {
   "cell_type": "code",
   "execution_count": 2,
   "metadata": {},
   "outputs": [
    {
     "name": "stderr",
     "output_type": "stream",
     "text": [
      "Intel(R) Data Analytics Acceleration Library (Intel(R) DAAL) solvers for sklearn enabled: https://intelpython.github.io/daal4py/sklearn.html\n"
     ]
    }
   ],
   "source": [
    "import daal4py.sklearn\n",
    "daal4py.sklearn.patch_sklearn()"
   ]
  },
  {
   "cell_type": "code",
   "execution_count": 3,
   "metadata": {},
   "outputs": [],
   "source": [
    "from warnings import filterwarnings\n",
    "filterwarnings('ignore')"
   ]
  },
  {
   "cell_type": "code",
   "execution_count": 4,
   "metadata": {},
   "outputs": [],
   "source": [
    "test_share=0.2 \n",
    "cv_folds=10\n",
    "cv_reps=10\n",
    "cv_count=cv_folds*cv_reps\n",
    "rs=1 # random_state for reproducibility\n",
    "vbhelper=VBHelper(test_share,cv_folds,cv_reps,cv_count,rs)"
   ]
  },
  {
   "cell_type": "markdown",
   "metadata": {},
   "source": [
    "##### Example Dataset"
   ]
  },
  {
   "cell_type": "code",
   "execution_count": 5,
   "metadata": {},
   "outputs": [
    {
     "name": "stdout",
     "output_type": "stream",
     "text": [
      "['STA_ID', 'LONG', 'LAT', 'OrigHabCode', 'Date', 'THG_Fish', 'YEAR', 'SEASON', 'SUBAREA', 'HABCODE', 'Floc_Depth_ft', 'AFDW_Floc', 'MEHG_Floc', 'THG_floc', 'Tot_Phos_floc', 'Bulk_Dens_Floc', 'Soil_Thickness_FT', 'AFDW_Soil', 'Bulk_Dens_Soil', 'PH_soil', 'SO4_soil', 'MEHG_soil', 'THG_soil', 'Tot_Carbon_Soil_%', 'Tot_Nitrogen_Soil_%', 'Tot_Phos_soil', 'Wat_Depth_ft', 'COND_SW', 'DO_SW', 'TEMP_SW', 'PH_SW', 'TURB_SW', 'REDOX_SW', 'Alk_Phos_SW', 'CHLA_SW', 'CL_SW', 'MEHG_SW', 'NH4_SW', 'NO2_SW', 'NO3_SW', 'SO4_SW', 'Sol_Reac_Phos_SW', 'THG_SW', 'TOC_SW', 'Tot_Nitrogen_SW', 'Tot_Phos_SW', 'REDOX_PW', 'H2S_PW', 'Sol_Reac_Phos_PW', 'MEHG_Peri_AVG', 'THG_epi_peri']\n"
     ]
    }
   ],
   "source": [
    "data_path=os.path.join('sample_data','ex1.csv')\n",
    "df=pd.read_csv(data_path)\n",
    "all_vars=list(df.columns)\n",
    "print(all_vars)"
   ]
  },
  {
   "cell_type": "code",
   "execution_count": null,
   "metadata": {},
   "outputs": [],
   "source": []
  },
  {
   "cell_type": "code",
   "execution_count": 6,
   "metadata": {},
   "outputs": [],
   "source": [
    "y_name='THG_Fish'\n",
    "loc_vars=['LAT','LONG']\n",
    "drop_vars=['Date','OrigHabCode','STA_ID']\n",
    "drop_vars.extend(loc_vars)\n",
    "drop_vars.append(y_name)\n",
    "x_vars=[var for var in all_vars if var not in drop_vars]\n",
    "X_df=df.loc[:,x_vars]\n",
    "y_df=df.loc[:,y_name]"
   ]
  },
  {
   "cell_type": "code",
   "execution_count": 7,
   "metadata": {},
   "outputs": [],
   "source": [
    "include_intercept=1"
   ]
  },
  {
   "cell_type": "code",
   "execution_count": null,
   "metadata": {},
   "outputs": [],
   "source": []
  },
  {
   "cell_type": "code",
   "execution_count": 8,
   "metadata": {},
   "outputs": [],
   "source": [
    "# add interaction terms"
   ]
  },
  {
   "cell_type": "code",
   "execution_count": 9,
   "metadata": {},
   "outputs": [],
   "source": [
    "if test_share:\n",
    "     X_train, X_test, y_train, y_test = train_test_split(X_df, y_df, test_size=test_share, random_state=rs)\n",
    "else:\n",
    "    X_train, X_test, y_train, y_test = (X, None, y, None)"
   ]
  },
  {
   "cell_type": "code",
   "execution_count": 10,
   "metadata": {},
   "outputs": [],
   "source": [
    "n,k=X_train.shape\n",
    "\n",
    "max_k=n//2\n",
    "\n",
    "vbhelper.max_k=max_k"
   ]
  },
  {
   "cell_type": "code",
   "execution_count": null,
   "metadata": {},
   "outputs": [],
   "source": [
    "#set the strategy for handling missing values\n",
    "mis_val_strat='impute_middle' \n",
    "#'impute_middle' uses the mean for numerical and most frequent for categorical.\n",
    "# drop_row, impute_knn, impute_knn10"
   ]
  },
  {
   "cell_type": "code",
   "execution_count": 11,
   "metadata": {},
   "outputs": [],
   "source": [
    "pre_process_regression_lars=lambda: make_pipeline(missingValHandler(strategy=mis_val_strat),StandardScaler(),shrinkBigKTransformer(max_k=max_k),LinearRegression(fit_intercept=include_intercept))"
   ]
  },
  {
   "cell_type": "code",
   "execution_count": 12,
   "metadata": {},
   "outputs": [
    {
     "data": {
      "text/plain": [
       "Pipeline(steps=[('missingvalhandler',\n",
       "                 missingValHandler(strategy='impute_middle')),\n",
       "                ('standardscaler', StandardScaler()),\n",
       "                ('shrinkbigktransformer',\n",
       "                 shrinkBigKTransformer(max_k=309, selector='Lars')),\n",
       "                ('linearregression', LinearRegression(fit_intercept=1))])"
      ]
     },
     "execution_count": 12,
     "metadata": {},
     "output_type": "execute_result"
    }
   ],
   "source": [
    "model=pre_process_regression_lars()\n",
    "model.fit(X_df,y_df)\n"
   ]
  },
  {
   "cell_type": "code",
   "execution_count": 13,
   "metadata": {},
   "outputs": [
    {
     "name": "stdout",
     "output_type": "stream",
     "text": [
      "0.4953523463750513\n"
     ]
    },
    {
     "data": {
      "text/plain": [
       "0.5114395548901258"
      ]
     },
     "execution_count": 13,
     "metadata": {},
     "output_type": "execute_result"
    }
   ],
   "source": [
    "print(model.score(X_df,y_df))\n",
    "model.score(X_test,y_test)"
   ]
  },
  {
   "cell_type": "code",
   "execution_count": 14,
   "metadata": {},
   "outputs": [],
   "source": [
    "# use lambda to make a callable object for creating new models, but with args set already\n",
    "# may be unnecessary due to sklearn cloning\n",
    "\n",
    "\n",
    "linear_regression=lambda: make_pipeline(missingValHandler(strategy=mis_val_strat),StandardScaler(),LinearRegression(fit_intercept=include_intercept)) \n",
    "linear_regression_lars=lambda: make_pipeline(missingValHandler(strategy=mis_val_strat),StandardScaler(),shrinkBigKTransformer(max_k=max_k),LinearRegression(fit_intercept=include_intercept)) #https://scikit-learn.org/stable/modules/generated/sklearn.linear_model.Lars.html\n",
    "elastic_net =lambda: make_pipeline(missingValHandler(strategy=mis_val_strat),StandardScaler(), ElasticNetCV(fit_intercept=include_intercept))\n",
    "linear_svr =lambda: make_pipeline(missingValHandler(strategy=mis_val_strat),StandardScaler(),LinearSVR(fit_intercept=include_intercept,random_state=rs,tol=1e-4,max_iter=5000,C=1))\n",
    "rbf_svr=lambda: make_pipeline(missingValHandler(strategy=mis_val_strat),StandardScaler(),SVR(kernel='rbf',tol=1e-4,max_iter=5000, C=1))\n",
    "gradient_boosting_reg=lambda: make_pipeline(GradientBoostingRegressor())\n",
    "\n",
    "g_pts=3 # grid points for gridsearchcv param_grid \n",
    "linear_svr = Pipeline(steps=[('pre_processor',missingValHandler(strategy=mis_val_strat)),('scaler',StandardScaler()),('lin_svr',LinearSVR(random_state=0,tol=1e-4,max_iter=10000))])\n",
    "lin_svr_param_grid={'lin_svr__C':np.logspace(-2,2,g_pts)}\n",
    "linear_svr_cv=lambda: GridSearchCV(linear_svr,param_grid=lin_svr_param_grid)\n",
    "\n",
    "rbf_svr=Pipeline(steps=[('pre_processor',missingValHandler(strategy=mis_val_strat)),('scaler',StandardScaler()),('rbf_svr',SVR(kernel='rbf',tol=1e-4,max_iter=10000, cache_size=2*10**3))])\n",
    "rbf_svr_param_grid={'rbf_svr__C':np.logspace(-2,2,g_pts),'rbf_svr__gamma':np.logspace(-1,0.5,g_pts)} \n",
    "rbf_svr_cv=lambda: GridSearchCV(rbf_svr,param_grid=rbf_svr_param_grid)\n"
   ]
  },
  {
   "cell_type": "code",
   "execution_count": 15,
   "metadata": {},
   "outputs": [],
   "source": [
    "transformer_list=[none_T(),logp1_T ()]#[logminplus1_T(),none_T(),logminus_T()]#exp_T()] # imported...\n",
    "lin_reg_y_t_pipe=Pipeline(steps=[('ttr',TransformedTargetRegressor(regressor=linear_regression_lars()))])\n",
    "lin_reg_y_t_param_grid={'ttr__transformer':transformer_list}\n",
    "lin_reg_y_transform=lambda: GridSearchCV(lin_reg_y_t_pipe,param_grid=lin_reg_y_t_param_grid)"
   ]
  },
  {
   "cell_type": "markdown",
   "metadata": {},
   "source": [
    "#### add PolynomialFeatures() to gridsearch\n",
    "#### and try shrinking the number of parameters"
   ]
  },
  {
   "cell_type": "code",
   "execution_count": 16,
   "metadata": {},
   "outputs": [],
   "source": [
    "steps=[\n",
    "    ('scaler',StandardScaler()),\n",
    "    ('shrink_k1',shrinkBigKTransformer()), # retain a subset of the best original variables\n",
    "    ('polyfeat',PolynomialFeatures(interaction_only=1)), # create interactions among them\n",
    "    ('shrink_k2',shrinkBigKTransformer(selector='elastic-net')), # pick from all of those options\n",
    "    ('reg',linear_regression())]\n",
    "\n",
    "lin_reg_X_t_pipe=Pipeline(steps=steps)\n",
    "lin_reg_X_t_param_grid={'polyfeat__degree':[2],\n",
    "                        'shrink_k1__max_k':np.array(range(2,k))}\n",
    "cv=RepeatedKFold(n_splits=cv_folds, n_repeats=cv_reps, random_state=rs) \n",
    "\n",
    "lin_reg_Xy_t_pipe=Pipeline(steps=[('ttr',TransformedTargetRegressor(regressor=lin_reg_X_t_pipe))])\n",
    "lin_reg_Xy_t_param_grid={'ttr__transformer':transformer_list}\n",
    "lin_reg_Xy_transform=lambda: GridSearchCV(lin_reg_Xy_t_pipe,param_grid=lin_reg_Xy_t_param_grid)\n",
    "\n"
   ]
  },
  {
   "cell_type": "code",
   "execution_count": 17,
   "metadata": {},
   "outputs": [],
   "source": [
    "estimator_dict={'linear-regression':linear_regression,\n",
    "                'linear-regression-lars':linear_regression_lars,\n",
    "                'lin_reg_y_transform':lin_reg_y_transform,\n",
    "                #'lin_reg_Xy_transform':lin_reg_Xy_transform,\n",
    "                'elastic-net':elastic_net, \n",
    "                'linear-svr-cv':linear_svr_cv, \n",
    "                'rbf-svr-cv':rbf_svr_cv, \n",
    "                'gradient-boosting-reg':gradient_boosting_reg\n",
    "               }\n",
    "vbhelper.estimator_dict=estimator_dict\n",
    "model_dict={key:val() for key,val in estimator_dict.items()} # they will be models once .fit is called"
   ]
  },
  {
   "cell_type": "code",
   "execution_count": 18,
   "metadata": {},
   "outputs": [],
   "source": [
    "scorer_list=['neg_mean_squared_error', 'neg_mean_absolute_error', 'r2'] #cross_validate wants strings\n",
    "cv=RepeatedKFold(n_splits=cv_folds, n_repeats=cv_reps, random_state=rs) # define separately to ensure same cv data used for each model\n",
    "vbhelper.scorer_list=scorer_list\n",
    "# allow/generate water quality thresholds for stratified kfold sub-sampling to ensure cross-validation folds have full range of water quality"
   ]
  },
  {
   "cell_type": "code",
   "execution_count": 19,
   "metadata": {},
   "outputs": [
    {
     "name": "stdout",
     "output_type": "stream",
     "text": [
      "1\n",
      "0.4227732760846693\n",
      "2\n",
      "0.4229363455111439\n",
      "3\n",
      "0.42048386374419144\n"
     ]
    }
   ],
   "source": [
    "i=0\n",
    "for name,est in model_dict.items():\n",
    "    i+=1;print(i)\n",
    "    est.fit(X_train,y_train)\n",
    "    print(est.score(X_test,y_test))\n"
   ]
  },
  {
   "cell_type": "code",
   "execution_count": null,
   "metadata": {},
   "outputs": [],
   "source": []
  },
  {
   "cell_type": "code",
   "execution_count": 20,
   "metadata": {},
   "outputs": [],
   "source": [
    "cv_results={estimator_name:cross_validate(model, X_train, y_train, return_estimator=True, scoring=scorer_list, cv=cv)\n",
    "            for estimator_name,model in model_dict.items()}\n",
    "# replace with a loop in order to save the residuals for a graph?"
   ]
  },
  {
   "cell_type": "markdown",
   "metadata": {},
   "source": [
    "### graphs and table to summarize results"
   ]
  },
  {
   "cell_type": "code",
   "execution_count": 21,
   "metadata": {},
   "outputs": [],
   "source": [
    "cv_score_dict={}\n",
    "cv_score_dict_means={}\n",
    "for idx,(estimator_name,result) in enumerate(cv_results.items()):\n",
    "    #cv_estimators=result['estimator']\n",
    "    model_idx_scoredict={scorer:result[f'test_{scorer}'] for scorer in scorer_list}# fstring bc how cross_validate stores list of metrics\n",
    "    cv_score_dict[estimator_name]=model_idx_scoredict \n",
    "    model_idx_mean_scores={scorer:np.mean(scores) for scorer,scores in model_idx_scoredict.items()}\n",
    "    cv_score_dict_means[estimator_name]=model_idx_mean_scores"
   ]
  },
  {
   "cell_type": "code",
   "execution_count": 22,
   "metadata": {},
   "outputs": [
    {
     "name": "stdout",
     "output_type": "stream",
     "text": [
      "scores for scorer: neg_mean_squared_error:\n",
      "    linear-regression:-7405.005932424824\n",
      "    linear-regression-lars:-7406.112260057654\n",
      "    elastic-net:-7218.161013820977\n",
      "scores for scorer: neg_mean_absolute_error:\n",
      "    linear-regression:-64.25165684001655\n",
      "    linear-regression-lars:-64.25370395924564\n",
      "    elastic-net:-63.010012086342094\n",
      "scores for scorer: r2:\n",
      "    linear-regression:0.3779276101419724\n",
      "    linear-regression-lars:0.3778376866642095\n",
      "    elastic-net:0.4024260695718916\n"
     ]
    }
   ],
   "source": [
    "for scorer in scorer_list:\n",
    "    print(f'scores for scorer: {scorer}:')\n",
    "    for estimator_name in model_dict:\n",
    "        print(f'    {estimator_name}:{cv_score_dict_means[estimator_name][scorer]}')"
   ]
  },
  {
   "cell_type": "code",
   "execution_count": 23,
   "metadata": {},
   "outputs": [
    {
     "data": {
      "image/png": "[encoded data removed]",
      "text/plain": [
       "<Figure size 864x1080 with 3 Axes>"
      ]
     },
     "metadata": {
      "needs_background": "light"
     },
     "output_type": "display_data"
    }
   ],
   "source": [
    "vbhelper.plotCVScores(cv_score_dict,sort=1)"
   ]
  },
  {
   "cell_type": "code",
   "execution_count": 24,
   "metadata": {},
   "outputs": [],
   "source": [
    "# create a similar plot showing residuals from the cv models for each value of y. \n",
    "# needs to be scatterplot or histogram since there will be (folds-1)*repeats predictions of each value of y."
   ]
  },
  {
   "cell_type": "markdown",
   "metadata": {},
   "source": [
    "-----------------------------\n",
    "### User chooses Linear Regression with LARS variable selection!\n"
   ]
  },
  {
   "cell_type": "code",
   "execution_count": 25,
   "metadata": {},
   "outputs": [],
   "source": [
    "final_estimator_name='linear-regression-lars'"
   ]
  },
  {
   "cell_type": "code",
   "execution_count": 26,
   "metadata": {},
   "outputs": [],
   "source": [
    "def printTestandCVScores(estimator_name,cv_score_dict_means):\n",
    "    model=estimator_dict[estimator_name]()\n",
    "    model.fit(X_train,y_train)\n",
    "    if test_share:\n",
    "        y_test_hat=model.predict(X_test)\n",
    "        print(f'test set: negative-mse={-mean_squared_error(y_test,y_test_hat)}')\n",
    "    for scorer in scorer_list:\n",
    "        print(f'cv avg: {scorer}= {cv_score_dict_means[estimator_name][scorer]}')\n",
    "    try:\n",
    "        print('coefficients: ',model[-1].coef_)\n",
    "        print('intercept: ',model[-1].intercept_)\n",
    "        #print('\\n','original positions: ',model[-2].col_select)\n",
    "    except:\n",
    "        pass"
   ]
  },
  {
   "cell_type": "code",
   "execution_count": 27,
   "metadata": {},
   "outputs": [
    {
     "name": "stdout",
     "output_type": "stream",
     "text": [
      "linear-regression\n",
      "test set: negative-mse=-10320.056497238538\n",
      "cv avg: neg_mean_squared_error= -7406.112260057654\n",
      "cv avg: neg_mean_absolute_error= -64.25370395924564\n",
      "cv avg: r2= 0.3778376866642095\n",
      "coefficients:  [-5.32577954e+00  2.98033204e-02 -4.33428339e+00  2.86864330e+00\n",
      " -7.06724218e+00  2.01660388e+00  4.63219005e-01  4.72652384e+00\n",
      " -5.97423644e+00 -8.87851601e-01 -8.24919025e+00  3.60077300e+00\n",
      "  2.29647847e+01  4.94718241e+00  1.15036271e+01 -5.93977608e+00\n",
      "  1.05029097e+00 -5.76817819e+00  7.42574640e+00 -3.82612842e+00\n",
      "  4.94498711e-01  5.02519538e+00 -1.68268226e+00 -9.70945136e+00\n",
      "  4.68577860e-01  8.08188309e+00  2.37132444e+01 -6.13876210e+00\n",
      "  8.50536267e-01 -1.26443025e+00 -1.30117369e+01  4.85204617e+00\n",
      "  8.89810911e+00 -1.10838385e+01 -6.32360991e+00 -4.36518611e+00\n",
      "  2.98355686e+00  3.44151942e+00  2.70961323e+00  2.93873109e+01\n",
      "  1.38635041e+00 -2.35723205e+01  2.03067061e+01  4.37772622e+00\n",
      " -3.15632751e+01 -1.29814849e+01  1.15600745e+01 -1.54105357e+01\n",
      " -2.85003260e+01  2.44677806e-01  9.90142688e+00 -2.54606005e+00\n",
      "  2.26638628e+00  7.03062188e+00]\n",
      "intercept:  135.926171243942\n",
      "linear-regression-lars\n",
      "test set: negative-mse=-10320.056497238538\n",
      "cv avg: neg_mean_squared_error= -7406.112260057654\n",
      "cv avg: neg_mean_absolute_error= -64.25370395924564\n",
      "cv avg: r2= 0.3778376866642095\n",
      "coefficients:  [-5.32577954e+00  2.98033204e-02 -4.33428339e+00  2.86864330e+00\n",
      " -7.06724218e+00  2.01660388e+00  4.63219005e-01  4.72652384e+00\n",
      " -5.97423644e+00 -8.87851601e-01 -8.24919025e+00  3.60077300e+00\n",
      "  2.29647847e+01  4.94718241e+00  1.15036271e+01 -5.93977608e+00\n",
      "  1.05029097e+00 -5.76817819e+00  7.42574640e+00 -3.82612842e+00\n",
      "  4.94498711e-01  5.02519538e+00 -1.68268226e+00 -9.70945136e+00\n",
      "  4.68577860e-01  8.08188309e+00  2.37132444e+01 -6.13876210e+00\n",
      "  8.50536267e-01 -1.26443025e+00 -1.30117369e+01  4.85204617e+00\n",
      "  8.89810911e+00 -1.10838385e+01 -6.32360991e+00 -4.36518611e+00\n",
      "  2.98355686e+00  3.44151942e+00  2.70961323e+00  2.93873109e+01\n",
      "  1.38635041e+00 -2.35723205e+01  2.03067061e+01  4.37772622e+00\n",
      " -3.15632751e+01 -1.29814849e+01  1.15600745e+01 -1.54105357e+01\n",
      " -2.85003260e+01  2.44677806e-01  9.90142688e+00 -2.54606005e+00\n",
      "  2.26638628e+00  7.03062188e+00]\n",
      "intercept:  135.926171243942\n",
      "elastic-net\n",
      "test set: negative-mse=-10320.056497238538\n",
      "cv avg: neg_mean_squared_error= -7406.112260057654\n",
      "cv avg: neg_mean_absolute_error= -64.25370395924564\n",
      "cv avg: r2= 0.3778376866642095\n",
      "coefficients:  [-5.32577954e+00  2.98033204e-02 -4.33428339e+00  2.86864330e+00\n",
      " -7.06724218e+00  2.01660388e+00  4.63219005e-01  4.72652384e+00\n",
      " -5.97423644e+00 -8.87851601e-01 -8.24919025e+00  3.60077300e+00\n",
      "  2.29647847e+01  4.94718241e+00  1.15036271e+01 -5.93977608e+00\n",
      "  1.05029097e+00 -5.76817819e+00  7.42574640e+00 -3.82612842e+00\n",
      "  4.94498711e-01  5.02519538e+00 -1.68268226e+00 -9.70945136e+00\n",
      "  4.68577860e-01  8.08188309e+00  2.37132444e+01 -6.13876210e+00\n",
      "  8.50536267e-01 -1.26443025e+00 -1.30117369e+01  4.85204617e+00\n",
      "  8.89810911e+00 -1.10838385e+01 -6.32360991e+00 -4.36518611e+00\n",
      "  2.98355686e+00  3.44151942e+00  2.70961323e+00  2.93873109e+01\n",
      "  1.38635041e+00 -2.35723205e+01  2.03067061e+01  4.37772622e+00\n",
      " -3.15632751e+01 -1.29814849e+01  1.15600745e+01 -1.54105357e+01\n",
      " -2.85003260e+01  2.44677806e-01  9.90142688e+00 -2.54606005e+00\n",
      "  2.26638628e+00  7.03062188e+00]\n",
      "intercept:  135.926171243942\n"
     ]
    }
   ],
   "source": [
    "for name in estimator_dict.keys():\n",
    "    print(name)\n",
    "    printTestandCVScores(final_estimator_name,cv_score_dict_means)"
   ]
  },
  {
   "cell_type": "code",
   "execution_count": 28,
   "metadata": {},
   "outputs": [
    {
     "name": "stdout",
     "output_type": "stream",
     "text": [
      "test set: negative-mse=-10363.916044095315\n",
      "cv avg: neg_mean_squared_error= -7218.161013820977\n",
      "cv avg: neg_mean_absolute_error= -63.010012086342094\n",
      "cv avg: r2= 0.4024260695718916\n",
      "coefficients:  [ -4.43792514   0.          -2.33431148   2.81865583  -6.17620843\n",
      "   1.62059127  -4.29083263   6.43590025  -3.06537879  -2.21141352\n",
      "  -7.26801532   2.92357159  17.18656968  -0.           8.41565943\n",
      "  -4.08386994   1.80166383  -2.71327685   3.161374    -0.74513443\n",
      "   3.42296851   2.61277528   1.93520888  -2.85146963  -0.32465719\n",
      "   4.37189376  20.77788856  -4.22038264   0.66997617  -0.21715799\n",
      " -10.19280519   3.59124118   6.29551571  -8.90543814  -0.22790862\n",
      "  -1.65653733   0.58021333   2.20248296   0.76189535  26.11393973\n",
      "   1.60225409 -13.92140619  19.6685261    7.06200288   2.65021148\n",
      " -21.01156545   3.44751395  -3.44654613  11.32813617  -9.96768734\n",
      " -15.38481009   4.5318757    0.22257615  -4.1065002    5.89883986\n",
      "  -4.73799078  -1.0748713    4.30772378]\n",
      "intercept:  135.92617124394212\n"
     ]
    }
   ],
   "source": [
    "printTestandCVScores('elastic-net',cv_score_dict_means)\n",
    "# fits better but soooo many coefficients"
   ]
  },
  {
   "cell_type": "code",
   "execution_count": 29,
   "metadata": {},
   "outputs": [
    {
     "ename": "KeyError",
     "evalue": "'lin_reg_Xy_transform'",
     "output_type": "error",
     "traceback": [
      "\u001b[0;31m---------------------------------------------------------------------------\u001b[0m",
      "\u001b[0;31mKeyError\u001b[0m                                  Traceback (most recent call last)",
      "\u001b[0;32m<ipython-input-29-978bc0f6c616>\u001b[0m in \u001b[0;36m<module>\u001b[0;34m()\u001b[0m\n\u001b[0;32m----> 1\u001b[0;31m \u001b[0mprintTestandCVScores\u001b[0m\u001b[0;34m(\u001b[0m\u001b[0;34m'lin_reg_Xy_transform'\u001b[0m\u001b[0;34m,\u001b[0m\u001b[0mcv_score_dict_means\u001b[0m\u001b[0;34m)\u001b[0m\u001b[0;34m\u001b[0m\u001b[0;34m\u001b[0m\u001b[0m\n\u001b[0m",
      "\u001b[0;32m<ipython-input-26-3bd566fd5455>\u001b[0m in \u001b[0;36mprintTestandCVScores\u001b[0;34m(estimator_name, cv_score_dict_means)\u001b[0m\n\u001b[1;32m      1\u001b[0m \u001b[0;32mdef\u001b[0m \u001b[0mprintTestandCVScores\u001b[0m\u001b[0;34m(\u001b[0m\u001b[0mestimator_name\u001b[0m\u001b[0;34m,\u001b[0m\u001b[0mcv_score_dict_means\u001b[0m\u001b[0;34m)\u001b[0m\u001b[0;34m:\u001b[0m\u001b[0;34m\u001b[0m\u001b[0;34m\u001b[0m\u001b[0m\n\u001b[0;32m----> 2\u001b[0;31m     \u001b[0mmodel\u001b[0m\u001b[0;34m=\u001b[0m\u001b[0mestimator_dict\u001b[0m\u001b[0;34m[\u001b[0m\u001b[0mestimator_name\u001b[0m\u001b[0;34m]\u001b[0m\u001b[0;34m(\u001b[0m\u001b[0;34m)\u001b[0m\u001b[0;34m\u001b[0m\u001b[0;34m\u001b[0m\u001b[0m\n\u001b[0m\u001b[1;32m      3\u001b[0m     \u001b[0mmodel\u001b[0m\u001b[0;34m.\u001b[0m\u001b[0mfit\u001b[0m\u001b[0;34m(\u001b[0m\u001b[0mX_train\u001b[0m\u001b[0;34m,\u001b[0m\u001b[0my_train\u001b[0m\u001b[0;34m)\u001b[0m\u001b[0;34m\u001b[0m\u001b[0;34m\u001b[0m\u001b[0m\n\u001b[1;32m      4\u001b[0m     \u001b[0;32mif\u001b[0m \u001b[0mtest_share\u001b[0m\u001b[0;34m:\u001b[0m\u001b[0;34m\u001b[0m\u001b[0;34m\u001b[0m\u001b[0m\n\u001b[1;32m      5\u001b[0m         \u001b[0my_test_hat\u001b[0m\u001b[0;34m=\u001b[0m\u001b[0mmodel\u001b[0m\u001b[0;34m.\u001b[0m\u001b[0mpredict\u001b[0m\u001b[0;34m(\u001b[0m\u001b[0mX_test\u001b[0m\u001b[0;34m)\u001b[0m\u001b[0;34m\u001b[0m\u001b[0;34m\u001b[0m\u001b[0m\n",
      "\u001b[0;31mKeyError\u001b[0m: 'lin_reg_Xy_transform'"
     ]
    }
   ],
   "source": [
    "printTestandCVScores('lin_reg_Xy_transform',cv_score_dict_means)"
   ]
  },
  {
   "cell_type": "markdown",
   "metadata": {},
   "source": []
  }
 ],
 "metadata": {
  "kernelspec": {
   "display_name": "Python 3",
   "language": "python",
   "name": "python3"
  },
  "language_info": {
   "codemirror_mode": {
    "name": "ipython",
    "version": 3
   },
   "file_extension": ".py",
   "mimetype": "text/x-python",
   "name": "python",
   "nbconvert_exporter": "python",
   "pygments_lexer": "ipython3",
   "version": "3.7.7"
  }
 },
 "nbformat": 4,
 "nbformat_minor": 4
}
