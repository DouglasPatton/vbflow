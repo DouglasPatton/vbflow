{
 "cells": [
  {
   "cell_type": "markdown",
   "metadata": {},
   "source": [
    "### Setup"
   ]
  },
  {
   "cell_type": "code",
   "execution_count": 1,
   "metadata": {},
   "outputs": [],
   "source": [
    "import pandas as pd\n",
    "import numpy as np\n",
    "import os\n",
    "from time import time"
   ]
  },
  {
   "cell_type": "code",
   "execution_count": 2,
   "metadata": {},
   "outputs": [
    {
     "name": "stdout",
     "output_type": "stream",
     "text": [
      "no daal4py\n"
     ]
    }
   ],
   "source": [
    "from vb_estimators import  LinRegSupreme,LinSVR,RBFSVR,ENet,L1Lars,GBR,HGBR,FlexiblePipe\n",
    "from vb_helper import VBHelper\n",
    "from vb_cross_validator import regressor_q_stratified_cv\n",
    "from missing_val_transformer import missingValHandler"
   ]
  },
  {
   "cell_type": "code",
   "execution_count": 3,
   "metadata": {},
   "outputs": [],
   "source": [
    "\n",
    "from warnings import filterwarnings\n",
    "filterwarnings('ignore')\n"
   ]
  },
  {
   "cell_type": "markdown",
   "metadata": {},
   "source": [
    "### setup the experiment/project\n",
    "#### note the 'run_stacked' kwarg that can be set to create the stacked_regressor"
   ]
  },
  {
   "cell_type": "code",
   "execution_count": 4,
   "metadata": {},
   "outputs": [],
   "source": [
    "gridpoints=5\n",
    "kwargs=dict(\n",
    "    run_stacked=True,\n",
    "    test_share=0,#keep at 0 for small datasets\n",
    "    cv_folds=5,\n",
    "    cv_reps=2,\n",
    "    #cv_groupcount=5,\n",
    "    cv_strategy=('quantile',5), # for stratified cv\n",
    "    random_state=2 # random_state for reproducibility\n",
    ")\n",
    "vbhelper=VBHelper(**kwargs)"
   ]
  },
  {
   "cell_type": "code",
   "execution_count": 5,
   "metadata": {},
   "outputs": [],
   "source": [
    "scorer_list=['neg_mean_squared_error', 'neg_mean_absolute_error', 'r2'] #cross_validate wants strings\n",
    "vbhelper.scorer_list=scorer_list"
   ]
  },
  {
   "cell_type": "markdown",
   "metadata": {},
   "source": [
    "##### User Import Dataset Step"
   ]
  },
  {
   "cell_type": "code",
   "execution_count": 6,
   "metadata": {},
   "outputs": [
    {
     "name": "stdout",
     "output_type": "stream",
     "text": [
      "['STA_ID', 'LONG', 'LAT', 'OrigHabCode', 'Date', 'THG_Fish', 'YEAR', 'SEASON', 'SUBAREA', 'HABCODE', 'Floc_Depth_ft', 'AFDW_Floc', 'MEHG_Floc', 'THG_floc', 'Tot_Phos_floc', 'Bulk_Dens_Floc', 'Soil_Thickness_FT', 'AFDW_Soil', 'Bulk_Dens_Soil', 'PH_soil', 'SO4_soil', 'MEHG_soil', 'THG_soil', 'Tot_Carbon_Soil_%', 'Tot_Nitrogen_Soil_%', 'Tot_Phos_soil', 'Wat_Depth_ft', 'COND_SW', 'DO_SW', 'TEMP_SW', 'PH_SW', 'TURB_SW', 'REDOX_SW', 'Alk_Phos_SW', 'CHLA_SW', 'CL_SW', 'MEHG_SW', 'NH4_SW', 'NO2_SW', 'NO3_SW', 'SO4_SW', 'Sol_Reac_Phos_SW', 'THG_SW', 'TOC_SW', 'Tot_Nitrogen_SW', 'Tot_Phos_SW', 'REDOX_PW', 'H2S_PW', 'Sol_Reac_Phos_PW', 'MEHG_Peri_AVG', 'THG_epi_peri']\n"
     ]
    }
   ],
   "source": [
    "data_path=os.path.join('sample_data','ex1.csv')\n",
    "df=pd.read_csv(data_path)\n",
    "all_vars=list(df.columns)\n",
    "print(all_vars)"
   ]
  },
  {
   "cell_type": "markdown",
   "metadata": {},
   "source": [
    "#### user has option to specify \"regulatory standard\""
   ]
  },
  {
   "cell_type": "code",
   "execution_count": 7,
   "metadata": {},
   "outputs": [],
   "source": [
    "#load data\n",
    "data_path=os.path.join('sample_data','ex1.csv')\n",
    "df=pd.read_csv(data_path)\n",
    "\n",
    "#select variables\n",
    "y_name='THG_Fish'\n",
    "loc_vars=['LAT','LONG']\n",
    "drop_vars=['Date','OrigHabCode','STA_ID']\n",
    "drop_vars.extend(loc_vars)\n",
    "drop_vars.append(y_name)\n",
    "all_vars=list(df.columns)\n",
    "x_vars=[var for var in all_vars if var not in drop_vars]\n",
    "\n",
    "#extract random rows for prediction\n",
    "predict_n=3\n",
    "shuf=np.arange(df.shape[0])\n",
    "seed=0\n",
    "rng = np.random.default_rng(seed)\n",
    "rng.shuffle(shuf)\n",
    "predict_select=shuf[:predict_n]\n",
    "X_predict=df.loc[:,x_vars].iloc[predict_select].copy()\n",
    "y_predict=df.loc[:,y_name].iloc[predict_select].copy()\n",
    "df.drop(index=predict_select,inplace=True)\n",
    "X_df=df.loc[:,x_vars]\n",
    "y_df=df.loc[:,[y_name]]"
   ]
  },
  {
   "cell_type": "code",
   "execution_count": 8,
   "metadata": {},
   "outputs": [
    {
     "name": "stdout",
     "output_type": "stream",
     "text": [
      "# of duplicate rows of data: 0\n",
      "# of duplicate rows of X: 0\n"
     ]
    }
   ],
   "source": [
    "vbhelper.setData(X_df,y_df)"
   ]
  },
  {
   "cell_type": "code",
   "execution_count": null,
   "metadata": {},
   "outputs": [],
   "source": []
  },
  {
   "cell_type": "markdown",
   "metadata": {},
   "source": [
    "Take a look at the data"
   ]
  },
  {
   "cell_type": "code",
   "execution_count": null,
   "metadata": {},
   "outputs": [],
   "source": []
  },
  {
   "cell_type": "markdown",
   "metadata": {},
   "source": [
    "### setup the analytical pipelines\n",
    "#### note the inner_cv_dict and prep_dict that are used to consolidate vb_estimator kwargs and to facilitate the divison between prep and post steps."
   ]
  },
  {
   "cell_type": "code",
   "execution_count": 9,
   "metadata": {},
   "outputs": [],
   "source": [
    "inner_cv_dict={'cv_reps':1,'cv_folds':5,'cv_strategy':('quantile',5)}\n",
    "inner_cv=vbhelper.getCV(cv_dict=inner_cv_dict)\n",
    "\n",
    "prep_dict={'impute_strategy':'impute_knn5','cat_idx':vbhelper.cat_idx}\n",
    "\n",
    "needs_prep=not vbhelper.run_stacked\n",
    "\n",
    "pipe_kwargs=dict(do_prep=needs_prep,prep_dict=prep_dict,inner_cv=inner_cv,gridpoints=gridpoints,cat_idx=vbhelper.cat_idx,float_idx=vbhelper.float_idx,bestT=False)\n",
    "pipe_dict={\n",
    "    'gradient-boosting-reg':{\n",
    "        'pipe':GBR,\n",
    "        'pipe_kwargs':dict(prep_dict=prep_dict,do_prep=needs_prep)\n",
    "        },\n",
    "    'rbf-svr-cv':{'pipe':RBFSVR,'pipe_kwargs':pipe_kwargs}, \n",
    "    'lassolars':{'pipe':L1Lars,'pipe_kwargs':pipe_kwargs},\n",
    "    }\n",
    "vbhelper.setPipeDict(pipe_dict) #formerly setEstimatorDict\n",
    "vbhelper.setModelDict()\n"
   ]
  },
  {
   "cell_type": "markdown",
   "metadata": {},
   "source": [
    "run cross validation"
   ]
  },
  {
   "cell_type": "code",
   "execution_count": 10,
   "metadata": {},
   "outputs": [
    {
     "name": "stdout",
     "output_type": "stream",
     "text": [
      "jhash:  aa5f20a9db137c08122785e91c79edd4\n",
      "multi_pipe,[('neg_mean_squared_error', -7007.219952970123), ('neg_mean_absolute_error', -60.27451280124912), ('r2', 0.4843500488332192)], runtime:1.2658527851104737 min.\n",
      "runtime:1.2667533953984578 min.\n",
      "\n"
     ]
    }
   ],
   "source": [
    "start=time()\n",
    "vbhelper.runCrossValidate(try_load=True)\n",
    "end=time()\n",
    "print(f'runtime:{(end-start)/60} min.\\n')\n"
   ]
  },
  {
   "cell_type": "markdown",
   "metadata": {},
   "source": [
    "---\n",
    "\n",
    "### Fit the final models for all estimators"
   ]
  },
  {
   "cell_type": "code",
   "execution_count": 11,
   "metadata": {},
   "outputs": [],
   "source": [
    "vbhelper.refitPredictiveModels(selected_models=['multi_pipe'])"
   ]
  },
  {
   "cell_type": "code",
   "execution_count": 18,
   "metadata": {},
   "outputs": [
    {
     "data": {
      "text/plain": [
       "{'multi_pipe': array([193.77343614, 151.60281416, 114.2266863 ]),\n",
       " 'weights': {'multi_pipe': {'neg_mean_squared_error': 1.0,\n",
       "   'neg_mean_absolute_error': 1.0,\n",
       "   'r2': 1.0}},\n",
       " 'prediction': {'neg_mean_squared_error': array([193.77343614, 151.60281416, 114.2266863 ]),\n",
       "  'neg_mean_absolute_error': array([193.77343614, 151.60281416, 114.2266863 ]),\n",
       "  'r2': array([193.77343614, 151.60281416, 114.2266863 ])}}"
      ]
     },
     "execution_count": 18,
     "metadata": {},
     "output_type": "execute_result"
    }
   ],
   "source": [
    "yhat=vbhelper.predict(X_predict)\n",
    "yhat"
   ]
  },
  {
   "cell_type": "code",
   "execution_count": 21,
   "metadata": {},
   "outputs": [
    {
     "data": {
      "text/plain": [
       "420    162.6\n",
       "652    140.0\n",
       "575     48.4\n",
       "Name: THG_Fish, dtype: float64"
      ]
     },
     "execution_count": 21,
     "metadata": {},
     "output_type": "execute_result"
    }
   ],
   "source": [
    "y_predict"
   ]
  },
  {
   "cell_type": "code",
   "execution_count": 16,
   "metadata": {},
   "outputs": [
    {
     "data": {
      "text/plain": [
       "420    0.191719\n",
       "652    0.082877\n",
       "575    1.360056\n",
       "Name: THG_Fish, dtype: float64"
      ]
     },
     "execution_count": 16,
     "metadata": {},
     "output_type": "execute_result"
    }
   ],
   "source": [
    "(yhat['prediction']['r2']-y_predict)/y_predict"
   ]
  },
  {
   "cell_type": "code",
   "execution_count": 19,
   "metadata": {},
   "outputs": [],
   "source": [
    "yhat_cv=vbhelper.predict(X_predict,model_type='cross_validation')"
   ]
  },
  {
   "cell_type": "code",
   "execution_count": 20,
   "metadata": {},
   "outputs": [
    {
     "data": {
      "text/plain": [
       "{'multi_pipe': [array([192.62183397, 154.95313496, 114.38257264]),\n",
       "  array([181.60079651, 139.8912016 , 129.62712158]),\n",
       "  array([191.55153927, 163.08953749, 153.15662228]),\n",
       "  array([176.21036286, 141.46260861,  77.13397768]),\n",
       "  array([188.35610353, 139.27311688, 152.36084702]),\n",
       "  array([176.0662644 , 136.76068423, 162.45384229]),\n",
       "  array([198.55881302, 162.55107182, 113.37473735]),\n",
       "  array([193.26532751, 149.17485897, 122.18682008]),\n",
       "  array([171.88484434, 131.04093889, 133.13670021]),\n",
       "  array([172.84199616, 139.46822921,  65.0461568 ])],\n",
       " 'weights': {'multi_pipe': {'neg_mean_squared_error': 1.0,\n",
       "   'neg_mean_absolute_error': 1.0,\n",
       "   'r2': 1.0}},\n",
       " 'prediction': [{'neg_mean_squared_error': array([192.62183397, 154.95313496, 114.38257264]),\n",
       "   'neg_mean_absolute_error': array([192.62183397, 154.95313496, 114.38257264]),\n",
       "   'r2': array([192.62183397, 154.95313496, 114.38257264])},\n",
       "  {'neg_mean_squared_error': array([181.60079651, 139.8912016 , 129.62712158]),\n",
       "   'neg_mean_absolute_error': array([181.60079651, 139.8912016 , 129.62712158]),\n",
       "   'r2': array([181.60079651, 139.8912016 , 129.62712158])},\n",
       "  {'neg_mean_squared_error': array([191.55153927, 163.08953749, 153.15662228]),\n",
       "   'neg_mean_absolute_error': array([191.55153927, 163.08953749, 153.15662228]),\n",
       "   'r2': array([191.55153927, 163.08953749, 153.15662228])},\n",
       "  {'neg_mean_squared_error': array([176.21036286, 141.46260861,  77.13397768]),\n",
       "   'neg_mean_absolute_error': array([176.21036286, 141.46260861,  77.13397768]),\n",
       "   'r2': array([176.21036286, 141.46260861,  77.13397768])},\n",
       "  {'neg_mean_squared_error': array([188.35610353, 139.27311688, 152.36084702]),\n",
       "   'neg_mean_absolute_error': array([188.35610353, 139.27311688, 152.36084702]),\n",
       "   'r2': array([188.35610353, 139.27311688, 152.36084702])},\n",
       "  {'neg_mean_squared_error': array([176.0662644 , 136.76068423, 162.45384229]),\n",
       "   'neg_mean_absolute_error': array([176.0662644 , 136.76068423, 162.45384229]),\n",
       "   'r2': array([176.0662644 , 136.76068423, 162.45384229])},\n",
       "  {'neg_mean_squared_error': array([198.55881302, 162.55107182, 113.37473735]),\n",
       "   'neg_mean_absolute_error': array([198.55881302, 162.55107182, 113.37473735]),\n",
       "   'r2': array([198.55881302, 162.55107182, 113.37473735])},\n",
       "  {'neg_mean_squared_error': array([193.26532751, 149.17485897, 122.18682008]),\n",
       "   'neg_mean_absolute_error': array([193.26532751, 149.17485897, 122.18682008]),\n",
       "   'r2': array([193.26532751, 149.17485897, 122.18682008])},\n",
       "  {'neg_mean_squared_error': array([171.88484434, 131.04093889, 133.13670021]),\n",
       "   'neg_mean_absolute_error': array([171.88484434, 131.04093889, 133.13670021]),\n",
       "   'r2': array([171.88484434, 131.04093889, 133.13670021])},\n",
       "  {'neg_mean_squared_error': array([172.84199616, 139.46822921,  65.0461568 ]),\n",
       "   'neg_mean_absolute_error': array([172.84199616, 139.46822921,  65.0461568 ]),\n",
       "   'r2': array([172.84199616, 139.46822921,  65.0461568 ])}]}"
      ]
     },
     "execution_count": 20,
     "metadata": {},
     "output_type": "execute_result"
    }
   ],
   "source": [
    "yhat_cv"
   ]
  },
  {
   "cell_type": "code",
   "execution_count": null,
   "metadata": {},
   "outputs": [],
   "source": []
  }
 ],
 "metadata": {
  "kernelspec": {
   "display_name": "Python 3",
   "language": "python",
   "name": "python3"
  },
  "language_info": {
   "codemirror_mode": {
    "name": "ipython",
    "version": 3
   },
   "file_extension": ".py",
   "mimetype": "text/x-python",
   "name": "python",
   "nbconvert_exporter": "python",
   "pygments_lexer": "ipython3",
   "version": "3.8.5"
  }
 },
 "nbformat": 4,
 "nbformat_minor": 4
}
