{
 "cells": [
  {
   "cell_type": "markdown",
   "metadata": {},
   "source": [
    "### Setup"
   ]
  },
  {
   "cell_type": "code",
   "execution_count": 1,
   "metadata": {},
   "outputs": [],
   "source": [
    "import pandas as pd\n",
    "import numpy as np\n",
    "import os\n",
    "from time import time"
   ]
  },
  {
   "cell_type": "code",
   "execution_count": 2,
   "metadata": {},
   "outputs": [
    {
     "name": "stdout",
     "output_type": "stream",
     "text": [
      "no daal4py\n"
     ]
    }
   ],
   "source": [
    "from vb_estimators import  LinRegSupreme,LinSVR,RBFSVR,ENet,L1Lars,GBR,HGBR,FlexiblePipe\n",
    "from vb_helper import VBHelper\n",
    "from vb_cross_validator import regressor_q_stratified_cv"
   ]
  },
  {
   "cell_type": "code",
   "execution_count": 3,
   "metadata": {},
   "outputs": [],
   "source": [
    "\n",
    "from warnings import filterwarnings\n",
    "filterwarnings('ignore')\n"
   ]
  },
  {
   "cell_type": "markdown",
   "metadata": {},
   "source": [
    "### setup the experiment/project\n",
    "#### note the 'run_stacked' kwarg that can be set to create the stacked_regressor"
   ]
  },
  {
   "cell_type": "code",
   "execution_count": 4,
   "metadata": {},
   "outputs": [],
   "source": [
    "gridpoints=5\n",
    "kwargs=dict(\n",
    "    run_stacked=True,\n",
    "    test_share=0,#keep at 0 for small datasets\n",
    "    cv_folds=5,\n",
    "    cv_reps=2,\n",
    "    #cv_groupcount=5,\n",
    "    cv_strategy=('quantile',5), # for stratified cv\n",
    "    random_state=2 # random_state for reproducibility\n",
    ")\n",
    "vbhelper=VBHelper(**kwargs)"
   ]
  },
  {
   "cell_type": "code",
   "execution_count": 5,
   "metadata": {},
   "outputs": [],
   "source": [
    "scorer_list=['neg_mean_squared_error', 'neg_mean_absolute_error', 'r2'] #cross_validate wants strings\n",
    "vbhelper.scorer_list=scorer_list"
   ]
  },
  {
   "cell_type": "markdown",
   "metadata": {},
   "source": [
    "##### User Import Dataset Step"
   ]
  },
  {
   "cell_type": "code",
   "execution_count": 6,
   "metadata": {},
   "outputs": [
    {
     "name": "stdout",
     "output_type": "stream",
     "text": [
      "['STA_ID', 'LONG', 'LAT', 'OrigHabCode', 'Date', 'THG_Fish', 'YEAR', 'SEASON', 'SUBAREA', 'HABCODE', 'Floc_Depth_ft', 'AFDW_Floc', 'MEHG_Floc', 'THG_floc', 'Tot_Phos_floc', 'Bulk_Dens_Floc', 'Soil_Thickness_FT', 'AFDW_Soil', 'Bulk_Dens_Soil', 'PH_soil', 'SO4_soil', 'MEHG_soil', 'THG_soil', 'Tot_Carbon_Soil_%', 'Tot_Nitrogen_Soil_%', 'Tot_Phos_soil', 'Wat_Depth_ft', 'COND_SW', 'DO_SW', 'TEMP_SW', 'PH_SW', 'TURB_SW', 'REDOX_SW', 'Alk_Phos_SW', 'CHLA_SW', 'CL_SW', 'MEHG_SW', 'NH4_SW', 'NO2_SW', 'NO3_SW', 'SO4_SW', 'Sol_Reac_Phos_SW', 'THG_SW', 'TOC_SW', 'Tot_Nitrogen_SW', 'Tot_Phos_SW', 'REDOX_PW', 'H2S_PW', 'Sol_Reac_Phos_PW', 'MEHG_Peri_AVG', 'THG_epi_peri']\n"
     ]
    }
   ],
   "source": [
    "data_path=os.path.join('sample_data','ex1.csv')\n",
    "df=pd.read_csv(data_path)\n",
    "all_vars=list(df.columns)\n",
    "print(all_vars)"
   ]
  },
  {
   "cell_type": "markdown",
   "metadata": {},
   "source": [
    "#### user has option to specify \"regulatory standard\""
   ]
  },
  {
   "cell_type": "code",
   "execution_count": 7,
   "metadata": {},
   "outputs": [],
   "source": [
    "#The user sets the variables to use for x and y.\n",
    "y_name='THG_Fish'\n",
    "loc_vars=['LAT','LONG']\n",
    "drop_vars=['Date','OrigHabCode','STA_ID']\n",
    "drop_vars.extend(loc_vars)\n",
    "drop_vars.append(y_name)\n",
    "x_vars=[var for var in all_vars if var not in drop_vars]\n",
    "X_df=df.loc[10:,x_vars]\n",
    "X_predict=df.loc[:10,x_vars]\n",
    "y_df=df.loc[10:,y_name]\n",
    "y_predict=df.loc[:10,y_name]\n"
   ]
  },
  {
   "cell_type": "code",
   "execution_count": 8,
   "metadata": {},
   "outputs": [],
   "source": [
    "\n",
    "shuf=np.arange(y_df.shape[0])\n",
    "seed=0\n",
    "rng = np.random.default_rng(seed)\n",
    "rng.shuffle(shuf)\n",
    "X_df=X_df.iloc[shuf]\n",
    "y_df=y_df.iloc[shuf]\n",
    "vbhelper.setData(X_df,y_df)"
   ]
  },
  {
   "cell_type": "markdown",
   "metadata": {},
   "source": [
    "### setup the analytical pipelines\n",
    "#### note the inner_cv_dict and prep_dict that are used to consolidate vb_estimator kwargs and to facilitate the divison between prep and post steps."
   ]
  },
  {
   "cell_type": "code",
   "execution_count": 9,
   "metadata": {},
   "outputs": [],
   "source": [
    "inner_cv_dict={'cv_reps':1,'cv_folds':5,'cv_strategy':('quantile',5)}\n",
    "inner_cv=vbhelper.getCV(cv_dict=inner_cv_dict)\n",
    "\n",
    "prep_dict={'impute_strategy':'impute_knn5','cat_idx':vbhelper.cat_idx}\n",
    "\n",
    "pipe_kwargs=dict(do_prep=not vbhelper.run_stacked,prep_dict=prep_dict,inner_cv=inner_cv,gridpoints=gridpoints,cat_idx=vbhelper.cat_idx,float_idx=vbhelper.float_idx,bestT=False)\n",
    "pipe_dict={\n",
    "    'gradient-boosting-reg':{'pipe':GBR,'pipe_kwargs':dict(\n",
    "        prep_dict=prep_dict,do_prep=not vbhelper.run_stacked)},\n",
    "    'rbf-svr-cv':{'pipe':RBFSVR,'pipe_kwargs':pipe_kwargs}, \n",
    "    'lassolars':{'pipe':L1Lars,'pipe_kwargs':pipe_kwargs},\n",
    "    }\n",
    "vbhelper.setPipeDict(pipe_dict) #formerly setEstimatorDict\n",
    "vbhelper.setModelDict()\n"
   ]
  },
  {
   "cell_type": "markdown",
   "metadata": {},
   "source": [
    "### end small test-run debugging"
   ]
  },
  {
   "cell_type": "markdown",
   "metadata": {},
   "source": [
    "---\n",
    "\n",
    "### Fit the final models for all estimators"
   ]
  },
  {
   "cell_type": "code",
   "execution_count": 10,
   "metadata": {},
   "outputs": [
    {
     "name": "stdout",
     "output_type": "stream",
     "text": [
      "jhash:  57ae34d4efbc564326358b4e506514bd\n"
     ]
    }
   ],
   "source": [
    "vbhelper.runCrossValidate(try_load=True)"
   ]
  },
  {
   "cell_type": "code",
   "execution_count": 11,
   "metadata": {},
   "outputs": [],
   "source": [
    "vbhelper.refitPredictiveModels(selected_models=['multi_pipe'])"
   ]
  },
  {
   "cell_type": "code",
   "execution_count": 12,
   "metadata": {},
   "outputs": [],
   "source": [
    "yhat=vbhelper.predict(X_predict)"
   ]
  },
  {
   "cell_type": "code",
   "execution_count": 13,
   "metadata": {},
   "outputs": [
    {
     "data": {
      "text/plain": [
       "{'multi_pipe': array([133.72272567, 235.93916116, 286.2431921 , 322.13360544,\n",
       "        174.0426972 , 229.03323127, 144.79977695, 319.41767012,\n",
       "        215.55609919, 239.838537  , 191.52909168]),\n",
       " 'weights': {'multi_pipe': {'neg_mean_squared_error': 1.0,\n",
       "   'neg_mean_absolute_error': 1.0,\n",
       "   'r2': 1.0}},\n",
       " 'prediction': {'neg_mean_squared_error': array([133.72272567, 235.93916116, 286.2431921 , 322.13360544,\n",
       "         174.0426972 , 229.03323127, 144.79977695, 319.41767012,\n",
       "         215.55609919, 239.838537  , 191.52909168]),\n",
       "  'neg_mean_absolute_error': array([133.72272567, 235.93916116, 286.2431921 , 322.13360544,\n",
       "         174.0426972 , 229.03323127, 144.79977695, 319.41767012,\n",
       "         215.55609919, 239.838537  , 191.52909168]),\n",
       "  'r2': array([133.72272567, 235.93916116, 286.2431921 , 322.13360544,\n",
       "         174.0426972 , 229.03323127, 144.79977695, 319.41767012,\n",
       "         215.55609919, 239.838537  , 191.52909168])}}"
      ]
     },
     "execution_count": 13,
     "metadata": {},
     "output_type": "execute_result"
    }
   ],
   "source": [
    "yhat"
   ]
  },
  {
   "cell_type": "code",
   "execution_count": 14,
   "metadata": {},
   "outputs": [
    {
     "data": {
      "text/plain": [
       "0     0.844451\n",
       "1     0.586679\n",
       "2    -0.350628\n",
       "3     0.281359\n",
       "4     0.485006\n",
       "5     2.413312\n",
       "6    -0.235078\n",
       "7    -0.413590\n",
       "8     0.062900\n",
       "9     0.361945\n",
       "10    0.612198\n",
       "Name: THG_Fish, dtype: float64"
      ]
     },
     "execution_count": 14,
     "metadata": {},
     "output_type": "execute_result"
    }
   ],
   "source": [
    "(yhat['prediction']['r2']-y_predict)/y_predict"
   ]
  },
  {
   "cell_type": "code",
   "execution_count": 15,
   "metadata": {},
   "outputs": [],
   "source": [
    "yhat_cv=vbhelper.predict(X_predict,model_type='cross_validation')"
   ]
  },
  {
   "cell_type": "code",
   "execution_count": 16,
   "metadata": {},
   "outputs": [
    {
     "data": {
      "text/plain": [
       "{'multi_pipe': [array([113.77927668, 240.26033644, 280.80389021, 319.92397888,\n",
       "         166.69500963, 209.42770141, 145.60401557, 332.95166873,\n",
       "         217.05030752, 241.71733059, 184.92077113]),\n",
       "  array([152.60042093, 272.63970255, 265.74513188, 306.52139527,\n",
       "         203.21501611, 249.19849544, 169.54509056, 362.4662931 ,\n",
       "         244.17515911, 245.18623872, 194.54152212]),\n",
       "  array([163.22663582, 239.19396497, 264.62529948, 318.02913336,\n",
       "         204.76985854, 239.82889626, 171.55699033, 341.24059627,\n",
       "         231.98736932, 285.80815312, 213.70510065]),\n",
       "  array([170.2447127 , 277.74179892, 298.35851042, 287.26028718,\n",
       "         158.44323093, 236.71715522, 158.70270353, 333.24280506,\n",
       "         223.09888838, 244.46751132, 198.21767112]),\n",
       "  array([138.86468158, 229.25660745, 260.88860101, 277.12071428,\n",
       "         180.69659203, 212.35001815, 141.97145851, 287.85791437,\n",
       "         200.69220218, 250.21369323, 166.3899386 ]),\n",
       "  array([160.83081113, 233.70161121, 281.39026919, 334.7232932 ,\n",
       "         174.15841871, 234.36483517, 143.02536592, 319.49249524,\n",
       "         205.39211872, 237.82208035, 174.29472158]),\n",
       "  array([131.70258237, 248.46964163, 293.40592612, 317.61757731,\n",
       "         146.66478158, 227.71887623, 146.00387125, 326.7751835 ,\n",
       "         211.07362019, 253.55862391, 193.40728073]),\n",
       "  array([112.70733532, 251.8515867 , 286.29266439, 318.6041071 ,\n",
       "         188.86055757, 200.38027372, 156.74997519, 300.91266727,\n",
       "         210.11802789, 244.35881673, 203.45607665]),\n",
       "  array([158.33457271, 234.31779779, 294.03181351, 305.63116298,\n",
       "         191.20493634, 226.82623485, 154.25264989, 334.1175103 ,\n",
       "         206.98467108, 228.98127627, 193.07831763]),\n",
       "  array([170.9184604 , 285.28370303, 319.34645093, 293.07624144,\n",
       "         184.66285711, 245.78847837, 192.81138738, 353.10398779,\n",
       "         261.07716326, 236.30284417, 212.25200715])],\n",
       " 'weights': {'multi_pipe': {'neg_mean_squared_error': 1.0,\n",
       "   'neg_mean_absolute_error': 1.0,\n",
       "   'r2': 1.0}},\n",
       " 'prediction': [{'neg_mean_squared_error': array([113.77927668, 240.26033644, 280.80389021, 319.92397888,\n",
       "          166.69500963, 209.42770141, 145.60401557, 332.95166873,\n",
       "          217.05030752, 241.71733059, 184.92077113]),\n",
       "   'neg_mean_absolute_error': array([113.77927668, 240.26033644, 280.80389021, 319.92397888,\n",
       "          166.69500963, 209.42770141, 145.60401557, 332.95166873,\n",
       "          217.05030752, 241.71733059, 184.92077113]),\n",
       "   'r2': array([113.77927668, 240.26033644, 280.80389021, 319.92397888,\n",
       "          166.69500963, 209.42770141, 145.60401557, 332.95166873,\n",
       "          217.05030752, 241.71733059, 184.92077113])},\n",
       "  {'neg_mean_squared_error': array([152.60042093, 272.63970255, 265.74513188, 306.52139527,\n",
       "          203.21501611, 249.19849544, 169.54509056, 362.4662931 ,\n",
       "          244.17515911, 245.18623872, 194.54152212]),\n",
       "   'neg_mean_absolute_error': array([152.60042093, 272.63970255, 265.74513188, 306.52139527,\n",
       "          203.21501611, 249.19849544, 169.54509056, 362.4662931 ,\n",
       "          244.17515911, 245.18623872, 194.54152212]),\n",
       "   'r2': array([152.60042093, 272.63970255, 265.74513188, 306.52139527,\n",
       "          203.21501611, 249.19849544, 169.54509056, 362.4662931 ,\n",
       "          244.17515911, 245.18623872, 194.54152212])},\n",
       "  {'neg_mean_squared_error': array([163.22663582, 239.19396497, 264.62529948, 318.02913336,\n",
       "          204.76985854, 239.82889626, 171.55699033, 341.24059627,\n",
       "          231.98736932, 285.80815312, 213.70510065]),\n",
       "   'neg_mean_absolute_error': array([163.22663582, 239.19396497, 264.62529948, 318.02913336,\n",
       "          204.76985854, 239.82889626, 171.55699033, 341.24059627,\n",
       "          231.98736932, 285.80815312, 213.70510065]),\n",
       "   'r2': array([163.22663582, 239.19396497, 264.62529948, 318.02913336,\n",
       "          204.76985854, 239.82889626, 171.55699033, 341.24059627,\n",
       "          231.98736932, 285.80815312, 213.70510065])},\n",
       "  {'neg_mean_squared_error': array([170.2447127 , 277.74179892, 298.35851042, 287.26028718,\n",
       "          158.44323093, 236.71715522, 158.70270353, 333.24280506,\n",
       "          223.09888838, 244.46751132, 198.21767112]),\n",
       "   'neg_mean_absolute_error': array([170.2447127 , 277.74179892, 298.35851042, 287.26028718,\n",
       "          158.44323093, 236.71715522, 158.70270353, 333.24280506,\n",
       "          223.09888838, 244.46751132, 198.21767112]),\n",
       "   'r2': array([170.2447127 , 277.74179892, 298.35851042, 287.26028718,\n",
       "          158.44323093, 236.71715522, 158.70270353, 333.24280506,\n",
       "          223.09888838, 244.46751132, 198.21767112])},\n",
       "  {'neg_mean_squared_error': array([138.86468158, 229.25660745, 260.88860101, 277.12071428,\n",
       "          180.69659203, 212.35001815, 141.97145851, 287.85791437,\n",
       "          200.69220218, 250.21369323, 166.3899386 ]),\n",
       "   'neg_mean_absolute_error': array([138.86468158, 229.25660745, 260.88860101, 277.12071428,\n",
       "          180.69659203, 212.35001815, 141.97145851, 287.85791437,\n",
       "          200.69220218, 250.21369323, 166.3899386 ]),\n",
       "   'r2': array([138.86468158, 229.25660745, 260.88860101, 277.12071428,\n",
       "          180.69659203, 212.35001815, 141.97145851, 287.85791437,\n",
       "          200.69220218, 250.21369323, 166.3899386 ])},\n",
       "  {'neg_mean_squared_error': array([160.83081113, 233.70161121, 281.39026919, 334.7232932 ,\n",
       "          174.15841871, 234.36483517, 143.02536592, 319.49249524,\n",
       "          205.39211872, 237.82208035, 174.29472158]),\n",
       "   'neg_mean_absolute_error': array([160.83081113, 233.70161121, 281.39026919, 334.7232932 ,\n",
       "          174.15841871, 234.36483517, 143.02536592, 319.49249524,\n",
       "          205.39211872, 237.82208035, 174.29472158]),\n",
       "   'r2': array([160.83081113, 233.70161121, 281.39026919, 334.7232932 ,\n",
       "          174.15841871, 234.36483517, 143.02536592, 319.49249524,\n",
       "          205.39211872, 237.82208035, 174.29472158])},\n",
       "  {'neg_mean_squared_error': array([131.70258237, 248.46964163, 293.40592612, 317.61757731,\n",
       "          146.66478158, 227.71887623, 146.00387125, 326.7751835 ,\n",
       "          211.07362019, 253.55862391, 193.40728073]),\n",
       "   'neg_mean_absolute_error': array([131.70258237, 248.46964163, 293.40592612, 317.61757731,\n",
       "          146.66478158, 227.71887623, 146.00387125, 326.7751835 ,\n",
       "          211.07362019, 253.55862391, 193.40728073]),\n",
       "   'r2': array([131.70258237, 248.46964163, 293.40592612, 317.61757731,\n",
       "          146.66478158, 227.71887623, 146.00387125, 326.7751835 ,\n",
       "          211.07362019, 253.55862391, 193.40728073])},\n",
       "  {'neg_mean_squared_error': array([112.70733532, 251.8515867 , 286.29266439, 318.6041071 ,\n",
       "          188.86055757, 200.38027372, 156.74997519, 300.91266727,\n",
       "          210.11802789, 244.35881673, 203.45607665]),\n",
       "   'neg_mean_absolute_error': array([112.70733532, 251.8515867 , 286.29266439, 318.6041071 ,\n",
       "          188.86055757, 200.38027372, 156.74997519, 300.91266727,\n",
       "          210.11802789, 244.35881673, 203.45607665]),\n",
       "   'r2': array([112.70733532, 251.8515867 , 286.29266439, 318.6041071 ,\n",
       "          188.86055757, 200.38027372, 156.74997519, 300.91266727,\n",
       "          210.11802789, 244.35881673, 203.45607665])},\n",
       "  {'neg_mean_squared_error': array([158.33457271, 234.31779779, 294.03181351, 305.63116298,\n",
       "          191.20493634, 226.82623485, 154.25264989, 334.1175103 ,\n",
       "          206.98467108, 228.98127627, 193.07831763]),\n",
       "   'neg_mean_absolute_error': array([158.33457271, 234.31779779, 294.03181351, 305.63116298,\n",
       "          191.20493634, 226.82623485, 154.25264989, 334.1175103 ,\n",
       "          206.98467108, 228.98127627, 193.07831763]),\n",
       "   'r2': array([158.33457271, 234.31779779, 294.03181351, 305.63116298,\n",
       "          191.20493634, 226.82623485, 154.25264989, 334.1175103 ,\n",
       "          206.98467108, 228.98127627, 193.07831763])},\n",
       "  {'neg_mean_squared_error': array([170.9184604 , 285.28370303, 319.34645093, 293.07624144,\n",
       "          184.66285711, 245.78847837, 192.81138738, 353.10398779,\n",
       "          261.07716326, 236.30284417, 212.25200715]),\n",
       "   'neg_mean_absolute_error': array([170.9184604 , 285.28370303, 319.34645093, 293.07624144,\n",
       "          184.66285711, 245.78847837, 192.81138738, 353.10398779,\n",
       "          261.07716326, 236.30284417, 212.25200715]),\n",
       "   'r2': array([170.9184604 , 285.28370303, 319.34645093, 293.07624144,\n",
       "          184.66285711, 245.78847837, 192.81138738, 353.10398779,\n",
       "          261.07716326, 236.30284417, 212.25200715])}]}"
      ]
     },
     "execution_count": 16,
     "metadata": {},
     "output_type": "execute_result"
    }
   ],
   "source": [
    "yhat_cv"
   ]
  },
  {
   "cell_type": "code",
   "execution_count": null,
   "metadata": {},
   "outputs": [],
   "source": []
  }
 ],
 "metadata": {
  "kernelspec": {
   "display_name": "Python 3",
   "language": "python",
   "name": "python3"
  },
  "language_info": {
   "codemirror_mode": {
    "name": "ipython",
    "version": 3
   },
   "file_extension": ".py",
   "mimetype": "text/x-python",
   "name": "python",
   "nbconvert_exporter": "python",
   "pygments_lexer": "ipython3",
   "version": "3.8.5"
  }
 },
 "nbformat": 4,
 "nbformat_minor": 4
}
