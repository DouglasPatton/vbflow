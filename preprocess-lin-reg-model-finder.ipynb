{
 "cells": [
  {
   "cell_type": "markdown",
   "metadata": {},
   "source": [
    "### Setup"
   ]
  },
  {
   "cell_type": "code",
   "execution_count": 1,
   "metadata": {},
   "outputs": [],
   "source": [
    "import pandas as pd\n",
    "import numpy as np\n",
    "import os\n",
    "from time import time"
   ]
  },
  {
   "cell_type": "code",
   "execution_count": 2,
   "metadata": {},
   "outputs": [
    {
     "data": {
      "text/plain": [
       "'import numpy as np\\nfrom sklearn.datasets import make_regression\\nfrom sklearn.pipeline import make_pipeline,Pipeline\\nfrom sklearn.linear_model import ElasticNetCV, LinearRegression, Lars\\nfrom sklearn.svm import LinearSVR, SVR\\nfrom sklearn.preprocessing import StandardScaler\\nfrom sklearn.model_selection import cross_validate, train_test_split, RepeatedKFold, GridSearchCV\\nfrom sklearn.metrics import mean_squared_error, mean_absolute_error, r2_score\\nfrom sklearn.ensemble import GradientBoostingRegressor\\nimport matplotlib.pyplot as plt\\n'"
      ]
     },
     "execution_count": 2,
     "metadata": {},
     "output_type": "execute_result"
    }
   ],
   "source": [
    "\"\"\"import numpy as np\n",
    "from sklearn.datasets import make_regression\n",
    "from sklearn.pipeline import make_pipeline,Pipeline\n",
    "from sklearn.linear_model import ElasticNetCV, LinearRegression, Lars\n",
    "from sklearn.svm import LinearSVR, SVR\n",
    "from sklearn.preprocessing import StandardScaler\n",
    "from sklearn.model_selection import cross_validate, train_test_split, RepeatedKFold, GridSearchCV\n",
    "from sklearn.metrics import mean_squared_error, mean_absolute_error, r2_score\n",
    "from sklearn.ensemble import GradientBoostingRegressor\n",
    "import matplotlib.pyplot as plt\n",
    "\"\"\""
   ]
  },
  {
   "cell_type": "code",
   "execution_count": 3,
   "metadata": {},
   "outputs": [],
   "source": [
    "from sklearn.model_selection import cross_validate, train_test_split, RepeatedKFold, GridSearchCV"
   ]
  },
  {
   "cell_type": "code",
   "execution_count": 4,
   "metadata": {},
   "outputs": [
    {
     "name": "stderr",
     "output_type": "stream",
     "text": [
      "/home/dp/anaconda3/envs/vbflow37/lib/python3.7/site-packages/daal4py/sklearn/monkeypatch/dispatcher.py:126: UserWarning: daal4py (2020, 2) has only been tested with scikit-learn 0.23.1, found version: 0.23.2\n",
      "  sklearn_version=sklearn_version)\n",
      "Intel(R) Data Analytics Acceleration Library (Intel(R) DAAL) solvers for sklearn enabled: https://intelpython.github.io/daal4py/sklearn.html\n"
     ]
    }
   ],
   "source": [
    "#import sys\n",
    "#sys.path.append(os.path.abspath('..'))#sys.path[0] + '/..') \n",
    "from vb_estimators import LinRegSupreme\n",
    "from vb_helper import VBHelper"
   ]
  },
  {
   "cell_type": "code",
   "execution_count": null,
   "metadata": {},
   "outputs": [],
   "source": []
  },
  {
   "cell_type": "code",
   "execution_count": 5,
   "metadata": {},
   "outputs": [],
   "source": [
    "\n",
    "from warnings import filterwarnings\n",
    "filterwarnings('ignore')\n"
   ]
  },
  {
   "cell_type": "code",
   "execution_count": 6,
   "metadata": {},
   "outputs": [],
   "source": [
    "test_share=0.1\n",
    "cv_folds=10\n",
    "cv_reps=2\n",
    "cv_count=cv_folds*cv_reps\n",
    "rs=1 # random_state for reproducibility\n",
    "vbhelper=VBHelper(test_share,cv_folds,cv_reps,cv_count,rs)"
   ]
  },
  {
   "cell_type": "code",
   "execution_count": 7,
   "metadata": {},
   "outputs": [],
   "source": [
    "scorer_list=['neg_mean_squared_error', 'neg_mean_absolute_error', 'r2'] #cross_validate wants strings\n",
    "search_scorer='r2'\n",
    "cv=RepeatedKFold(n_splits=cv_folds, n_repeats=cv_reps, random_state=rs) # define separately to ensure same cv data used for each model\n",
    "vbhelper.scorer_list=scorer_list\n",
    "# allow/generate water quality thresholds for stratified kfold sub-sampling to ensure cross-validation folds have full range of water quality"
   ]
  },
  {
   "cell_type": "markdown",
   "metadata": {},
   "source": [
    "##### Example Dataset"
   ]
  },
  {
   "cell_type": "code",
   "execution_count": 8,
   "metadata": {
    "collapsed": true,
    "jupyter": {
     "outputs_hidden": true
    }
   },
   "outputs": [
    {
     "name": "stdout",
     "output_type": "stream",
     "text": [
      "['STA_ID', 'LONG', 'LAT', 'OrigHabCode', 'Date', 'THG_Fish', 'YEAR', 'SEASON', 'SUBAREA', 'HABCODE', 'Floc_Depth_ft', 'AFDW_Floc', 'MEHG_Floc', 'THG_floc', 'Tot_Phos_floc', 'Bulk_Dens_Floc', 'Soil_Thickness_FT', 'AFDW_Soil', 'Bulk_Dens_Soil', 'PH_soil', 'SO4_soil', 'MEHG_soil', 'THG_soil', 'Tot_Carbon_Soil_%', 'Tot_Nitrogen_Soil_%', 'Tot_Phos_soil', 'Wat_Depth_ft', 'COND_SW', 'DO_SW', 'TEMP_SW', 'PH_SW', 'TURB_SW', 'REDOX_SW', 'Alk_Phos_SW', 'CHLA_SW', 'CL_SW', 'MEHG_SW', 'NH4_SW', 'NO2_SW', 'NO3_SW', 'SO4_SW', 'Sol_Reac_Phos_SW', 'THG_SW', 'TOC_SW', 'Tot_Nitrogen_SW', 'Tot_Phos_SW', 'REDOX_PW', 'H2S_PW', 'Sol_Reac_Phos_PW', 'MEHG_Peri_AVG', 'THG_epi_peri']\n"
     ]
    }
   ],
   "source": [
    "data_path=os.path.join('sample_data','ex1.csv')\n",
    "df=pd.read_csv(data_path)\n",
    "all_vars=list(df.columns)\n",
    "print(all_vars)"
   ]
  },
  {
   "cell_type": "code",
   "execution_count": null,
   "metadata": {},
   "outputs": [],
   "source": []
  },
  {
   "cell_type": "code",
   "execution_count": 9,
   "metadata": {},
   "outputs": [],
   "source": [
    "y_name='THG_Fish'\n",
    "loc_vars=['LAT','LONG']\n",
    "drop_vars=['Date','OrigHabCode','STA_ID']\n",
    "drop_vars.extend(loc_vars)\n",
    "drop_vars.append(y_name)\n",
    "x_vars=[var for var in all_vars if var not in drop_vars]\n",
    "X_df=df.loc[:,x_vars]\n",
    "y_df=df.loc[:,y_name]"
   ]
  },
  {
   "cell_type": "code",
   "execution_count": 10,
   "metadata": {},
   "outputs": [],
   "source": [
    "if test_share:\n",
    "     X_train, X_test, y_train, y_test = train_test_split(X_df, y_df, test_size=test_share, random_state=rs)\n",
    "else:\n",
    "    X_train, X_test, y_train, y_test = (X_df, None, y_df, None)"
   ]
  },
  {
   "cell_type": "code",
   "execution_count": 11,
   "metadata": {},
   "outputs": [
    {
     "data": {
      "text/plain": [
       "\"start=time()\\ntest2=LinRegSupreme().fit(X_train,y_train)\\nprint(test2.score(X_train,y_train))\\n#test2.score(X_test,y_test)\\nend=time()\\nprint(f'runtime:{(end-start)/60} min.')\""
      ]
     },
     "execution_count": 11,
     "metadata": {},
     "output_type": "execute_result"
    }
   ],
   "source": [
    "\"\"\"start=time()\n",
    "test2=LinRegSupreme().fit(X_train,y_train)\n",
    "print(test2.score(X_train,y_train))\n",
    "#test2.score(X_test,y_test)\n",
    "end=time()\n",
    "print(f'runtime:{(end-start)/60} min.')\"\"\""
   ]
  },
  {
   "cell_type": "code",
   "execution_count": 12,
   "metadata": {},
   "outputs": [],
   "source": [
    "estimator_dict={\n",
    "    'lin-reg-supreme':LinRegSupreme,\n",
    "    #'elastic-net':elastic_net_cv, \n",
    "    #'linear-svr-cv':linear_svr_cv, \n",
    "    #'rbf-svr-cv':rbf_svr_cv, \n",
    "    #'gradient-boosting-reg':gradient_boosting_reg\n",
    "   }\n",
    "vbhelper.estimator_dict=estimator_dict\n",
    "model_dict={key:val() for key,val in estimator_dict.items()} # they will be models once .fit is called"
   ]
  },
  {
   "cell_type": "code",
   "execution_count": 13,
   "metadata": {},
   "outputs": [
    {
     "data": {
      "text/plain": [
       "'i=0\\nfor name,est in model_dict.items():\\n    i+=1;print(name)\\n    est.fit(X_train,y_train)\\n    print(est.score(X_test,y_test))\\n'"
      ]
     },
     "execution_count": 13,
     "metadata": {},
     "output_type": "execute_result"
    }
   ],
   "source": [
    "\"\"\"i=0\n",
    "for name,est in model_dict.items():\n",
    "    i+=1;print(name)\n",
    "    est.fit(X_train,y_train)\n",
    "    print(est.score(X_test,y_test))\n",
    "\"\"\""
   ]
  },
  {
   "cell_type": "code",
   "execution_count": null,
   "metadata": {},
   "outputs": [],
   "source": []
  },
  {
   "cell_type": "code",
   "execution_count": null,
   "metadata": {},
   "outputs": [],
   "source": [
    "cv_results={}\n",
    "for estimator_name,model in model_dict.items():\n",
    "    start=time()\n",
    "    model_i=cross_validate(model, X_train, y_train, return_estimator=True, scoring=scorer_list, cv=cv, n_jobs=10)\n",
    "    end=time()\n",
    "    print(f\"{estimator_name},{[(scorer,np.mean(model_i[f'test_{scorer}'])) for scorer in scorer_list]}, runtime:{(end-start)/60} min.\")\n",
    "    cv_results[estimator_name]=model_i\n",
    "            \n",
    "# replace with a loop in order to save the residuals for a graph?"
   ]
  },
  {
   "cell_type": "markdown",
   "metadata": {},
   "source": [
    "#### graphs and table to summarize results"
   ]
  },
  {
   "cell_type": "code",
   "execution_count": null,
   "metadata": {},
   "outputs": [],
   "source": [
    "cv_score_dict={}\n",
    "cv_score_dict_means={}\n",
    "for idx,(estimator_name,result) in enumerate(cv_results.items()):\n",
    "    #cv_estimators=result['estimator']\n",
    "    model_idx_scoredict={scorer:result[f'test_{scorer}'] for scorer in scorer_list}# fstring bc how cross_validate stores list of metrics\n",
    "    cv_score_dict[estimator_name]=model_idx_scoredict \n",
    "    model_idx_mean_scores={scorer:np.mean(scores) for scorer,scores in model_idx_scoredict.items()}\n",
    "    cv_score_dict_means[estimator_name]=model_idx_mean_scores"
   ]
  },
  {
   "cell_type": "code",
   "execution_count": null,
   "metadata": {},
   "outputs": [],
   "source": [
    "for scorer in scorer_list:\n",
    "    print(f'scores for scorer: {scorer}:')\n",
    "    for estimator_name in model_dict:\n",
    "        print(f'    {estimator_name}:{cv_score_dict_means[estimator_name][scorer]}')"
   ]
  },
  {
   "cell_type": "code",
   "execution_count": null,
   "metadata": {},
   "outputs": [],
   "source": [
    "vbhelper.plotCVScores(cv_score_dict,sort=1)"
   ]
  },
  {
   "cell_type": "code",
   "execution_count": null,
   "metadata": {},
   "outputs": [],
   "source": [
    "# create a similar plot showing residuals from the cv models for each value of y. \n",
    "# needs to be scatterplot or histogram since there will be (folds-1)*repeats predictions of each value of y."
   ]
  },
  {
   "cell_type": "markdown",
   "metadata": {},
   "source": [
    "-----------------------------\n",
    "### User chooses Linear Regression with LARS variable selection!\n"
   ]
  },
  {
   "cell_type": "code",
   "execution_count": null,
   "metadata": {},
   "outputs": [],
   "source": [
    "final_estimator_name='linear-regression-lars'"
   ]
  },
  {
   "cell_type": "code",
   "execution_count": null,
   "metadata": {},
   "outputs": [],
   "source": [
    "def printTestandCVScores(estimator_name,cv_score_dict_means):\n",
    "    model=estimator_dict[estimator_name]()\n",
    "    model.fit(X_train,y_train)\n",
    "    if test_share:\n",
    "        y_test_hat=model.predict(X_test)\n",
    "        print(f'test set: negative-mse={-mean_squared_error(y_test,y_test_hat)}')\n",
    "    for scorer in scorer_list:\n",
    "        print(f'cv avg: {scorer}= {cv_score_dict_means[estimator_name][scorer]}')\n",
    "    try:\n",
    "        print('coefficients: ',model[-1].coef_)\n",
    "        print('intercept: ',model[-1].intercept_)\n",
    "        #print('\\n','original positions: ',model[-2].col_select)\n",
    "    except:\n",
    "        pass"
   ]
  },
  {
   "cell_type": "code",
   "execution_count": null,
   "metadata": {},
   "outputs": [],
   "source": [
    "for name in estimator_dict.keys():\n",
    "    print(name)\n",
    "    printTestandCVScores(name,cv_score_dict_means)"
   ]
  },
  {
   "cell_type": "code",
   "execution_count": null,
   "metadata": {},
   "outputs": [],
   "source": [
    "printTestandCVScores('elastic-net',cv_score_dict_means)\n",
    "# fits better but soooo many coefficients"
   ]
  },
  {
   "cell_type": "code",
   "execution_count": null,
   "metadata": {},
   "outputs": [],
   "source": [
    "printTestandCVScores('lin_reg_Xy_transform',cv_score_dict_means)"
   ]
  },
  {
   "cell_type": "markdown",
   "metadata": {},
   "source": []
  }
 ],
 "metadata": {
  "kernelspec": {
   "display_name": "Python 3",
   "language": "python",
   "name": "python3"
  },
  "language_info": {
   "codemirror_mode": {
    "name": "ipython",
    "version": 3
   },
   "file_extension": ".py",
   "mimetype": "text/x-python",
   "name": "python",
   "nbconvert_exporter": "python",
   "pygments_lexer": "ipython3",
   "version": "3.7.8"
  }
 },
 "nbformat": 4,
 "nbformat_minor": 4
}
