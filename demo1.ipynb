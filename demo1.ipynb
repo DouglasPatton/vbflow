{
 "cells": [
  {
   "cell_type": "code",
   "execution_count": 1,
   "metadata": {
    "slideshow": {
     "slide_type": "skip"
    }
   },
   "outputs": [],
   "source": [
    "from warnings import filterwarnings\n",
    "filterwarnings('ignore')\n",
    "import numpy as np\n",
    "import pandas as pd\n",
    "import os"
   ]
  },
  {
   "cell_type": "markdown",
   "metadata": {
    "slideshow": {
     "slide_type": "slide"
    }
   },
   "source": [
    "# Web Virtual Beach \n",
    "## version $\\alpha$ demonstration\n",
    "### building and validating predictive models\n",
    "### small datasets"
   ]
  },
  {
   "cell_type": "code",
   "execution_count": 2,
   "metadata": {
    "slideshow": {
     "slide_type": "slide"
    }
   },
   "outputs": [
    {
     "name": "stdout",
     "output_type": "stream",
     "text": [
      "no daal4py\n"
     ]
    }
   ],
   "source": [
    "kwargs=dict(\n",
    "    run_stacked=True, \n",
    "    test_share=0,\n",
    "    cv_folds=5,\n",
    "    cv_reps=2,\n",
    "    cv_strategy=None)\n",
    "\n",
    "from vb_helper import VBHelper\n",
    "vbhelper=VBHelper(**kwargs)"
   ]
  },
  {
   "cell_type": "code",
   "execution_count": 3,
   "metadata": {
    "slideshow": {
     "slide_type": "notes"
    }
   },
   "outputs": [],
   "source": [
    "scorer_list=['neg_mean_squared_error', 'neg_mean_absolute_error', 'r2'] #strings defined in scikit-learn\n",
    "vbhelper.scorer_list=scorer_list"
   ]
  },
  {
   "cell_type": "code",
   "execution_count": 6,
   "metadata": {
    "slideshow": {
     "slide_type": "skip"
    }
   },
   "outputs": [],
   "source": [
    "#load data\n",
    "data_path=os.path.join('sample_data','ex1.csv')\n",
    "df=pd.read_csv(data_path)\n",
    "#shuffle data\n",
    "shuf=np.arange(df.shape[0])\n",
    "seed=0\n",
    "rng = np.random.default_rng(seed)\n",
    "rng.shuffle(shuf)\n",
    "df=df.iloc[shuf]\n",
    "\n",
    "y_name='THG_Fish'\n",
    "loc_vars=['LAT','LONG']\n",
    "drop_vars=['Date','OrigHabCode','STA_ID']\n",
    "drop_vars.extend(loc_vars)\n",
    "drop_vars.append(y_name)\n",
    "all_vars=list(df.columns)\n",
    "x_vars=[var for var in all_vars if var not in drop_vars]\n",
    "\n",
    "predict_n=2\n",
    "X_df=df.loc[:,x_vars].iloc[predict_n:]\n",
    "X_predict=df.loc[:,x_vars].iloc[:predict_n]\n",
    "y_df=df.loc[:,y_name].iloc[predict_n:]\n",
    "y_predict=df.loc[:,y_name].iloc[:predict_n]"
   ]
  },
  {
   "cell_type": "markdown",
   "metadata": {
    "slideshow": {
     "slide_type": "slide"
    }
   },
   "source": [
    "#web VB\n",
    "### load a dataset\n",
    "dimensions of X:"
   ]
  },
  {
   "cell_type": "code",
   "execution_count": 26,
   "metadata": {},
   "outputs": [
    {
     "data": {
      "text/plain": [
       "(772, 45)"
      ]
     },
     "execution_count": 26,
     "metadata": {},
     "output_type": "execute_result"
    }
   ],
   "source": [
    "X_df.shape"
   ]
  },
  {
   "cell_type": "markdown",
   "metadata": {
    "slideshow": {
     "slide_type": "fragment"
    }
   },
   "source": [
    "dimensions of y:"
   ]
  },
  {
   "cell_type": "code",
   "execution_count": 27,
   "metadata": {
    "slideshow": {
     "slide_type": "fragment"
    }
   },
   "outputs": [
    {
     "data": {
      "text/plain": [
       "(772,)"
      ]
     },
     "execution_count": 27,
     "metadata": {},
     "output_type": "execute_result"
    }
   ],
   "source": [
    "y_df.shape"
   ]
  },
  {
   "cell_type": "code",
   "execution_count": 20,
   "metadata": {
    "slideshow": {
     "slide_type": "fragment"
    }
   },
   "outputs": [
    {
     "data": {
      "text/html": [
       "<div>\n",
       "<style scoped>\n",
       "    .dataframe tbody tr th:only-of-type {\n",
       "        vertical-align: middle;\n",
       "    }\n",
       "\n",
       "    .dataframe tbody tr th {\n",
       "        vertical-align: top;\n",
       "    }\n",
       "\n",
       "    .dataframe thead th {\n",
       "        text-align: right;\n",
       "    }\n",
       "</style>\n",
       "<table border=\"1\" class=\"dataframe\">\n",
       "  <thead>\n",
       "    <tr style=\"text-align: right;\">\n",
       "      <th></th>\n",
       "      <th>Floc_Depth_ft</th>\n",
       "      <th>AFDW_Floc</th>\n",
       "      <th>MEHG_Floc</th>\n",
       "      <th>THG_floc</th>\n",
       "      <th>Tot_Phos_floc</th>\n",
       "      <th>Bulk_Dens_Floc</th>\n",
       "      <th>Soil_Thickness_FT</th>\n",
       "      <th>AFDW_Soil</th>\n",
       "      <th>Bulk_Dens_Soil</th>\n",
       "      <th>PH_soil</th>\n",
       "      <th>...</th>\n",
       "      <th>Sol_Reac_Phos_SW</th>\n",
       "      <th>THG_SW</th>\n",
       "      <th>TOC_SW</th>\n",
       "      <th>Tot_Nitrogen_SW</th>\n",
       "      <th>Tot_Phos_SW</th>\n",
       "      <th>REDOX_PW</th>\n",
       "      <th>H2S_PW</th>\n",
       "      <th>Sol_Reac_Phos_PW</th>\n",
       "      <th>MEHG_Peri_AVG</th>\n",
       "      <th>THG_epi_peri</th>\n",
       "    </tr>\n",
       "  </thead>\n",
       "  <tbody>\n",
       "    <tr>\n",
       "      <th>count</th>\n",
       "      <td>246.0</td>\n",
       "      <td>280.0</td>\n",
       "      <td>338.0</td>\n",
       "      <td>361.0</td>\n",
       "      <td>282.0</td>\n",
       "      <td>275.0</td>\n",
       "      <td>772.0</td>\n",
       "      <td>768.0</td>\n",
       "      <td>620.0</td>\n",
       "      <td>272.0</td>\n",
       "      <td>...</td>\n",
       "      <td>312.0</td>\n",
       "      <td>765.0</td>\n",
       "      <td>762.0</td>\n",
       "      <td>272.0</td>\n",
       "      <td>761.0</td>\n",
       "      <td>646.0</td>\n",
       "      <td>415.0</td>\n",
       "      <td>418.0</td>\n",
       "      <td>464.0</td>\n",
       "      <td>312.0</td>\n",
       "    </tr>\n",
       "  </tbody>\n",
       "</table>\n",
       "<p>1 rows × 41 columns</p>\n",
       "</div>"
      ],
      "text/plain": [
       "       Floc_Depth_ft  AFDW_Floc  MEHG_Floc  THG_floc  Tot_Phos_floc  \\\n",
       "count          246.0      280.0      338.0     361.0          282.0   \n",
       "\n",
       "       Bulk_Dens_Floc  Soil_Thickness_FT  AFDW_Soil  Bulk_Dens_Soil  PH_soil  \\\n",
       "count           275.0              772.0      768.0           620.0    272.0   \n",
       "\n",
       "       ...  Sol_Reac_Phos_SW  THG_SW  TOC_SW  Tot_Nitrogen_SW  Tot_Phos_SW  \\\n",
       "count  ...             312.0   765.0   762.0            272.0        761.0   \n",
       "\n",
       "       REDOX_PW  H2S_PW  Sol_Reac_Phos_PW  MEHG_Peri_AVG  THG_epi_peri  \n",
       "count     646.0   415.0             418.0          464.0         312.0  \n",
       "\n",
       "[1 rows x 41 columns]"
      ]
     },
     "execution_count": 20,
     "metadata": {},
     "output_type": "execute_result"
    }
   ],
   "source": [
    "\n",
    "X_df.describe().iloc[:1,:]"
   ]
  },
  {
   "cell_type": "code",
   "execution_count": 11,
   "metadata": {
    "slideshow": {
     "slide_type": "fragment"
    }
   },
   "outputs": [
    {
     "data": {
      "text/plain": [
       "count    772.000000\n",
       "mean     137.040415\n",
       "std      116.689031\n",
       "min        3.800000\n",
       "25%       51.300000\n",
       "50%      100.000000\n",
       "75%      190.950000\n",
       "max      926.600000\n",
       "Name: THG_Fish, dtype: float64"
      ]
     },
     "execution_count": 11,
     "metadata": {},
     "output_type": "execute_result"
    }
   ],
   "source": [
    "y_df.describe()"
   ]
  },
  {
   "cell_type": "code",
   "execution_count": null,
   "metadata": {},
   "outputs": [],
   "source": [
    "vbhelper.setData(X_df,y_df)"
   ]
  },
  {
   "cell_type": "code",
   "execution_count": null,
   "metadata": {
    "slideshow": {
     "slide_type": "skip"
    }
   },
   "outputs": [],
   "source": [
    "gridpoints=5"
   ]
  },
  {
   "cell_type": "code",
   "execution_count": null,
   "metadata": {},
   "outputs": [],
   "source": []
  }
 ],
 "metadata": {
  "kernelspec": {
   "display_name": "Python 3",
   "language": "python",
   "name": "python3"
  },
  "language_info": {
   "codemirror_mode": {
    "name": "ipython",
    "version": 3
   },
   "file_extension": ".py",
   "mimetype": "text/x-python",
   "name": "python",
   "nbconvert_exporter": "python",
   "pygments_lexer": "ipython3",
   "version": "3.8.5"
  }
 },
 "nbformat": 4,
 "nbformat_minor": 4
}
