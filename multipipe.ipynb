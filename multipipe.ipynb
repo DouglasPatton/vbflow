{
 "cells": [
  {
   "cell_type": "markdown",
   "metadata": {},
   "source": [
    "### Setup"
   ]
  },
  {
   "cell_type": "code",
   "execution_count": 1,
   "metadata": {},
   "outputs": [],
   "source": [
    "import pandas as pd\n",
    "import numpy as np\n",
    "import os\n",
    "from time import time"
   ]
  },
  {
   "cell_type": "code",
   "execution_count": 2,
   "metadata": {},
   "outputs": [
    {
     "name": "stdout",
     "output_type": "stream",
     "text": [
      "no daal4py\n"
     ]
    }
   ],
   "source": [
    "#import sys\n",
    "#sys.path.append(os.path.abspath('..'))#sys.path[0] + '/..') \n",
    "from vb_estimators import  LinRegSupreme,LinSVR,RBFSVR,ENet,L1Lars,GBR,HGBR,FlexiblePipe\n",
    "from vb_helper import VBHelper\n",
    "from vb_cross_validator import regressor_q_stratified_cv"
   ]
  },
  {
   "cell_type": "code",
   "execution_count": 3,
   "metadata": {},
   "outputs": [],
   "source": [
    "\n",
    "from warnings import filterwarnings\n",
    "filterwarnings('ignore')\n"
   ]
  },
  {
   "cell_type": "markdown",
   "metadata": {},
   "source": [
    "### setup the experiment/project\n",
    "#### note the 'run_stacked' kwarg that can be set to create the stacked_regressor"
   ]
  },
  {
   "cell_type": "code",
   "execution_count": 4,
   "metadata": {},
   "outputs": [],
   "source": [
    "gridpoints=5\n",
    "kwargs=dict(\n",
    "    run_stacked=True,\n",
    "    test_share=0,#keep at 0 for small datasets\n",
    "    cv_folds=5,\n",
    "    cv_reps=2,\n",
    "    #cv_groupcount=5,\n",
    "    cv_strategy=('quantile',5), # for stratified cv\n",
    "    random_state=2 # random_state for reproducibility\n",
    ")\n",
    "vbhelper=VBHelper(**kwargs)"
   ]
  },
  {
   "cell_type": "code",
   "execution_count": 5,
   "metadata": {},
   "outputs": [],
   "source": [
    "scorer_list=['neg_mean_squared_error', 'neg_mean_absolute_error', 'r2'] #cross_validate wants strings\n",
    "vbhelper.scorer_list=scorer_list"
   ]
  },
  {
   "cell_type": "markdown",
   "metadata": {},
   "source": [
    "##### User Import Dataset Step"
   ]
  },
  {
   "cell_type": "code",
   "execution_count": 6,
   "metadata": {},
   "outputs": [
    {
     "name": "stdout",
     "output_type": "stream",
     "text": [
      "['STA_ID', 'LONG', 'LAT', 'OrigHabCode', 'Date', 'THG_Fish', 'YEAR', 'SEASON', 'SUBAREA', 'HABCODE', 'Floc_Depth_ft', 'AFDW_Floc', 'MEHG_Floc', 'THG_floc', 'Tot_Phos_floc', 'Bulk_Dens_Floc', 'Soil_Thickness_FT', 'AFDW_Soil', 'Bulk_Dens_Soil', 'PH_soil', 'SO4_soil', 'MEHG_soil', 'THG_soil', 'Tot_Carbon_Soil_%', 'Tot_Nitrogen_Soil_%', 'Tot_Phos_soil', 'Wat_Depth_ft', 'COND_SW', 'DO_SW', 'TEMP_SW', 'PH_SW', 'TURB_SW', 'REDOX_SW', 'Alk_Phos_SW', 'CHLA_SW', 'CL_SW', 'MEHG_SW', 'NH4_SW', 'NO2_SW', 'NO3_SW', 'SO4_SW', 'Sol_Reac_Phos_SW', 'THG_SW', 'TOC_SW', 'Tot_Nitrogen_SW', 'Tot_Phos_SW', 'REDOX_PW', 'H2S_PW', 'Sol_Reac_Phos_PW', 'MEHG_Peri_AVG', 'THG_epi_peri']\n"
     ]
    }
   ],
   "source": [
    "data_path=os.path.join('sample_data','ex1.csv')\n",
    "df=pd.read_csv(data_path)\n",
    "all_vars=list(df.columns)\n",
    "print(all_vars)"
   ]
  },
  {
   "cell_type": "markdown",
   "metadata": {},
   "source": [
    "#### user has option to specify \"regulatory standard\""
   ]
  },
  {
   "cell_type": "code",
   "execution_count": 7,
   "metadata": {},
   "outputs": [],
   "source": [
    "#The user sets the variables to use for x and y.\n",
    "y_name='THG_Fish'\n",
    "loc_vars=['LAT','LONG']\n",
    "drop_vars=['Date','OrigHabCode','STA_ID']\n",
    "drop_vars.extend(loc_vars)\n",
    "drop_vars.append(y_name)\n",
    "x_vars=[var for var in all_vars if var not in drop_vars]\n",
    "X_df=df.loc[:,x_vars]\n",
    "y_df=df.loc[:,y_name]"
   ]
  },
  {
   "cell_type": "code",
   "execution_count": 8,
   "metadata": {},
   "outputs": [],
   "source": [
    "\n",
    "shuf=np.arange(y_df.shape[0])\n",
    "seed=0\n",
    "rng = np.random.default_rng(seed)\n",
    "rng.shuffle(shuf)\n",
    "X_df=X_df.iloc[shuf]\n",
    "y_df=y_df.iloc[shuf]\n",
    "vbhelper.setData(X_df,y_df)"
   ]
  },
  {
   "cell_type": "markdown",
   "metadata": {},
   "source": []
  },
  {
   "cell_type": "markdown",
   "metadata": {},
   "source": [
    "### setup the analytical pipelines\n",
    "#### note the inner_cv_dict and prep_dict that are used to consolidate vb_estimator kwargs and to facilitate the divison between prep and post steps."
   ]
  },
  {
   "cell_type": "code",
   "execution_count": 9,
   "metadata": {},
   "outputs": [],
   "source": [
    "inner_cv_dict={'cv_reps':1,'cv_folds':5,'cv_strategy':('quantile',5)}\n",
    "inner_cv=vbhelper.getCV(cv_dict=inner_cv_dict)\n",
    "\n",
    "prep_dict={'impute_strategy':'impute_knn5','cat_idx':vbhelper.cat_idx}\n",
    "\n",
    "pipe_kwargs=dict(do_prep=not vbhelper.run_stacked,prep_dict=prep_dict,inner_cv=inner_cv,gridpoints=gridpoints,cat_idx=vbhelper.cat_idx,float_idx=vbhelper.float_idx,bestT=False)\n",
    "pipe_dict={\n",
    "    'gradient-boosting-reg':{'pipe':GBR,'pipe_kwargs':dict(\n",
    "        prep_dict=prep_dict,do_prep=not vbhelper.run_stacked)},\n",
    "    #'lin-reg-supreme':{'pipe':LinRegSupreme,'pipe_kwargs':pipe_kwargs}, \n",
    "    #'powXB-least-sq':{'pipe':FlexiblePipe,'pipe_kwargs':{**pipe_kwargs,'flex_kwargs':{'form':'powXB'}}}),\n",
    "    #'expXB-least-sq':{'pipe':FlexiblePipe,'pipe_kwargs':{**pipe_kwargs,'flex_kwargs':{'form':'expXB'}}}), #expXB is default\n",
    "    #'nonlinear-search-least-sq': {'pipe':FlexiblePipe,'pipe_kwargs':{**pipe_kwargs,'functional_form_search':True}},\n",
    "    #'robust-powXB-least-sq':{'pipe':FlexiblePipe,'pipe_kwargs':{**pipe_kwargs,'flex_kwargs':{'form':'powXB','robust':True}}},\n",
    "    #'robust-expXB-least-sq':{'pipe':FlexiblePipe,'pipe_kwargs':{**pipe_kwargs,'flex_kwargs':{'form':'expXB','robust':True}}}, #expXB is default\n",
    "    #'robust-nonlinear-search-least-sq': {'pipe':FlexiblePipe,'pipe_kwargs':{**pipe_kwargs,'functional_form_search':True,'flex_kwargs':{'robust':True}}},\n",
    "    #'histogram-gradient-boosting-reg':{'pipe':HGBR,'pipe_kwargs':{'prep_dict':{'cat_idx':vbhelper.cat_idx}}},\n",
    "    \n",
    "    \n",
    "    #'elastic-net':{'pipe':ENet,'pipe_kwargs':pipe_kwargs}, \n",
    "    #'linear-svr-cv':{'pipe':LinSVR,'pipe_kwargs':pipe_kwargs}\n",
    "    'rbf-svr-cv':{'pipe':RBFSVR,'pipe_kwargs':pipe_kwargs}, \n",
    "    'lassolars':{'pipe':L1Lars,'pipe_kwargs':pipe_kwargs},\n",
    "    }\n",
    "\n",
    "\n",
    "#estimator_dict={'multi_pipe':{'pipe':MultiPipe(pipelist=[(k,v) for k,v in estimator_dict.items()],cat_idx=vbhelper.cat_idx)}\n",
    "vbhelper.setPipeDict(pipe_dict) #formerly setEstimatorDict\n",
    "vbhelper.setModelDict()\n",
    "#vbhelper.model_dict={key:val() for key,val in vbhelper.estimator_dict.items()} # they will be models once .fit is called"
   ]
  },
  {
   "cell_type": "markdown",
   "metadata": {},
   "source": [
    "### create a smaller test run to check runtime, debug, etc."
   ]
  },
  {
   "cell_type": "code",
   "execution_count": 10,
   "metadata": {},
   "outputs": [],
   "source": [
    "from sklearn.model_selection import train_test_split\n",
    "X_train, X_test, y_train, y_test=train_test_split(X_df,y_df,test_size=0.5) #just for debugging"
   ]
  },
  {
   "cell_type": "code",
   "execution_count": 11,
   "metadata": {},
   "outputs": [
    {
     "name": "stdout",
     "output_type": "stream",
     "text": [
      "multi_pipe\n",
      "train R2: 0.6402879841330247\n",
      "test R2: 0.44742136567652846\n",
      "runtime:0.8441261132558187 min.\n",
      "\n"
     ]
    }
   ],
   "source": [
    "runtest=True\n",
    "if runtest:\n",
    "    for name,est in vbhelper.model_dict.items():\n",
    "        start=time()\n",
    "        print(name)\n",
    "        est.fit(X_train,y_train)\n",
    "        print('train R2:',est.score(X_train,y_train))\n",
    "        if not X_test is None:print('test R2:',est.score(X_test,y_test))\n",
    "        end=time()\n",
    "        print(f'runtime:{(end-start)/60} min.\\n')\n"
   ]
  },
  {
   "cell_type": "code",
   "execution_count": 12,
   "metadata": {},
   "outputs": [
    {
     "name": "stdout",
     "output_type": "stream",
     "text": [
      "0.4367832529081146\n",
      "0.3684239525511005\n",
      "0.3758403231631384\n"
     ]
    }
   ],
   "source": [
    "if vbhelper.run_stacked and runtest:\n",
    "    mp=vbhelper.model_dict['multi_pipe']\n",
    "    fitted_ipipe_dict=mp.build_individual_fitted_pipelines()\n",
    "    print(fitted_ipipe_dict['lassolars'].score(X_test,y_test))\n",
    "    print(fitted_ipipe_dict['gradient-boosting-reg'].score(X_test,y_test))\n",
    "    print(fitted_ipipe_dict['rbf-svr-cv'].score(X_test,y_test))\n",
    "    \n",
    "    "
   ]
  },
  {
   "cell_type": "code",
   "execution_count": null,
   "metadata": {},
   "outputs": [],
   "source": []
  },
  {
   "cell_type": "markdown",
   "metadata": {},
   "source": [
    "### end small test-run debugging"
   ]
  },
  {
   "cell_type": "markdown",
   "metadata": {},
   "source": [
    "---\n",
    "\n",
    "### Fit the final models for all estimators"
   ]
  },
  {
   "cell_type": "code",
   "execution_count": 23,
   "metadata": {},
   "outputs": [
    {
     "name": "stdout",
     "output_type": "stream",
     "text": [
      "multi_pipe,[('neg_mean_squared_error', -7067.8298618903455), ('neg_mean_absolute_error', -60.758502475688786), ('r2', 0.4807790619025935)], runtime:4.273568173249562 min.\n",
      "est_n yhat test: [166.9090638  115.99347027]\n",
      "est_n yhat test: [194.85110925 166.76664962]\n",
      "est_n yhat test: [174.50179047 126.68168385]\n",
      "est_n yhat test: [139.70812401 146.33550868]\n",
      "est_n yhat test: [173.52362085 143.40533929]\n",
      "est_n yhat test: [174.2710678  123.15098936]\n",
      "est_n yhat test: [142.4653838  118.00589346]\n",
      "est_n yhat test: [178.29265167 142.93621325]\n",
      "est_n yhat test: [164.2416895  125.44156218]\n",
      "est_n yhat test: [145.76483228 155.64500039]\n",
      "est_n yhat test: [180.10927944 159.42072967]\n",
      "est_n yhat test: [175.03078962 129.73049527]\n",
      "est_n yhat test: [148.42457009 121.28402836]\n",
      "est_n yhat test: [169.51104573 149.15323151]\n",
      "est_n yhat test: [162.94852257 123.21175675]\n",
      "est_n yhat test: [135.66019173 133.44997247]\n",
      "est_n yhat test: [179.01571005 143.43809631]\n",
      "est_n yhat test: [164.52333665 128.55306188]\n",
      "est_n yhat test: [175.19531754 123.0168098 ]\n",
      "est_n yhat test: [177.81066032 142.74330575]\n",
      "est_n yhat test: [172.74085453 125.3889579 ]\n",
      "est_n yhat test: [160.88663942 125.40094524]\n",
      "est_n yhat test: [176.00575485 141.14457259]\n",
      "est_n yhat test: [185.64380902 117.55022711]\n",
      "est_n yhat test: [157.69365644 136.00912977]\n",
      "est_n yhat test: [175.05333293 137.31543172]\n",
      "est_n yhat test: [169.82523988 120.32866713]\n",
      "est_n yhat test: [137.03876469 154.00489933]\n",
      "est_n yhat test: [196.02751665 153.55200191]\n",
      "est_n yhat test: [168.74760058 126.45781284]\n"
     ]
    }
   ],
   "source": [
    "vbhelper.runCrossValidate(try_load=True) #try_load speeds things up by reloading results if they've been run before with same setup and data"
   ]
  },
  {
   "cell_type": "code",
   "execution_count": 14,
   "metadata": {},
   "outputs": [],
   "source": [
    "#vbhelper.fitFinalModelDict()"
   ]
  },
  {
   "cell_type": "code",
   "execution_count": 15,
   "metadata": {},
   "outputs": [],
   "source": [
    "#plot cv_yhat"
   ]
  },
  {
   "cell_type": "markdown",
   "metadata": {},
   "source": [
    "#### graphs and table to summarize results"
   ]
  },
  {
   "cell_type": "code",
   "execution_count": 16,
   "metadata": {},
   "outputs": [],
   "source": [
    "vbhelper.buildCVScoreDict()"
   ]
  },
  {
   "cell_type": "code",
   "execution_count": 17,
   "metadata": {},
   "outputs": [
    {
     "data": {
      "text/plain": [
       "{'gradient-boosting-reg': {'neg_mean_squared_error': array([-7691.48925745, -8168.19560515]),\n",
       "  'neg_mean_absolute_error': array([-63.63023003, -65.15833111]),\n",
       "  'r2': array([0.43296533, 0.39782142])},\n",
       " 'rbf-svr-cv': {'neg_mean_squared_error': array([-7712.59685983, -7967.87033901]),\n",
       "  'neg_mean_absolute_error': array([-60.0983606 , -61.36529471]),\n",
       "  'r2': array([0.43140923, 0.41258987])},\n",
       " 'lassolars': {'neg_mean_squared_error': array([-7964.42817191, -8256.18530277]),\n",
       "  'neg_mean_absolute_error': array([-65.14373736, -66.73024803]),\n",
       "  'r2': array([0.41284363, 0.39133461])},\n",
       " 'multi_pipe': {'neg_mean_squared_error': array([-6907.36477077, -7226.58512824]),\n",
       "  'neg_mean_absolute_error': array([-60.04320193, -61.47049705]),\n",
       "  'r2': array([0.49077283, 0.46723916])}}"
      ]
     },
     "execution_count": 17,
     "metadata": {},
     "output_type": "execute_result"
    }
   ],
   "source": [
    "vbhelper.cv_score_dict"
   ]
  },
  {
   "cell_type": "code",
   "execution_count": 18,
   "metadata": {},
   "outputs": [
    {
     "name": "stdout",
     "output_type": "stream",
     "text": [
      "scores for scorer: neg_mean_squared_error:\n",
      "    multi_pipe:-7066.974949502992\n",
      "scores for scorer: neg_mean_absolute_error:\n",
      "    multi_pipe:-60.756849491296045\n",
      "scores for scorer: r2:\n",
      "    multi_pipe:0.4790059956594133\n"
     ]
    }
   ],
   "source": [
    "vbhelper.viewCVScoreDict()"
   ]
  },
  {
   "cell_type": "code",
   "execution_count": 19,
   "metadata": {},
   "outputs": [],
   "source": [
    "vbhelper.predictCVYhat()"
   ]
  },
  {
   "cell_type": "code",
   "execution_count": 20,
   "metadata": {},
   "outputs": [
    {
     "name": "stdout",
     "output_type": "stream",
     "text": [
      "setting plotter data\n"
     ]
    }
   ],
   "source": [
    "vbhelper.jsonifyProjectCVResults()"
   ]
  },
  {
   "cell_type": "code",
   "execution_count": 21,
   "metadata": {},
   "outputs": [
    {
     "data": {
      "text/plain": [
       "{'gradient-boosting-reg': {'neg_mean_squared_error': array([-7691.48925745, -8168.19560515]),\n",
       "  'neg_mean_absolute_error': array([-63.63023003, -65.15833111]),\n",
       "  'r2': array([0.43296533, 0.39782142])},\n",
       " 'rbf-svr-cv': {'neg_mean_squared_error': array([-7712.59685983, -7967.87033901]),\n",
       "  'neg_mean_absolute_error': array([-60.0983606 , -61.36529471]),\n",
       "  'r2': array([0.43140923, 0.41258987])},\n",
       " 'lassolars': {'neg_mean_squared_error': array([-7964.42817191, -8256.18530277]),\n",
       "  'neg_mean_absolute_error': array([-65.14373736, -66.73024803]),\n",
       "  'r2': array([0.41284363, 0.39133461])},\n",
       " 'multi_pipe': {'neg_mean_squared_error': array([-6907.36477077, -7226.58512824]),\n",
       "  'neg_mean_absolute_error': array([-60.04320193, -61.47049705]),\n",
       "  'r2': array([0.49077283, 0.46723916])}}"
      ]
     },
     "execution_count": 21,
     "metadata": {},
     "output_type": "execute_result"
    }
   ],
   "source": [
    "vbhelper.cv_score_dict"
   ]
  },
  {
   "cell_type": "code",
   "execution_count": null,
   "metadata": {},
   "outputs": [],
   "source": [
    "    "
   ]
  },
  {
   "cell_type": "code",
   "execution_count": 22,
   "metadata": {},
   "outputs": [
    {
     "ename": "AssertionError",
     "evalue": "plots moved elsewhere",
     "output_type": "error",
     "traceback": [
      "\u001b[0;31m---------------------------------------------------------------------------\u001b[0m",
      "\u001b[0;31mAssertionError\u001b[0m                            Traceback (most recent call last)",
      "\u001b[0;32m<ipython-input-22-8d1eed3a273f>\u001b[0m in \u001b[0;36m<module>\u001b[0;34m\u001b[0m\n\u001b[0;32m----> 1\u001b[0;31m \u001b[0;32massert\u001b[0m \u001b[0;32mFalse\u001b[0m\u001b[0;34m,\u001b[0m \u001b[0;34m'plots moved elsewhere'\u001b[0m\u001b[0;34m\u001b[0m\u001b[0;34m\u001b[0m\u001b[0m\n\u001b[0m",
      "\u001b[0;31mAssertionError\u001b[0m: plots moved elsewhere"
     ]
    }
   ],
   "source": [
    "assert False, 'plots moved elsewhere'"
   ]
  },
  {
   "cell_type": "code",
   "execution_count": null,
   "metadata": {},
   "outputs": [],
   "source": [
    "#vbhelper.pickleSelf() #for development in other notebooks"
   ]
  },
  {
   "cell_type": "code",
   "execution_count": null,
   "metadata": {},
   "outputs": [],
   "source": [
    "vbhelper.plotCVScores(sort=1)"
   ]
  },
  {
   "cell_type": "code",
   "execution_count": null,
   "metadata": {},
   "outputs": [],
   "source": []
  },
  {
   "cell_type": "code",
   "execution_count": null,
   "metadata": {},
   "outputs": [],
   "source": [
    "vbhelper.plotCVYhatVsY(regulatory_standard=False,decision_criteria=False)"
   ]
  },
  {
   "cell_type": "markdown",
   "metadata": {},
   "source": [
    "#### Add table of results for the pipelines, coefficients, stats, etc. "
   ]
  },
  {
   "cell_type": "code",
   "execution_count": null,
   "metadata": {},
   "outputs": [],
   "source": [
    "vbhelper.plotCVYhat(single_plot=True) \n",
    "# make Y line faint and make dots at actual values\n",
    "# add the mean of each series and make more visible\n",
    "# sort by original row order or by increasing value of Y"
   ]
  },
  {
   "cell_type": "code",
   "execution_count": null,
   "metadata": {},
   "outputs": [],
   "source": [
    "vbhelper.plotCVYhat(single_plot=False)"
   ]
  },
  {
   "cell_type": "markdown",
   "metadata": {},
   "source": [
    "### Sensitivity analysis of rows\n",
    "Outlier plots\n",
    "DfFits, leverage"
   ]
  },
  {
   "cell_type": "markdown",
   "metadata": {},
   "source": [
    "### Sensitivity analysis of columns/features\n",
    "#### partial dependence plots (PDP in GBM)"
   ]
  },
  {
   "cell_type": "markdown",
   "metadata": {},
   "source": [
    "## Next, user selects pipeline, final model is fit and ready for prediction"
   ]
  },
  {
   "cell_type": "code",
   "execution_count": null,
   "metadata": {},
   "outputs": [],
   "source": [
    "###"
   ]
  },
  {
   "cell_type": "code",
   "execution_count": null,
   "metadata": {},
   "outputs": [],
   "source": []
  }
 ],
 "metadata": {
  "kernelspec": {
   "display_name": "Python 3",
   "language": "python",
   "name": "python3"
  },
  "language_info": {
   "codemirror_mode": {
    "name": "ipython",
    "version": 3
   },
   "file_extension": ".py",
   "mimetype": "text/x-python",
   "name": "python",
   "nbconvert_exporter": "python",
   "pygments_lexer": "ipython3",
   "version": "3.8.6"
  }
 },
 "nbformat": 4,
 "nbformat_minor": 4
}
