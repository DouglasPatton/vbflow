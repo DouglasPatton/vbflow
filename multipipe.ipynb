{
 "cells": [
  {
   "cell_type": "markdown",
   "metadata": {},
   "source": [
    "### Setup"
   ]
  },
  {
   "cell_type": "code",
   "execution_count": 1,
   "metadata": {},
   "outputs": [],
   "source": [
    "import pandas as pd\n",
    "import numpy as np\n",
    "import os\n",
    "from time import time"
   ]
  },
  {
   "cell_type": "code",
   "execution_count": 2,
   "metadata": {},
   "outputs": [
    {
     "name": "stdout",
     "output_type": "stream",
     "text": [
      "no daal4py\n"
     ]
    }
   ],
   "source": [
    "#import sys\n",
    "#sys.path.append(os.path.abspath('..'))#sys.path[0] + '/..') \n",
    "from vb_estimators import  LinRegSupreme,LinSVR,RBFSVR,ENet,L1Lars,GBR,HGBR,FlexiblePipe\n",
    "from vb_helper import VBHelper\n",
    "from vb_cross_validator import regressor_q_stratified_cv"
   ]
  },
  {
   "cell_type": "code",
   "execution_count": 3,
   "metadata": {},
   "outputs": [],
   "source": [
    "\n",
    "from warnings import filterwarnings\n",
    "filterwarnings('ignore')\n"
   ]
  },
  {
   "cell_type": "markdown",
   "metadata": {},
   "source": [
    "### setup the experiment/project\n",
    "#### note the 'run_stacked' kwarg that can be set to create the stacked_regressor"
   ]
  },
  {
   "cell_type": "code",
   "execution_count": 4,
   "metadata": {},
   "outputs": [],
   "source": [
    "gridpoints=5\n",
    "kwargs=dict(\n",
    "    shuffle=True,\n",
    "    run_stacked=True,\n",
    "    test_share=0,#keep at 0 for small datasets\n",
    "    cv_folds=5,\n",
    "    cv_reps=10,\n",
    "    #cv_groupcount=5,\n",
    "    cv_strategy=('quantile',5), # for stratified cv\n",
    "    random_state=2 # random_state for reproducibility\n",
    ")\n",
    "vbhelper=VBHelper(**kwargs)"
   ]
  },
  {
   "cell_type": "code",
   "execution_count": 5,
   "metadata": {},
   "outputs": [],
   "source": [
    "scorer_list=['neg_mean_squared_error', 'neg_mean_absolute_error', 'r2'] #cross_validate wants strings\n",
    "vbhelper.scorer_list=scorer_list"
   ]
  },
  {
   "cell_type": "markdown",
   "metadata": {},
   "source": [
    "##### User Import Dataset Step"
   ]
  },
  {
   "cell_type": "code",
   "execution_count": 6,
   "metadata": {},
   "outputs": [
    {
     "name": "stdout",
     "output_type": "stream",
     "text": [
      "['STA_ID', 'LONG', 'LAT', 'OrigHabCode', 'Date', 'THG_Fish', 'YEAR', 'SEASON', 'SUBAREA', 'HABCODE', 'Floc_Depth_ft', 'AFDW_Floc', 'MEHG_Floc', 'THG_floc', 'Tot_Phos_floc', 'Bulk_Dens_Floc', 'Soil_Thickness_FT', 'AFDW_Soil', 'Bulk_Dens_Soil', 'PH_soil', 'SO4_soil', 'MEHG_soil', 'THG_soil', 'Tot_Carbon_Soil_%', 'Tot_Nitrogen_Soil_%', 'Tot_Phos_soil', 'Wat_Depth_ft', 'COND_SW', 'DO_SW', 'TEMP_SW', 'PH_SW', 'TURB_SW', 'REDOX_SW', 'Alk_Phos_SW', 'CHLA_SW', 'CL_SW', 'MEHG_SW', 'NH4_SW', 'NO2_SW', 'NO3_SW', 'SO4_SW', 'Sol_Reac_Phos_SW', 'THG_SW', 'TOC_SW', 'Tot_Nitrogen_SW', 'Tot_Phos_SW', 'REDOX_PW', 'H2S_PW', 'Sol_Reac_Phos_PW', 'MEHG_Peri_AVG', 'THG_epi_peri']\n"
     ]
    }
   ],
   "source": [
    "data_path=os.path.join('sample_data','ex1.csv')\n",
    "df=pd.read_csv(data_path)\n",
    "all_vars=list(df.columns)\n",
    "print(all_vars)"
   ]
  },
  {
   "cell_type": "markdown",
   "metadata": {},
   "source": [
    "#### user has option to specify \"regulatory standard\""
   ]
  },
  {
   "cell_type": "code",
   "execution_count": 7,
   "metadata": {},
   "outputs": [],
   "source": [
    "#The user sets the variables to use for x and y.\n",
    "y_name='THG_Fish'\n",
    "loc_vars=['LAT','LONG']\n",
    "drop_vars=['Date','OrigHabCode','STA_ID']\n",
    "drop_vars.extend(loc_vars)\n",
    "drop_vars.append(y_name)\n",
    "x_vars=[var for var in all_vars if var not in drop_vars]\n",
    "X_df=df.loc[:,x_vars]\n",
    "y_df=df.loc[:,y_name].to_frame()"
   ]
  },
  {
   "cell_type": "code",
   "execution_count": 8,
   "metadata": {},
   "outputs": [
    {
     "name": "stdout",
     "output_type": "stream",
     "text": [
      "# of duplicate rows of data: 0\n",
      "# of duplicate rows of X: 0\n"
     ]
    }
   ],
   "source": [
    "vbhelper.setData(X_df,y_df)"
   ]
  },
  {
   "cell_type": "markdown",
   "metadata": {},
   "source": []
  },
  {
   "cell_type": "markdown",
   "metadata": {},
   "source": [
    "### setup the analytical pipelines\n",
    "#### note the inner_cv_dict and prep_dict that are used to consolidate vb_estimator kwargs and to facilitate the divison between prep and post steps."
   ]
  },
  {
   "cell_type": "code",
   "execution_count": 9,
   "metadata": {},
   "outputs": [],
   "source": [
    "inner_cv_dict={'cv_reps':1,'cv_folds':5,'cv_strategy':('quantile',5)}\n",
    "inner_cv=vbhelper.getCV(cv_dict=inner_cv_dict)\n",
    "\n",
    "prep_dict={'impute_strategy':'impute_knn5','cat_idx':vbhelper.cat_idx}\n",
    "\n",
    "pipe_kwargs=dict(do_prep=not vbhelper.run_stacked,prep_dict=prep_dict,inner_cv=inner_cv,gridpoints=gridpoints,cat_idx=vbhelper.cat_idx,float_idx=vbhelper.float_idx,bestT=False)\n",
    "pipe_dict={\n",
    "    'gradient-boosting-reg':{'pipe':GBR,'pipe_kwargs':dict(\n",
    "        prep_dict=prep_dict,do_prep=not vbhelper.run_stacked)},\n",
    "    #'lin-reg-supreme':{'pipe':LinRegSupreme,'pipe_kwargs':pipe_kwargs}, \n",
    "    #'powXB-least-sq':{'pipe':FlexiblePipe,'pipe_kwargs':{**pipe_kwargs,'flex_kwargs':{'form':'powXB'}}}),\n",
    "    #'expXB-least-sq':{'pipe':FlexiblePipe,'pipe_kwargs':{**pipe_kwargs,'flex_kwargs':{'form':'expXB'}}}), #expXB is default\n",
    "    #'nonlinear-search-least-sq': {'pipe':FlexiblePipe,'pipe_kwargs':{**pipe_kwargs,'functional_form_search':True}},\n",
    "    #'robust-powXB-least-sq':{'pipe':FlexiblePipe,'pipe_kwargs':{**pipe_kwargs,'flex_kwargs':{'form':'powXB','robust':True}}},\n",
    "    #'robust-expXB-least-sq':{'pipe':FlexiblePipe,'pipe_kwargs':{**pipe_kwargs,'flex_kwargs':{'form':'expXB','robust':True}}}, #expXB is default\n",
    "    #'robust-nonlinear-search-least-sq': {'pipe':FlexiblePipe,'pipe_kwargs':{**pipe_kwargs,'functional_form_search':True,'flex_kwargs':{'robust':True}}},\n",
    "    #'histogram-gradient-boosting-reg':{'pipe':HGBR,'pipe_kwargs':{'prep_dict':{'cat_idx':vbhelper.cat_idx}}},\n",
    "    \n",
    "    \n",
    "    #'elastic-net':{'pipe':ENet,'pipe_kwargs':pipe_kwargs}, \n",
    "    #'linear-svr-cv':{'pipe':LinSVR,'pipe_kwargs':pipe_kwargs}\n",
    "    'rbf-svr-cv':{'pipe':RBFSVR,'pipe_kwargs':pipe_kwargs}, \n",
    "    'lassolars':{'pipe':L1Lars,'pipe_kwargs':pipe_kwargs},\n",
    "    }\n",
    "\n",
    "\n",
    "#estimator_dict={'multi_pipe':{'pipe':MultiPipe(pipelist=[(k,v) for k,v in estimator_dict.items()],cat_idx=vbhelper.cat_idx)}\n",
    "vbhelper.setPipeDict(pipe_dict) #formerly setEstimatorDict\n",
    "vbhelper.setModelDict()\n",
    "#vbhelper.model_dict={key:val() for key,val in vbhelper.estimator_dict.items()} # they will be models once .fit is called"
   ]
  },
  {
   "cell_type": "markdown",
   "metadata": {},
   "source": [
    "### create a smaller test run to check runtime, debug, etc."
   ]
  },
  {
   "cell_type": "code",
   "execution_count": 10,
   "metadata": {},
   "outputs": [],
   "source": [
    "from sklearn.model_selection import train_test_split\n",
    "X_train, X_test, y_train, y_test=train_test_split(X_df,y_df,test_size=0.5,random_state=5) #just for debugging"
   ]
  },
  {
   "cell_type": "code",
   "execution_count": 11,
   "metadata": {},
   "outputs": [
    {
     "name": "stdout",
     "output_type": "stream",
     "text": [
      "multi_pipe\n",
      "train R2: 0.6393890104294966\n",
      "test R2: 0.46776458502285223\n",
      "runtime:0.590310295422872 min.\n",
      "\n"
     ]
    }
   ],
   "source": [
    "runtest=True\n",
    "if runtest:\n",
    "    for name,est in vbhelper.model_dict.items():\n",
    "        start=time()\n",
    "        print(name)\n",
    "        est.fit(X_train,y_train)\n",
    "        print('train R2:',est.score(X_train,y_train))\n",
    "        if not X_test is None:print('test R2:',est.score(X_test,y_test))\n",
    "        end=time()\n",
    "        print(f'runtime:{(end-start)/60} min.\\n')\n"
   ]
  },
  {
   "cell_type": "code",
   "execution_count": 12,
   "metadata": {},
   "outputs": [
    {
     "name": "stdout",
     "output_type": "stream",
     "text": [
      "0.3978539049810762\n",
      "0.3323798670465754\n",
      "0.42592350110871346\n"
     ]
    }
   ],
   "source": [
    "if vbhelper.run_stacked and runtest:\n",
    "    mp=vbhelper.model_dict['multi_pipe']\n",
    "    fitted_ipipe_dict=mp.build_individual_fitted_pipelines()\n",
    "    print(fitted_ipipe_dict['lassolars'].score(X_test,y_test))\n",
    "    print(fitted_ipipe_dict['gradient-boosting-reg'].score(X_test,y_test))\n",
    "    print(fitted_ipipe_dict['rbf-svr-cv'].score(X_test,y_test))\n",
    "    \n",
    "    "
   ]
  },
  {
   "cell_type": "code",
   "execution_count": null,
   "metadata": {},
   "outputs": [],
   "source": []
  },
  {
   "cell_type": "markdown",
   "metadata": {},
   "source": [
    "### end small test-run debugging"
   ]
  },
  {
   "cell_type": "markdown",
   "metadata": {},
   "source": [
    "---\n",
    "\n",
    "### Fit the final models for all estimators"
   ]
  },
  {
   "cell_type": "code",
   "execution_count": 13,
   "metadata": {},
   "outputs": [
    {
     "name": "stdout",
     "output_type": "stream",
     "text": [
      "jhash:  cec6a473dd42cba3c8c208c0c24d2316\n",
      "existing cv_results loaded\n"
     ]
    }
   ],
   "source": [
    "vbhelper.runCrossValidate(try_load=True) #try_load speeds things up by reloading results if they've been run before with same setup and data"
   ]
  },
  {
   "cell_type": "code",
   "execution_count": 14,
   "metadata": {},
   "outputs": [],
   "source": [
    "#vbhelper.fitFinalModelDict()"
   ]
  },
  {
   "cell_type": "code",
   "execution_count": 15,
   "metadata": {},
   "outputs": [],
   "source": [
    "#plot cv_yhat"
   ]
  },
  {
   "cell_type": "markdown",
   "metadata": {},
   "source": [
    "#### graphs and table to summarize results"
   ]
  },
  {
   "cell_type": "code",
   "execution_count": 16,
   "metadata": {},
   "outputs": [],
   "source": [
    "vbhelper.buildCVScoreDict()"
   ]
  },
  {
   "cell_type": "code",
   "execution_count": 17,
   "metadata": {},
   "outputs": [
    {
     "data": {
      "text/plain": [
       "{'gradient-boosting-reg': {'neg_mean_squared_error': array([-8027.27661867, -7887.01583286, -7982.66163052, -7993.93961746,\n",
       "         -8189.47426764, -7991.32725446, -7528.36135885, -7970.75893139,\n",
       "         -8241.4365886 , -7766.71661619]),\n",
       "  'neg_mean_absolute_error': array([-63.90688711, -64.4972363 , -63.91561586, -64.30253942,\n",
       "         -64.73073203, -63.40476397, -62.64060512, -63.9805329 ,\n",
       "         -65.13061583, -64.00156006]),\n",
       "  'r2': array([0.4082103 , 0.41855065, 0.41149942, 0.41066798, 0.39625271,\n",
       "         0.41086057, 0.44499151, 0.41237692, 0.39242192, 0.4274194 ])},\n",
       " 'rbf-svr-cv': {'neg_mean_squared_error': array([-7776.76246669, -7905.14131381, -7909.10392396, -7763.24616289,\n",
       "         -7928.58253935, -7777.16359077, -7835.92082854, -7672.20807157,\n",
       "         -8068.08957136, -7929.1301927 ]),\n",
       "  'neg_mean_absolute_error': array([-60.23137578, -61.46848975, -61.01620971, -60.26292807,\n",
       "         -60.96825113, -59.90130232, -61.59578668, -59.95660507,\n",
       "         -61.73273606, -61.66346521]),\n",
       "  'r2': array([0.42667879, 0.4172144 , 0.41692227, 0.42767525, 0.41548626,\n",
       "         0.42664922, 0.4223175 , 0.43438679, 0.40520147, 0.41544588])},\n",
       " 'lassolars': {'neg_mean_squared_error': array([-7974.37761635, -7970.32577437, -8093.64002454, -8124.07860417,\n",
       "         -8004.98910621, -8016.83035602, -8008.7119252 , -8006.31253957,\n",
       "         -8106.52348369, -8127.57824002]),\n",
       "  'neg_mean_absolute_error': array([-65.24730958, -65.40064011, -65.59858361, -65.16613399,\n",
       "         -65.18866688, -65.02452313, -65.25994369, -65.71064426,\n",
       "         -65.77438891, -66.04261776]),\n",
       "  'r2': array([0.41211014, 0.41240885, 0.40331783, 0.40107383, 0.40985339,\n",
       "         0.40898042, 0.40957893, 0.40975582, 0.40236803, 0.40081583])},\n",
       " 'multi_pipe': {'neg_mean_squared_error': array([-7084.56087357, -7094.60566502, -7201.85031303, -7214.39049162,\n",
       "         -7332.60715776, -7108.92190067, -6921.0743719 , -7022.73867802,\n",
       "         -7361.8767782 , -7106.71231841]),\n",
       "  'neg_mean_absolute_error': array([-60.29968133, -61.19023783, -61.2451251 , -60.89404769,\n",
       "         -61.18009329, -60.22482482, -60.01137322, -60.43127892,\n",
       "         -61.69115318, -60.83151718]),\n",
       "  'r2': array([0.47770952, 0.47696899, 0.46906267, 0.46813818, 0.45942296,\n",
       "         0.47591357, 0.48976213, 0.4822672 , 0.45726514, 0.47607646])}}"
      ]
     },
     "execution_count": 17,
     "metadata": {},
     "output_type": "execute_result"
    }
   ],
   "source": [
    "vbhelper.cv_score_dict"
   ]
  },
  {
   "cell_type": "code",
   "execution_count": 18,
   "metadata": {},
   "outputs": [
    {
     "name": "stdout",
     "output_type": "stream",
     "text": [
      "scores for scorer: neg_mean_squared_error:\n",
      "    multi_pipe:-7144.933854820153\n",
      "scores for scorer: neg_mean_absolute_error:\n",
      "    multi_pipe:-60.79993325706245\n",
      "scores for scorer: r2:\n",
      "    multi_pipe:0.4732586819154962\n"
     ]
    }
   ],
   "source": [
    "vbhelper.viewCVScoreDict()"
   ]
  },
  {
   "cell_type": "code",
   "execution_count": 19,
   "metadata": {},
   "outputs": [],
   "source": [
    "vbhelper.predictCVYhat()"
   ]
  },
  {
   "cell_type": "code",
   "execution_count": 20,
   "metadata": {},
   "outputs": [],
   "source": [
    "#vbhelper.jsonifyProjectCVResults()"
   ]
  },
  {
   "cell_type": "code",
   "execution_count": 21,
   "metadata": {},
   "outputs": [
    {
     "data": {
      "text/plain": [
       "{'gradient-boosting-reg': {'neg_mean_squared_error': array([-8027.27661867, -7887.01583286, -7982.66163052, -7993.93961746,\n",
       "         -8189.47426764, -7991.32725446, -7528.36135885, -7970.75893139,\n",
       "         -8241.4365886 , -7766.71661619]),\n",
       "  'neg_mean_absolute_error': array([-63.90688711, -64.4972363 , -63.91561586, -64.30253942,\n",
       "         -64.73073203, -63.40476397, -62.64060512, -63.9805329 ,\n",
       "         -65.13061583, -64.00156006]),\n",
       "  'r2': array([0.4082103 , 0.41855065, 0.41149942, 0.41066798, 0.39625271,\n",
       "         0.41086057, 0.44499151, 0.41237692, 0.39242192, 0.4274194 ])},\n",
       " 'rbf-svr-cv': {'neg_mean_squared_error': array([-7776.76246669, -7905.14131381, -7909.10392396, -7763.24616289,\n",
       "         -7928.58253935, -7777.16359077, -7835.92082854, -7672.20807157,\n",
       "         -8068.08957136, -7929.1301927 ]),\n",
       "  'neg_mean_absolute_error': array([-60.23137578, -61.46848975, -61.01620971, -60.26292807,\n",
       "         -60.96825113, -59.90130232, -61.59578668, -59.95660507,\n",
       "         -61.73273606, -61.66346521]),\n",
       "  'r2': array([0.42667879, 0.4172144 , 0.41692227, 0.42767525, 0.41548626,\n",
       "         0.42664922, 0.4223175 , 0.43438679, 0.40520147, 0.41544588])},\n",
       " 'lassolars': {'neg_mean_squared_error': array([-7974.37761635, -7970.32577437, -8093.64002454, -8124.07860417,\n",
       "         -8004.98910621, -8016.83035602, -8008.7119252 , -8006.31253957,\n",
       "         -8106.52348369, -8127.57824002]),\n",
       "  'neg_mean_absolute_error': array([-65.24730958, -65.40064011, -65.59858361, -65.16613399,\n",
       "         -65.18866688, -65.02452313, -65.25994369, -65.71064426,\n",
       "         -65.77438891, -66.04261776]),\n",
       "  'r2': array([0.41211014, 0.41240885, 0.40331783, 0.40107383, 0.40985339,\n",
       "         0.40898042, 0.40957893, 0.40975582, 0.40236803, 0.40081583])},\n",
       " 'multi_pipe': {'neg_mean_squared_error': array([-7084.56087357, -7094.60566502, -7201.85031303, -7214.39049162,\n",
       "         -7332.60715776, -7108.92190067, -6921.0743719 , -7022.73867802,\n",
       "         -7361.8767782 , -7106.71231841]),\n",
       "  'neg_mean_absolute_error': array([-60.29968133, -61.19023783, -61.2451251 , -60.89404769,\n",
       "         -61.18009329, -60.22482482, -60.01137322, -60.43127892,\n",
       "         -61.69115318, -60.83151718]),\n",
       "  'r2': array([0.47770952, 0.47696899, 0.46906267, 0.46813818, 0.45942296,\n",
       "         0.47591357, 0.48976213, 0.4822672 , 0.45726514, 0.47607646])}}"
      ]
     },
     "execution_count": 21,
     "metadata": {},
     "output_type": "execute_result"
    }
   ],
   "source": [
    "vbhelper.cv_score_dict"
   ]
  },
  {
   "cell_type": "code",
   "execution_count": null,
   "metadata": {},
   "outputs": [],
   "source": [
    "    "
   ]
  },
  {
   "cell_type": "code",
   "execution_count": 22,
   "metadata": {},
   "outputs": [
    {
     "ename": "AssertionError",
     "evalue": "plots moved elsewhere",
     "output_type": "error",
     "traceback": [
      "\u001b[0;31m---------------------------------------------------------------------------\u001b[0m",
      "\u001b[0;31mAssertionError\u001b[0m                            Traceback (most recent call last)",
      "\u001b[0;32m<ipython-input-22-8d1eed3a273f>\u001b[0m in \u001b[0;36m<module>\u001b[0;34m\u001b[0m\n\u001b[0;32m----> 1\u001b[0;31m \u001b[0;32massert\u001b[0m \u001b[0;32mFalse\u001b[0m\u001b[0;34m,\u001b[0m \u001b[0;34m'plots moved elsewhere'\u001b[0m\u001b[0;34m\u001b[0m\u001b[0;34m\u001b[0m\u001b[0m\n\u001b[0m",
      "\u001b[0;31mAssertionError\u001b[0m: plots moved elsewhere"
     ]
    }
   ],
   "source": [
    "assert False, 'plots moved elsewhere'"
   ]
  },
  {
   "cell_type": "code",
   "execution_count": null,
   "metadata": {},
   "outputs": [],
   "source": [
    "#vbhelper.pickleSelf() #for development in other notebooks"
   ]
  },
  {
   "cell_type": "code",
   "execution_count": null,
   "metadata": {},
   "outputs": [],
   "source": [
    "vbhelper.plotCVScores(sort=1)"
   ]
  },
  {
   "cell_type": "code",
   "execution_count": null,
   "metadata": {},
   "outputs": [],
   "source": []
  },
  {
   "cell_type": "code",
   "execution_count": null,
   "metadata": {},
   "outputs": [],
   "source": [
    "vbhelper.plotCVYhatVsY(regulatory_standard=False,decision_criteria=False)"
   ]
  },
  {
   "cell_type": "markdown",
   "metadata": {},
   "source": [
    "#### Add table of results for the pipelines, coefficients, stats, etc. "
   ]
  },
  {
   "cell_type": "code",
   "execution_count": null,
   "metadata": {},
   "outputs": [],
   "source": [
    "vbhelper.plotCVYhat(single_plot=True) \n",
    "# make Y line faint and make dots at actual values\n",
    "# add the mean of each series and make more visible\n",
    "# sort by original row order or by increasing value of Y"
   ]
  },
  {
   "cell_type": "code",
   "execution_count": null,
   "metadata": {},
   "outputs": [],
   "source": [
    "vbhelper.plotCVYhat(single_plot=False)"
   ]
  },
  {
   "cell_type": "markdown",
   "metadata": {},
   "source": [
    "### Sensitivity analysis of rows\n",
    "Outlier plots\n",
    "DfFits, leverage"
   ]
  },
  {
   "cell_type": "markdown",
   "metadata": {},
   "source": [
    "### Sensitivity analysis of columns/features\n",
    "#### partial dependence plots (PDP in GBM)"
   ]
  },
  {
   "cell_type": "markdown",
   "metadata": {},
   "source": [
    "## Next, user selects pipeline, final model is fit and ready for prediction"
   ]
  },
  {
   "cell_type": "code",
   "execution_count": null,
   "metadata": {},
   "outputs": [],
   "source": [
    "###"
   ]
  },
  {
   "cell_type": "code",
   "execution_count": null,
   "metadata": {},
   "outputs": [],
   "source": []
  }
 ],
 "metadata": {
  "kernelspec": {
   "display_name": "Python 3",
   "language": "python",
   "name": "python3"
  },
  "language_info": {
   "codemirror_mode": {
    "name": "ipython",
    "version": 3
   },
   "file_extension": ".py",
   "mimetype": "text/x-python",
   "name": "python",
   "nbconvert_exporter": "python",
   "pygments_lexer": "ipython3",
   "version": "3.8.5"
  }
 },
 "nbformat": 4,
 "nbformat_minor": 4
}
