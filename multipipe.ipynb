{
 "cells": [
  {
   "cell_type": "markdown",
   "metadata": {},
   "source": [
    "### Setup"
   ]
  },
  {
   "cell_type": "code",
   "execution_count": 1,
   "metadata": {},
   "outputs": [],
   "source": [
    "import pandas as pd\n",
    "import numpy as np\n",
    "import os\n",
    "from time import time"
   ]
  },
  {
   "cell_type": "code",
   "execution_count": 2,
   "metadata": {},
   "outputs": [
    {
     "name": "stdout",
     "output_type": "stream",
     "text": [
      "no daal4py\n"
     ]
    }
   ],
   "source": [
    "#import sys\n",
    "#sys.path.append(os.path.abspath('..'))#sys.path[0] + '/..') \n",
    "from vb_estimators import  LinRegSupreme,LinSVR,RBFSVR,ENet,L1Lars,GBR,HGBR,FlexiblePipe\n",
    "from vb_helper import VBHelper\n",
    "from vb_cross_validator import regressor_q_stratified_cv"
   ]
  },
  {
   "cell_type": "code",
   "execution_count": null,
   "metadata": {},
   "outputs": [],
   "source": []
  },
  {
   "cell_type": "code",
   "execution_count": 3,
   "metadata": {},
   "outputs": [],
   "source": [
    "\n",
    "from warnings import filterwarnings\n",
    "filterwarnings('ignore')\n"
   ]
  },
  {
   "cell_type": "code",
   "execution_count": 4,
   "metadata": {},
   "outputs": [],
   "source": [
    "gridpoints=5\n",
    "kwargs=dict(\n",
    "    test_share=0.5,#for debugging. keep at zero otherwise\n",
    "    cv_folds=5,\n",
    "    cv_reps=3,\n",
    "    #cv_groupcount=5,\n",
    "    cv_strategy=('quantile',5), # for stratified cv\n",
    "    random_state=2 # random_state for reproducibility\n",
    ")\n",
    "vbhelper=VBHelper(**kwargs)"
   ]
  },
  {
   "cell_type": "code",
   "execution_count": 5,
   "metadata": {},
   "outputs": [],
   "source": [
    "scorer_list=['neg_mean_squared_error', 'neg_mean_absolute_error', 'r2'] #cross_validate wants strings\n",
    "vbhelper.scorer_list=scorer_list"
   ]
  },
  {
   "cell_type": "markdown",
   "metadata": {},
   "source": [
    "##### Example Dataset"
   ]
  },
  {
   "cell_type": "code",
   "execution_count": 6,
   "metadata": {},
   "outputs": [
    {
     "name": "stdout",
     "output_type": "stream",
     "text": [
      "['STA_ID', 'LONG', 'LAT', 'OrigHabCode', 'Date', 'THG_Fish', 'YEAR', 'SEASON', 'SUBAREA', 'HABCODE', 'Floc_Depth_ft', 'AFDW_Floc', 'MEHG_Floc', 'THG_floc', 'Tot_Phos_floc', 'Bulk_Dens_Floc', 'Soil_Thickness_FT', 'AFDW_Soil', 'Bulk_Dens_Soil', 'PH_soil', 'SO4_soil', 'MEHG_soil', 'THG_soil', 'Tot_Carbon_Soil_%', 'Tot_Nitrogen_Soil_%', 'Tot_Phos_soil', 'Wat_Depth_ft', 'COND_SW', 'DO_SW', 'TEMP_SW', 'PH_SW', 'TURB_SW', 'REDOX_SW', 'Alk_Phos_SW', 'CHLA_SW', 'CL_SW', 'MEHG_SW', 'NH4_SW', 'NO2_SW', 'NO3_SW', 'SO4_SW', 'Sol_Reac_Phos_SW', 'THG_SW', 'TOC_SW', 'Tot_Nitrogen_SW', 'Tot_Phos_SW', 'REDOX_PW', 'H2S_PW', 'Sol_Reac_Phos_PW', 'MEHG_Peri_AVG', 'THG_epi_peri']\n"
     ]
    }
   ],
   "source": [
    "data_path=os.path.join('sample_data','ex1.csv')\n",
    "df=pd.read_csv(data_path)\n",
    "all_vars=list(df.columns)\n",
    "print(all_vars)"
   ]
  },
  {
   "cell_type": "code",
   "execution_count": null,
   "metadata": {},
   "outputs": [],
   "source": []
  },
  {
   "cell_type": "code",
   "execution_count": 7,
   "metadata": {},
   "outputs": [],
   "source": [
    "#The user sets the variables to use for x and y.\n",
    "y_name='THG_Fish'\n",
    "loc_vars=['LAT','LONG']\n",
    "drop_vars=['Date','OrigHabCode','STA_ID']\n",
    "drop_vars.extend(loc_vars)\n",
    "drop_vars.append(y_name)\n",
    "x_vars=[var for var in all_vars if var not in drop_vars]\n",
    "X_df=df.loc[:,x_vars]\n",
    "y_df=df.loc[:,y_name]"
   ]
  },
  {
   "cell_type": "code",
   "execution_count": 8,
   "metadata": {},
   "outputs": [],
   "source": [
    "\n",
    "shuf=np.arange(y_df.shape[0])\n",
    "np.random.seed(0)\n",
    "np.random.shuffle(shuf)\n",
    "X_df=X_df.iloc[shuf]\n",
    "y_df=y_df.iloc[shuf]\n",
    "vbhelper.setData(X_df,y_df)#no train/test split!\n",
    "X_train, X_test, y_train, y_test=vbhelper.train_test_split() #just for debugging"
   ]
  },
  {
   "cell_type": "code",
   "execution_count": 9,
   "metadata": {},
   "outputs": [
    {
     "name": "stdout",
     "output_type": "stream",
     "text": [
      "(387, 45) (387,)\n"
     ]
    }
   ],
   "source": [
    "print(X_train.shape,y_train.shape)"
   ]
  },
  {
   "cell_type": "code",
   "execution_count": 10,
   "metadata": {},
   "outputs": [],
   "source": [
    "inner_cv_dict={'cv_reps':1,'cv_folds':5,'cv_strategy':('quantile',5)}\n",
    "inner_cv=vbhelper.getCV(cv_dict=inner_cv_dict)\n",
    "\n",
    "prep_dict={'impute_strategy':'impute_knn5','cat_idx':vbhelper.cat_idx}\n",
    "\n",
    "pipe_kwargs=dict(do_prep=False,prep_dict=prep_dict,inner_cv=inner_cv,gridpoints=gridpoints,cat_idx=vbhelper.cat_idx,float_idx=vbhelper.float_idx,bestT=False)\n",
    "pipe_dict={\n",
    "    #'gradient-boosting-reg':{'pipe':GBR,'pipe_kwargs':dict(\n",
    "    #    prep_dict=prep_dict,do_prep=False)},\n",
    "    #'lin-reg-supreme':{'pipe':LinRegSupreme,'pipe_kwargs':pipe_kwargs}, \n",
    "    #'powXB-least-sq':{'pipe':FlexiblePipe,'pipe_kwargs':{**pipe_kwargs,'flex_kwargs':{'form':'powXB'}}}),\n",
    "    #'expXB-least-sq':{'pipe':FlexiblePipe,'pipe_kwargs':{**pipe_kwargs,'flex_kwargs':{'form':'expXB'}}}), #expXB is default\n",
    "    #'nonlinear-search-least-sq': {'pipe':FlexiblePipe,'pipe_kwargs':{**pipe_kwargs,'functional_form_search':True}}},\n",
    "    #'robust-powXB-least-sq':{'pipe':FlexiblePipe,'pipe_kwargs':{**pipe_kwargs,'flex_kwargs':{'form':'powXB','robust':True}}},\n",
    "    #'robust-expXB-least-sq':{'pipe':FlexiblePipe,'pipe_kwargs':{**pipe_kwargs,'flex_kwargs':{'form':'expXB','robust':True}}}, #expXB is default\n",
    "    #'robust-nonlinear-search-least-sq': {'pipe':FlexiblePipe,'pipe_kwargs':{**pipe_kwargs,'functional_form_search':True,'flex_kwargs':{'robust':True}}},\n",
    "    #'histogram-gradient-boosting-reg':{'pipe':HGBR,'pipe_kwargs':{}}\n",
    "    \n",
    "    \n",
    "    #'elastic-net':{'pipe':ENet,'pipe_kwargs':pipe_kwargs}, \n",
    "    #'linear-svr-cv':{'pipe':LinSVR,'pipe_kwargs':pipe_kwargs}\n",
    "    'rbf-svr-cv':{'pipe':RBFSVR,'pipe_kwargs':pipe_kwargs}, \n",
    "    'lassolars':{'pipe':L1Lars,'pipe_kwargs':pipe_kwargs},\n",
    "    }\n",
    "\n",
    "\n",
    "#estimator_dict={'multi_pipe':{'pipe':MultiPipe(pipelist=[(k,v) for k,v in estimator_dict.items()],cat_idx=vbhelper.cat_idx)}\n",
    "vbhelper.setEstimatorDict(pipe_dict)\n",
    "vbhelper.setModelDict()\n",
    "#vbhelper.model_dict={key:val() for key,val in vbhelper.estimator_dict.items()} # they will be models once .fit is called"
   ]
  },
  {
   "cell_type": "code",
   "execution_count": 11,
   "metadata": {},
   "outputs": [
    {
     "data": {
      "text/plain": [
       "\"if False:    \\n    pipe_kwargs2=pipe_kwargs\\n    pipe_kwargs2['do_prep']=True\\n    name='lone-lasso'\\n    vbhelper.estimator_dict[name]={'pipe':L1Lars,'pipe_kwargs':pipe_kwargs2}\\n    vbhelper.model_dict[name]=vbhelper.estimator_dict[name]()\""
      ]
     },
     "execution_count": 11,
     "metadata": {},
     "output_type": "execute_result"
    }
   ],
   "source": [
    "'''if False:    \n",
    "    pipe_kwargs2=pipe_kwargs\n",
    "    pipe_kwargs2['do_prep']=True\n",
    "    name='lone-lasso'\n",
    "    vbhelper.estimator_dict[name]={'pipe':L1Lars,'pipe_kwargs':pipe_kwargs2}\n",
    "    vbhelper.model_dict[name]=vbhelper.estimator_dict[name]()'''"
   ]
  },
  {
   "cell_type": "code",
   "execution_count": 12,
   "metadata": {},
   "outputs": [
    {
     "name": "stdout",
     "output_type": "stream",
     "text": [
      "multi_pipe\n",
      "train R2: 0.5977812261622973\n",
      "test R2: 0.42313341251432135\n",
      "runtime:0.18532989819844564 min.\n",
      "\n"
     ]
    }
   ],
   "source": [
    "i=0\n",
    "for name,est in vbhelper.model_dict.items():\n",
    "    start=time()\n",
    "    i+=1;print(name)\n",
    "    est.fit(X_train,y_train)\n",
    "    print('train R2:',est.score(X_train,y_train))\n",
    "    if not X_test is None:print('test R2:',est.score(X_test,y_test))\n",
    "    end=time()\n",
    "    print(f'runtime:{(end-start)/60} min.\\n')\n"
   ]
  },
  {
   "cell_type": "code",
   "execution_count": 13,
   "metadata": {},
   "outputs": [
    {
     "data": {
      "text/plain": [
       "0.3794293618369128"
      ]
     },
     "execution_count": 13,
     "metadata": {},
     "output_type": "execute_result"
    }
   ],
   "source": [
    "mp=vbhelper.model_dict['multi_pipe']\n",
    "fitted_ipipe_dict=mp.build_individual_fitted_pipelines()\n",
    "fitted_ipipe_dict['lassolars'].score(X_test,y_test)"
   ]
  },
  {
   "cell_type": "code",
   "execution_count": 14,
   "metadata": {},
   "outputs": [],
   "source": [
    "#"
   ]
  },
  {
   "cell_type": "code",
   "execution_count": 15,
   "metadata": {},
   "outputs": [],
   "source": [
    "#"
   ]
  },
  {
   "cell_type": "code",
   "execution_count": null,
   "metadata": {},
   "outputs": [],
   "source": []
  },
  {
   "cell_type": "code",
   "execution_count": 16,
   "metadata": {},
   "outputs": [
    {
     "name": "stdout",
     "output_type": "stream",
     "text": [
      "multi_pipe,[('neg_mean_squared_error', nan), ('neg_mean_absolute_error', nan), ('r2', nan)], runtime:0.06464209953943888 min.\n",
      "MultiPipe(pipelist=[('rbf-svr-cv',\n",
      "                     {'pipe': <class 'vb_estimators.RBFSVR'>,\n",
      "                      'pipe_kwargs': {'bestT': False, 'cat_idx': (0, 1, 2, 3),\n",
      "                                      'do_prep': False,\n",
      "                                      'float_idx': [4, 5, 6, 7, 8, 9, 10, 11,\n",
      "                                                    12, 13, 14, 15, 16, 17, 18,\n",
      "                                                    19, 20, 21, 22, 23, 24, 25,\n",
      "                                                    26, 27, 28, 29, 30, 31, 32,\n",
      "                                                    33, ...],\n",
      "                                      'gridpoints': 5,\n",
      "                                      'inner_cv': <vb_cross_validator.regressor_q_stratified_cv object at 0x7f6c34c3c7f0>,\n",
      "                                      'prep_dict': {'ca...\n",
      "                      'pipe_kwargs': {'bestT': False, 'cat_idx': (0, 1, 2, 3),\n",
      "                                      'do_prep': False,\n",
      "                                      'float_idx': [4, 5, 6, 7, 8, 9, 10, 11,\n",
      "                                                    12, 13, 14, 15, 16, 17, 18,\n",
      "                                                    19, 20, 21, 22, 23, 24, 25,\n",
      "                                                    26, 27, 28, 29, 30, 31, 32,\n",
      "                                                    33, ...],\n",
      "                                      'gridpoints': 5,\n",
      "                                      'inner_cv': <vb_cross_validator.regressor_q_stratified_cv object at 0x7f6c34c3c430>,\n",
      "                                      'prep_dict': {'cat_idx': (0, 1, 2, 3),\n",
      "                                                    'impute_strategy': 'impute_knn5'}}})],\n",
      "          prep_dict={'cat_idx': (0, 1, 2, 3), 'impute_strategy': 'impute_knn5'})\n"
     ]
    },
    {
     "ename": "AttributeError",
     "evalue": "'StackingRegressor' object has no attribute 'named_estimators_'",
     "output_type": "error",
     "traceback": [
      "\u001b[0;31m---------------------------------------------------------------------------\u001b[0m",
      "\u001b[0;31mAttributeError\u001b[0m                            Traceback (most recent call last)",
      "\u001b[0;32m<ipython-input-16-51312cbdde52>\u001b[0m in \u001b[0;36m<module>\u001b[0;34m\u001b[0m\n\u001b[0;32m----> 1\u001b[0;31m \u001b[0mvbhelper\u001b[0m\u001b[0;34m.\u001b[0m\u001b[0mrunCrossValidate\u001b[0m\u001b[0;34m(\u001b[0m\u001b[0;34m)\u001b[0m\u001b[0;34m\u001b[0m\u001b[0;34m\u001b[0m\u001b[0m\n\u001b[0m",
      "\u001b[0;32m~/gits/vbflow/vb_helper.py\u001b[0m in \u001b[0;36mrunCrossValidate\u001b[0;34m(self)\u001b[0m\n\u001b[1;32m    116\u001b[0m                     \u001b[0;32mfor\u001b[0m \u001b[0mmp\u001b[0m \u001b[0;32min\u001b[0m \u001b[0mresult\u001b[0m\u001b[0;34m[\u001b[0m\u001b[0;34m'estimator'\u001b[0m\u001b[0;34m]\u001b[0m\u001b[0;34m:\u001b[0m\u001b[0;34m\u001b[0m\u001b[0;34m\u001b[0m\u001b[0m\n\u001b[1;32m    117\u001b[0m                         \u001b[0mprint\u001b[0m\u001b[0;34m(\u001b[0m\u001b[0mmp\u001b[0m\u001b[0;34m)\u001b[0m\u001b[0;34m\u001b[0m\u001b[0;34m\u001b[0m\u001b[0m\n\u001b[0;32m--> 118\u001b[0;31m                         \u001b[0;32mfor\u001b[0m \u001b[0mest_n\u001b[0m\u001b[0;34m,\u001b[0m\u001b[0mm\u001b[0m \u001b[0;32min\u001b[0m \u001b[0mmp\u001b[0m\u001b[0;34m.\u001b[0m\u001b[0mbuild_individual_fitted_pipelines\u001b[0m\u001b[0;34m(\u001b[0m\u001b[0;34m)\u001b[0m\u001b[0;34m.\u001b[0m\u001b[0mitems\u001b[0m\u001b[0;34m(\u001b[0m\u001b[0;34m)\u001b[0m\u001b[0;34m:\u001b[0m\u001b[0;34m\u001b[0m\u001b[0;34m\u001b[0m\u001b[0m\n\u001b[0m\u001b[1;32m    119\u001b[0m                             \u001b[0;32mif\u001b[0m \u001b[0;32mnot\u001b[0m \u001b[0mest_n\u001b[0m \u001b[0;32min\u001b[0m \u001b[0mnew_results\u001b[0m\u001b[0;34m:\u001b[0m\u001b[0;34m\u001b[0m\u001b[0;34m\u001b[0m\u001b[0m\n\u001b[1;32m    120\u001b[0m                                 \u001b[0mnew_results\u001b[0m\u001b[0;34m[\u001b[0m\u001b[0mest_n\u001b[0m\u001b[0;34m]\u001b[0m\u001b[0;34m=\u001b[0m\u001b[0;34m[\u001b[0m\u001b[0;34m]\u001b[0m\u001b[0;34m\u001b[0m\u001b[0;34m\u001b[0m\u001b[0m\n",
      "\u001b[0;32m~/gits/vbflow/vb_estimators.py\u001b[0m in \u001b[0;36mbuild_individual_fitted_pipelines\u001b[0;34m(self, names)\u001b[0m\n\u001b[1;32m    559\u001b[0m \u001b[0;34m\u001b[0m\u001b[0m\n\u001b[1;32m    560\u001b[0m     \u001b[0;32mdef\u001b[0m \u001b[0mbuild_individual_fitted_pipelines\u001b[0m\u001b[0;34m(\u001b[0m\u001b[0mself\u001b[0m\u001b[0;34m,\u001b[0m\u001b[0mnames\u001b[0m\u001b[0;34m=\u001b[0m\u001b[0;32mNone\u001b[0m\u001b[0;34m)\u001b[0m\u001b[0;34m:\u001b[0m\u001b[0;34m\u001b[0m\u001b[0;34m\u001b[0m\u001b[0m\n\u001b[0;32m--> 561\u001b[0;31m         \u001b[0mpipe_dict\u001b[0m\u001b[0;34m=\u001b[0m\u001b[0mself\u001b[0m\u001b[0;34m.\u001b[0m\u001b[0mget_individual_post_pipes\u001b[0m\u001b[0;34m(\u001b[0m\u001b[0mnames\u001b[0m\u001b[0;34m=\u001b[0m\u001b[0mnames\u001b[0m\u001b[0;34m)\u001b[0m\u001b[0;34m\u001b[0m\u001b[0;34m\u001b[0m\u001b[0m\n\u001b[0m\u001b[1;32m    562\u001b[0m         \u001b[0mprep\u001b[0m\u001b[0;34m=\u001b[0m\u001b[0mself\u001b[0m\u001b[0;34m.\u001b[0m\u001b[0mget_prep\u001b[0m\u001b[0;34m(\u001b[0m\u001b[0;34m)\u001b[0m\u001b[0;34m\u001b[0m\u001b[0;34m\u001b[0m\u001b[0m\n\u001b[1;32m    563\u001b[0m         \u001b[0mfitted_ipipe_dict\u001b[0m\u001b[0;34m=\u001b[0m\u001b[0;34m{\u001b[0m\u001b[0;34m}\u001b[0m\u001b[0;31m#i for individual\u001b[0m\u001b[0;34m\u001b[0m\u001b[0;34m\u001b[0m\u001b[0m\n",
      "\u001b[0;32m~/gits/vbflow/vb_estimators.py\u001b[0m in \u001b[0;36mget_individual_post_pipes\u001b[0;34m(self, names)\u001b[0m\n\u001b[1;32m    552\u001b[0m         \u001b[0;32mfor\u001b[0m \u001b[0mname\u001b[0m \u001b[0;32min\u001b[0m \u001b[0mnames\u001b[0m\u001b[0;34m:\u001b[0m\u001b[0;34m\u001b[0m\u001b[0;34m\u001b[0m\u001b[0m\n\u001b[1;32m    553\u001b[0m             \u001b[0;31m#print(self.pipe)\u001b[0m\u001b[0;34m\u001b[0m\u001b[0;34m\u001b[0m\u001b[0;34m\u001b[0m\u001b[0m\n\u001b[0;32m--> 554\u001b[0;31m             \u001b[0mpipe_dict\u001b[0m\u001b[0;34m[\u001b[0m\u001b[0mname\u001b[0m\u001b[0;34m]\u001b[0m\u001b[0;34m=\u001b[0m\u001b[0mself\u001b[0m\u001b[0;34m.\u001b[0m\u001b[0mpipe\u001b[0m\u001b[0;34m[\u001b[0m\u001b[0;34m'post'\u001b[0m\u001b[0;34m]\u001b[0m\u001b[0;34m.\u001b[0m\u001b[0mnamed_estimators_\u001b[0m\u001b[0;34m[\u001b[0m\u001b[0mname\u001b[0m\u001b[0;34m]\u001b[0m\u001b[0;34m\u001b[0m\u001b[0;34m\u001b[0m\u001b[0m\n\u001b[0m\u001b[1;32m    555\u001b[0m         \u001b[0;32mreturn\u001b[0m \u001b[0mpipe_dict\u001b[0m\u001b[0;34m\u001b[0m\u001b[0;34m\u001b[0m\u001b[0m\n\u001b[1;32m    556\u001b[0m \u001b[0;34m\u001b[0m\u001b[0m\n",
      "\u001b[0;31mAttributeError\u001b[0m: 'StackingRegressor' object has no attribute 'named_estimators_'"
     ]
    }
   ],
   "source": [
    "vbhelper.runCrossValidate()"
   ]
  },
  {
   "cell_type": "code",
   "execution_count": null,
   "metadata": {},
   "outputs": [],
   "source": [
    "cv=vbhelper.getCV()\n",
    "for train_idx,test_idx in cv.split(X_train,y_train):\n",
    "    for name,pipe in fitted_ipipe_dict.items():\n",
    "        print(pipe.score(X_test,y_test))\n",
    "        assert False,'pause'"
   ]
  },
  {
   "cell_type": "code",
   "execution_count": null,
   "metadata": {},
   "outputs": [],
   "source": [
    "#plot cv_yhat"
   ]
  },
  {
   "cell_type": "markdown",
   "metadata": {},
   "source": [
    "#### graphs and table to summarize results"
   ]
  },
  {
   "cell_type": "code",
   "execution_count": null,
   "metadata": {},
   "outputs": [],
   "source": [
    "vbhelper.buildCVScoreDict()"
   ]
  },
  {
   "cell_type": "code",
   "execution_count": null,
   "metadata": {},
   "outputs": [],
   "source": [
    "vbhelper.viewCVScoreDict()"
   ]
  },
  {
   "cell_type": "code",
   "execution_count": null,
   "metadata": {},
   "outputs": [],
   "source": [
    "vbhelper.plotCVScores(sort=1)"
   ]
  },
  {
   "cell_type": "code",
   "execution_count": null,
   "metadata": {},
   "outputs": [],
   "source": []
  },
  {
   "cell_type": "code",
   "execution_count": null,
   "metadata": {},
   "outputs": [],
   "source": [
    "vbhelper.predictCVYhat()"
   ]
  },
  {
   "cell_type": "code",
   "execution_count": null,
   "metadata": {},
   "outputs": [],
   "source": [
    "vbhelper.plotCVYhat(single_plot=True)"
   ]
  },
  {
   "cell_type": "code",
   "execution_count": null,
   "metadata": {},
   "outputs": [],
   "source": []
  }
 ],
 "metadata": {
  "kernelspec": {
   "display_name": "Python 3",
   "language": "python",
   "name": "python3"
  },
  "language_info": {
   "codemirror_mode": {
    "name": "ipython",
    "version": 3
   },
   "file_extension": ".py",
   "mimetype": "text/x-python",
   "name": "python",
   "nbconvert_exporter": "python",
   "pygments_lexer": "ipython3",
   "version": "3.8.5"
  }
 },
 "nbformat": 4,
 "nbformat_minor": 4
}
