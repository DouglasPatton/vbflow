{
 "cells": [
  {
   "cell_type": "markdown",
   "metadata": {},
   "source": [
    "### Setup"
   ]
  },
  {
   "cell_type": "code",
   "execution_count": 1,
   "metadata": {},
   "outputs": [],
   "source": [
    "import pandas as pd\n",
    "import numpy as np\n",
    "import os\n",
    "from time import time"
   ]
  },
  {
   "cell_type": "code",
   "execution_count": 2,
   "metadata": {},
   "outputs": [],
   "source": [
    "import numpy as np\n",
    "from sklearn.datasets import make_regression\n",
    "from sklearn.pipeline import make_pipeline,Pipeline\n",
    "from sklearn.linear_model import ElasticNetCV, LinearRegression, Lars,LassoLarsCV\n",
    "from sklearn.svm import LinearSVR, SVR\n",
    "from sklearn.preprocessing import StandardScaler\n",
    "from sklearn.model_selection import cross_validate, train_test_split, RepeatedKFold, GridSearchCV\n",
    "from sklearn.metrics import mean_squared_error, mean_absolute_error, r2_score\n",
    "from sklearn.ensemble import GradientBoostingRegressor\n",
    "import matplotlib.pyplot as plt\n"
   ]
  },
  {
   "cell_type": "code",
   "execution_count": 3,
   "metadata": {},
   "outputs": [],
   "source": [
    "from sklearn.model_selection import cross_validate, train_test_split, RepeatedKFold, GridSearchCV"
   ]
  },
  {
   "cell_type": "code",
   "execution_count": 4,
   "metadata": {},
   "outputs": [
    {
     "name": "stdout",
     "output_type": "stream",
     "text": [
      "no daal4py\n"
     ]
    }
   ],
   "source": [
    "#import sys\n",
    "#sys.path.append(os.path.abspath('..'))#sys.path[0] + '/..') \n",
    "from vb_estimators import LinRegSupreme,LinSVR,RBFSVR,ENet,L1Lars\n",
    "from vb_helper import VBHelper\n",
    "from vb_cross_validator import regressor_q_stratified_cv"
   ]
  },
  {
   "cell_type": "code",
   "execution_count": null,
   "metadata": {},
   "outputs": [],
   "source": []
  },
  {
   "cell_type": "code",
   "execution_count": 5,
   "metadata": {},
   "outputs": [],
   "source": [
    "\n",
    "from warnings import filterwarnings\n",
    "filterwarnings('ignore')\n"
   ]
  },
  {
   "cell_type": "code",
   "execution_count": 6,
   "metadata": {},
   "outputs": [],
   "source": [
    "gridpoints=5\n",
    "test_share=0.2\n",
    "cv_folds=5\n",
    "cv_reps=3\n",
    "cv_count=cv_folds*cv_reps\n",
    "group_count=5;strategy='quantile' # for stratified cv\n",
    "rs=2 # random_state for reproducibility\n",
    "vbhelper=VBHelper(test_share,cv_folds,cv_reps,cv_count,rs)"
   ]
  },
  {
   "cell_type": "code",
   "execution_count": 7,
   "metadata": {},
   "outputs": [],
   "source": [
    "scorer_list=['neg_mean_squared_error', 'neg_mean_absolute_error', 'r2'] #cross_validate wants strings\n",
    "#cv=RepeatedKFold(n_splits=cv_folds, n_repeats=cv_reps, random_state=rs) # define separately to ensure same cv data used for each model\n",
    "vbhelper.setCV(group_count=group_count,strategy=strategy)\n",
    "\n",
    "vbhelper.scorer_list=scorer_list\n",
    "# allow/generate water quality thresholds for stratified kfold sub-sampling to ensure cross-validation folds have full range of water quality"
   ]
  },
  {
   "cell_type": "markdown",
   "metadata": {},
   "source": [
    "##### Example Dataset"
   ]
  },
  {
   "cell_type": "code",
   "execution_count": 8,
   "metadata": {},
   "outputs": [
    {
     "name": "stdout",
     "output_type": "stream",
     "text": [
      "['STA_ID', 'LONG', 'LAT', 'OrigHabCode', 'Date', 'THG_Fish', 'YEAR', 'SEASON', 'SUBAREA', 'HABCODE', 'Floc_Depth_ft', 'AFDW_Floc', 'MEHG_Floc', 'THG_floc', 'Tot_Phos_floc', 'Bulk_Dens_Floc', 'Soil_Thickness_FT', 'AFDW_Soil', 'Bulk_Dens_Soil', 'PH_soil', 'SO4_soil', 'MEHG_soil', 'THG_soil', 'Tot_Carbon_Soil_%', 'Tot_Nitrogen_Soil_%', 'Tot_Phos_soil', 'Wat_Depth_ft', 'COND_SW', 'DO_SW', 'TEMP_SW', 'PH_SW', 'TURB_SW', 'REDOX_SW', 'Alk_Phos_SW', 'CHLA_SW', 'CL_SW', 'MEHG_SW', 'NH4_SW', 'NO2_SW', 'NO3_SW', 'SO4_SW', 'Sol_Reac_Phos_SW', 'THG_SW', 'TOC_SW', 'Tot_Nitrogen_SW', 'Tot_Phos_SW', 'REDOX_PW', 'H2S_PW', 'Sol_Reac_Phos_PW', 'MEHG_Peri_AVG', 'THG_epi_peri']\n"
     ]
    }
   ],
   "source": [
    "data_path=os.path.join('sample_data','ex1.csv')\n",
    "df=pd.read_csv(data_path)\n",
    "all_vars=list(df.columns)\n",
    "print(all_vars)"
   ]
  },
  {
   "cell_type": "code",
   "execution_count": null,
   "metadata": {},
   "outputs": [],
   "source": []
  },
  {
   "cell_type": "code",
   "execution_count": 9,
   "metadata": {},
   "outputs": [],
   "source": [
    "y_name='THG_Fish'\n",
    "loc_vars=['LAT','LONG']\n",
    "drop_vars=['Date','OrigHabCode','STA_ID']\n",
    "drop_vars.extend(loc_vars)\n",
    "drop_vars.append(y_name)\n",
    "x_vars=[var for var in all_vars if var not in drop_vars]\n",
    "X_df=df.loc[:,x_vars]\n",
    "y_df=df.loc[:,y_name]"
   ]
  },
  {
   "cell_type": "code",
   "execution_count": 10,
   "metadata": {},
   "outputs": [
    {
     "name": "stdout",
     "output_type": "stream",
     "text": [
      "(0, 1, 2, 3) ('YEAR', 'SEASON', 'SUBAREA', 'HABCODE')\n"
     ]
    }
   ],
   "source": [
    "\n",
    "shuf=np.arange(y_df.shape[0])\n",
    "np.random.seed(0)\n",
    "np.random.shuffle(shuf)\n",
    "X_df=X_df.iloc[shuf]\n",
    "y_df=y_df.iloc[shuf]\n",
    "vbhelper.setData(X_df,y_df)\n",
    "X_train, X_test, y_train, y_test=vbhelper.train_test_split()"
   ]
  },
  {
   "cell_type": "code",
   "execution_count": 11,
   "metadata": {},
   "outputs": [],
   "source": [
    "est_kwargs=dict(gridpoints=gridpoints,cat_idx=vbhelper.cat_idx,float_idx=vbhelper.float_idx,bestT=False)\n",
    "estimator_dict1={\n",
    "    'lin-reg-supreme':lambda: LinRegSupreme(**est_kwargs),\n",
    "    'elastic-net':lambda: ENet(**est_kwargs), \n",
    "    'linear-svr-cv':lambda: LinSVR(**est_kwargs), \n",
    "    'rbf-svr-cv':lambda: RBFSVR(**est_kwargs), \n",
    "    'lassolars':lambda: L1Lars(**est_kwargs),\n",
    "    #'HistGradientBoostingRegressor':HistGradientBoostingRegressor,\n",
    "    #'gradient-boosting-reg':gradient_boosting_reg(bestT=True)\n",
    "    }\n",
    "est_kwargs_bestT=dict(gridpoints=gridpoints,cat_idx=vbhelper.cat_idx,float_idx=vbhelper.float_idx,bestT=True)\n",
    "estimator_dict2={\n",
    "    'lin-reg-supreme-bestT':lambda: LinRegSupreme(**est_kwargs_bestT),\n",
    "    'elastic-net-bestT':lambda: ENet(**est_kwargs_bestT), \n",
    "    'linear-svr-cv-bestT':lambda: LinSVR(**est_kwargs_bestT), \n",
    "    'rbf-svr-cv-bestT':lambda: RBFSVR(**est_kwargs_bestT), \n",
    "    'lassolars-bestT':lambda: L1Lars(**est_kwargs_bestT),\n",
    "    #'gradient-boosting-reg':gradient_boosting_reg(bestT=True)\n",
    "    }\n",
    "estimator_dict={**estimator_dict1,**estimator_dict2}\n",
    "vbhelper.estimator_dict=estimator_dict\n",
    "vbhelper.model_dict={key:val() for key,val in estimator_dict.items()} # they will be models once .fit is called"
   ]
  },
  {
   "cell_type": "code",
   "execution_count": null,
   "metadata": {},
   "outputs": [],
   "source": []
  },
  {
   "cell_type": "code",
   "execution_count": null,
   "metadata": {},
   "outputs": [],
   "source": []
  },
  {
   "cell_type": "code",
   "execution_count": 12,
   "metadata": {},
   "outputs": [
    {
     "name": "stdout",
     "output_type": "stream",
     "text": [
      "lin-reg-supreme\n",
      "train R2: 0.5436511787162075\n",
      "test R2: 0.46007867335940555\n",
      "runtime:0.3394910534222921 min.\n",
      "\n",
      "elastic-net\n",
      "train R2: 0.4649052799382922\n",
      "test R2: 0.4555737126220476\n",
      "runtime:0.5796512007713318 min.\n",
      "\n",
      "linear-svr-cv\n",
      "train R2: 0.5099788586436047\n",
      "test R2: 0.4254598294175347\n",
      "runtime:0.42827335198720295 min.\n",
      "\n",
      "rbf-svr-cv\n",
      "train R2: 0.5856578645935512\n",
      "test R2: 0.4204126653959883\n",
      "runtime:0.09013941685358683 min.\n",
      "\n",
      "lassolars\n",
      "train R2: 0.4522273776533162\n",
      "test R2: 0.4536512580917407\n",
      "runtime:0.03291046222050985 min.\n",
      "\n",
      "lin-reg-supreme-bestT\n",
      "train R2: 0.47202091442785343\n",
      "test R2: 0.42102591051863447\n",
      "runtime:0.10888811747233072 min.\n",
      "\n",
      "elastic-net-bestT\n",
      "train R2: 0.4884531711435921\n",
      "test R2: 0.47573340034473266\n",
      "runtime:0.5205970406532288 min.\n",
      "\n",
      "linear-svr-cv-bestT\n",
      "train R2: 0.4638112270199837\n",
      "test R2: 0.4575537709707327\n",
      "runtime:0.4306750218073527 min.\n",
      "\n",
      "rbf-svr-cv-bestT\n",
      "train R2: 0.593720647926708\n",
      "test R2: 0.4561142637693395\n",
      "runtime:0.08299835125605265 min.\n",
      "\n",
      "lassolars-bestT\n",
      "train R2: 0.499043826190395\n",
      "test R2: 0.48032313722789\n",
      "runtime:0.035929278532663984 min.\n",
      "\n"
     ]
    }
   ],
   "source": [
    "i=0\n",
    "for name,est in vbhelper.model_dict.items():\n",
    "    start=time()\n",
    "    i+=1;print(name)\n",
    "    est.fit(X_train,y_train)\n",
    "    print('train R2:',est.score(X_train,y_train))\n",
    "    if not X_test is None:print('test R2:',est.score(X_test,y_test))\n",
    "    end=time()\n",
    "    print(f'runtime:{(end-start)/60} min.\\n')\n"
   ]
  },
  {
   "cell_type": "code",
   "execution_count": null,
   "metadata": {},
   "outputs": [],
   "source": []
  },
  {
   "cell_type": "code",
   "execution_count": 13,
   "metadata": {},
   "outputs": [
    {
     "ename": "NameError",
     "evalue": "name 'time' is not defined",
     "output_type": "error",
     "traceback": [
      "\u001b[0;31m---------------------------------------------------------------------------\u001b[0m",
      "\u001b[0;31mNameError\u001b[0m                                 Traceback (most recent call last)",
      "\u001b[0;32m<ipython-input-13-d0ddc07e0ab4>\u001b[0m in \u001b[0;36m<module>\u001b[0;34m\u001b[0m\n\u001b[0;32m----> 1\u001b[0;31m \u001b[0mvbhelper\u001b[0m\u001b[0;34m.\u001b[0m\u001b[0mrunCrossValidate\u001b[0m\u001b[0;34m(\u001b[0m\u001b[0mn_jobs\u001b[0m\u001b[0;34m=\u001b[0m\u001b[0;36m10\u001b[0m\u001b[0;34m)\u001b[0m\u001b[0;34m\u001b[0m\u001b[0;34m\u001b[0m\u001b[0m\n\u001b[0m",
      "\u001b[0;32m~/gits/vbflow/vb_helper.py\u001b[0m in \u001b[0;36mrunCrossValidate\u001b[0;34m(self, n_jobs)\u001b[0m\n\u001b[1;32m     68\u001b[0m         \u001b[0mcv_results\u001b[0m\u001b[0;34m=\u001b[0m\u001b[0;34m{\u001b[0m\u001b[0;34m}\u001b[0m\u001b[0;34m\u001b[0m\u001b[0;34m\u001b[0m\u001b[0m\n\u001b[1;32m     69\u001b[0m         \u001b[0;32mfor\u001b[0m \u001b[0mestimator_name\u001b[0m\u001b[0;34m,\u001b[0m\u001b[0mmodel\u001b[0m \u001b[0;32min\u001b[0m \u001b[0mself\u001b[0m\u001b[0;34m.\u001b[0m\u001b[0mmodel_dict\u001b[0m\u001b[0;34m.\u001b[0m\u001b[0mitems\u001b[0m\u001b[0;34m(\u001b[0m\u001b[0;34m)\u001b[0m\u001b[0;34m:\u001b[0m\u001b[0;34m\u001b[0m\u001b[0;34m\u001b[0m\u001b[0m\n\u001b[0;32m---> 70\u001b[0;31m             \u001b[0mstart\u001b[0m\u001b[0;34m=\u001b[0m\u001b[0mtime\u001b[0m\u001b[0;34m(\u001b[0m\u001b[0;34m)\u001b[0m\u001b[0;34m\u001b[0m\u001b[0;34m\u001b[0m\u001b[0m\n\u001b[0m\u001b[1;32m     71\u001b[0m             model_i=cross_validate(\n\u001b[1;32m     72\u001b[0m                 \u001b[0mmodel\u001b[0m\u001b[0;34m,\u001b[0m \u001b[0mself\u001b[0m\u001b[0;34m.\u001b[0m\u001b[0mX_df\u001b[0m\u001b[0;34m,\u001b[0m \u001b[0mself\u001b[0m\u001b[0;34m.\u001b[0m\u001b[0my_df\u001b[0m\u001b[0;34m,\u001b[0m \u001b[0mreturn_estimator\u001b[0m\u001b[0;34m=\u001b[0m\u001b[0;32mTrue\u001b[0m\u001b[0;34m,\u001b[0m\u001b[0;34m\u001b[0m\u001b[0;34m\u001b[0m\u001b[0m\n",
      "\u001b[0;31mNameError\u001b[0m: name 'time' is not defined"
     ]
    }
   ],
   "source": [
    "vbhelper.runCrossValidate(n_jobs=10)"
   ]
  },
  {
   "cell_type": "code",
   "execution_count": null,
   "metadata": {},
   "outputs": [],
   "source": [
    "#plot cv_yhat"
   ]
  },
  {
   "cell_type": "markdown",
   "metadata": {},
   "source": [
    "#### graphs and table to summarize results"
   ]
  },
  {
   "cell_type": "code",
   "execution_count": null,
   "metadata": {},
   "outputs": [],
   "source": [
    "cv_score_dict={}\n",
    "cv_score_dict_means={}\n",
    "for idx,(estimator_name,result) in enumerate(cv_results.items()):\n",
    "    #cv_estimators=result['estimator']\n",
    "    model_idx_scoredict={scorer:result[f'test_{scorer}'] for scorer in scorer_list}# fstring bc how cross_validate stores list of metrics\n",
    "    cv_score_dict[estimator_name]=model_idx_scoredict \n",
    "    model_idx_mean_scores={scorer:np.mean(scores) for scorer,scores in model_idx_scoredict.items()}\n",
    "    cv_score_dict_means[estimator_name]=model_idx_mean_scores"
   ]
  },
  {
   "cell_type": "code",
   "execution_count": null,
   "metadata": {},
   "outputs": [],
   "source": [
    "for scorer in scorer_list:\n",
    "    print(f'scores for scorer: {scorer}:')\n",
    "    for estimator_name in model_dict:\n",
    "        print(f'    {estimator_name}:{cv_score_dict_means[estimator_name][scorer]}')"
   ]
  },
  {
   "cell_type": "code",
   "execution_count": null,
   "metadata": {},
   "outputs": [],
   "source": [
    "vbhelper.plotCVScores(cv_score_dict,sort=1)"
   ]
  },
  {
   "cell_type": "code",
   "execution_count": null,
   "metadata": {},
   "outputs": [],
   "source": []
  },
  {
   "cell_type": "code",
   "execution_count": null,
   "metadata": {},
   "outputs": [],
   "source": []
  }
 ],
 "metadata": {
  "kernelspec": {
   "display_name": "Python 3",
   "language": "python",
   "name": "python3"
  },
  "language_info": {
   "codemirror_mode": {
    "name": "ipython",
    "version": 3
   },
   "file_extension": ".py",
   "mimetype": "text/x-python",
   "name": "python",
   "nbconvert_exporter": "python",
   "pygments_lexer": "ipython3",
   "version": "3.8.5"
  }
 },
 "nbformat": 4,
 "nbformat_minor": 4
}
