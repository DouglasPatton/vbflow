{
 "cells": [
  {
   "cell_type": "code",
   "execution_count": null,
   "metadata": {},
   "outputs": [],
   "source": []
  },
  {
   "cell_type": "code",
   "execution_count": 1,
   "metadata": {},
   "outputs": [],
   "source": [
    "from vb_pi import CVPlusPI"
   ]
  },
  {
   "cell_type": "code",
   "execution_count": 2,
   "metadata": {},
   "outputs": [],
   "source": [
    "# pre_mean averages the points in the empirical cv+ predictive distribution across cv_repetitions from the start\n",
    "# none uses all of the points for a distribution that has n_reps times as many points as otherwise\n",
    "# post_mean computes separate lower and upper bounds for each cv_repetition and averages those results\n",
    "# drop just uses the first repetition of CV and is just regular CV+"
   ]
  },
  {
   "cell_type": "code",
   "execution_count": 3,
   "metadata": {},
   "outputs": [
    {
     "name": "stdout",
     "output_type": "stream",
     "text": [
      "..................................................\n",
      "('option: None', 'avg width: ', 8.068908457458251, 'avg coverage: ', 0.9659200000000001, 'min coverage: ', 0.668)\n",
      "('option: pre_mean', 'avg width: ', 7.0736472497304135, 'avg coverage: ', 0.9324799999999999, 'min coverage: ', 0.557)\n",
      "('option: pre_median', 'avg width: ', 6.975756351560659, 'avg coverage: ', 0.92888, 'min coverage: ', 0.561)\n",
      "('option: post_mean', 'avg width: ', 8.790676137470172, 'avg coverage: ', 0.97462, 'min coverage: ', 0.724)\n",
      "('option: drop', 'avg width: ', 9.170524960962087, 'avg coverage: ', 0.95916, 'min coverage: ', 0.641)\n"
     ]
    }
   ],
   "source": [
    "CVPlusPI.run_comparison(n=50,make_data_kwargs=dict(train_n=20,k=10,predict_n=1000,n_splits=5,n_reps=50))"
   ]
  },
  {
   "cell_type": "code",
   "execution_count": 4,
   "metadata": {},
   "outputs": [
    {
     "name": "stdout",
     "output_type": "stream",
     "text": [
      "....................................................................................................\n",
      "('option: None', 'avg width: ', 4.288476695246301, 'avg coverage: ', 0.95281, 'min coverage: ', 0.87)\n",
      "('option: pre_mean', 'avg width: ', 4.627164897566241, 'avg coverage: ', 0.9644900000000001, 'min coverage: ', 0.89)\n",
      "('option: pre_median', 'avg width: ', 4.626476018158598, 'avg coverage: ', 0.9645999999999999, 'min coverage: ', 0.895)\n",
      "('option: post_mean', 'avg width: ', 4.7198428062475335, 'avg coverage: ', 0.9691000000000001, 'min coverage: ', 0.905)\n",
      "('option: drop', 'avg width: ', 4.733386474156465, 'avg coverage: ', 0.9668299999999997, 'min coverage: ', 0.885)\n"
     ]
    }
   ],
   "source": [
    "CVPlusPI.run_comparison(n=100,make_data_kwargs=dict(train_n=50,k=4,predict_n=1000,n_splits=5,n_reps=10))"
   ]
  },
  {
   "cell_type": "code",
   "execution_count": 5,
   "metadata": {},
   "outputs": [
    {
     "name": "stdout",
     "output_type": "stream",
     "text": [
      "....................................................................................................\n",
      "('option: None', 'avg width: ', 51.29884679404755, 'avg coverage: ', 1.0, 'min coverage: ', 1.0)\n",
      "('option: pre_mean', 'avg width: ', 33.26118192118505, 'avg coverage: ', 0.9996299999999999, 'min coverage: ', 0.989)\n",
      "('option: pre_median', 'avg width: ', 20.082098469781283, 'avg coverage: ', 0.99774, 'min coverage: ', 0.933)\n",
      "('option: post_mean', 'avg width: ', 59.57971748479282, 'avg coverage: ', 1.0, 'min coverage: ', 1.0)\n",
      "('option: drop', 'avg width: ', 57.6258013619274, 'avg coverage: ', 0.9995099999999999, 'min coverage: ', 0.982)\n"
     ]
    }
   ],
   "source": [
    "CVPlusPI.run_comparison(n=100,make_data_kwargs=dict(train_n=50,k=40,predict_n=1000,n_splits=5,n_reps=10))"
   ]
  },
  {
   "cell_type": "code",
   "execution_count": 6,
   "metadata": {},
   "outputs": [
    {
     "name": "stdout",
     "output_type": "stream",
     "text": [
      "....................................................................................................\n",
      "('option: None', 'avg width: ', 4.112621605899338, 'avg coverage: ', 0.95222, 'min coverage: ', 0.894)\n",
      "('option: pre_mean', 'avg width: ', 4.163775971329651, 'avg coverage: ', 0.9542899999999999, 'min coverage: ', 0.892)\n",
      "('option: pre_median', 'avg width: ', 4.16614606642877, 'avg coverage: ', 0.95426, 'min coverage: ', 0.892)\n",
      "('option: post_mean', 'avg width: ', 4.196265392953016, 'avg coverage: ', 0.9562899999999999, 'min coverage: ', 0.899)\n",
      "('option: drop', 'avg width: ', 4.165379262420414, 'avg coverage: ', 0.9543900000000001, 'min coverage: ', 0.912)\n"
     ]
    }
   ],
   "source": [
    "CVPlusPI.run_comparison(n=100,make_data_kwargs=dict(train_n=100,k=4,predict_n=1000,n_splits=5,n_reps=10))"
   ]
  },
  {
   "cell_type": "code",
   "execution_count": 7,
   "metadata": {},
   "outputs": [
    {
     "name": "stdout",
     "output_type": "stream",
     "text": [
      "....................................................................................................\n",
      "('option: None', 'avg width: ', 4.063986051105862, 'avg coverage: ', 0.9515499999999999, 'min coverage: ', 0.883)\n",
      "('option: pre_mean', 'avg width: ', 4.129911742526753, 'avg coverage: ', 0.9545999999999999, 'min coverage: ', 0.894)\n",
      "('option: pre_median', 'avg width: ', 4.130936208844736, 'avg coverage: ', 0.95455, 'min coverage: ', 0.898)\n",
      "('option: post_mean', 'avg width: ', 4.138920001724955, 'avg coverage: ', 0.9554799999999999, 'min coverage: ', 0.892)\n",
      "('option: drop', 'avg width: ', 4.1377327306313, 'avg coverage: ', 0.95501, 'min coverage: ', 0.883)\n"
     ]
    }
   ],
   "source": [
    "CVPlusPI.run_comparison(n=100,make_data_kwargs=dict(train_n=100,k=0,predict_n=1000,n_splits=5,n_reps=10))"
   ]
  },
  {
   "cell_type": "code",
   "execution_count": null,
   "metadata": {},
   "outputs": [],
   "source": []
  }
 ],
 "metadata": {
  "kernelspec": {
   "display_name": "Python 3 (ipykernel)",
   "language": "python",
   "name": "python3"
  },
  "language_info": {
   "codemirror_mode": {
    "name": "ipython",
    "version": 3
   },
   "file_extension": ".py",
   "mimetype": "text/x-python",
   "name": "python",
   "nbconvert_exporter": "python",
   "pygments_lexer": "ipython3",
   "version": "3.9.7"
  }
 },
 "nbformat": 4,
 "nbformat_minor": 4
}
