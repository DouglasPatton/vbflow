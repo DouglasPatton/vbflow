{
 "cells": [
  {
   "cell_type": "code",
   "execution_count": null,
   "metadata": {},
   "outputs": [],
   "source": []
  },
  {
   "cell_type": "code",
   "execution_count": 1,
   "metadata": {},
   "outputs": [],
   "source": [
    "from vb_pi import CVPlusPI"
   ]
  },
  {
   "cell_type": "code",
   "execution_count": 2,
   "metadata": {},
   "outputs": [],
   "source": [
    "# pre_mean averages the points in the empirical cv+ predictive distribution across cv_repetitions from the start\n",
    "# none uses all of the points for a distribution that has n_reps times as many points as otherwise\n",
    "# post_mean computes separate lower and upper bounds for each cv_repetition and averages those results\n",
    "# drop just uses the first repetition of CV and is just regular CV+"
   ]
  },
  {
   "cell_type": "code",
   "execution_count": 3,
   "metadata": {},
   "outputs": [
    {
     "name": "stdout",
     "output_type": "stream",
     "text": [
      "....................................................................................................\n",
      "('option: None', 'avg width: ', 4.253458792797231, 'avg coverage: ', 0.9508699999999998, 'min coverage: ', 0.806)\n",
      "('option: pre_mean', 'avg width: ', 4.183110297124325, 'avg coverage: ', 0.9466100000000001, 'min coverage: ', 0.796)\n",
      "('option: post_mean', 'avg width: ', 4.31247410559812, 'avg coverage: ', 0.95375, 'min coverage: ', 0.814)\n",
      "('option: drop', 'avg width: ', 4.317550148310579, 'avg coverage: ', 0.9529400000000001, 'min coverage: ', 0.815)\n"
     ]
    }
   ],
   "source": [
    "CVPlusPI.run_comparison(n=100,make_data_kwargs=dict(train_n=50,k=4,predict_n=1000,n_splits=5,n_reps=10))"
   ]
  },
  {
   "cell_type": "code",
   "execution_count": 4,
   "metadata": {},
   "outputs": [
    {
     "name": "stdout",
     "output_type": "stream",
     "text": [
      "....................................................................................................\n",
      "('option: None', 'avg width: ', 56.22781540022107, 'avg coverage: ', 1.0, 'min coverage: ', 1.0)\n",
      "('option: pre_mean', 'avg width: ', 31.850909514303403, 'avg coverage: ', 0.99971, 'min coverage: ', 0.983)\n",
      "('option: post_mean', 'avg width: ', 56.81529247550365, 'avg coverage: ', 1.0, 'min coverage: ', 1.0)\n",
      "('option: drop', 'avg width: ', 59.684082232237046, 'avg coverage: ', 0.9999700000000001, 'min coverage: ', 0.998)\n"
     ]
    }
   ],
   "source": [
    "CVPlusPI.run_comparison(n=100,make_data_kwargs=dict(train_n=50,k=40,predict_n=1000,n_splits=5,n_reps=10))"
   ]
  },
  {
   "cell_type": "code",
   "execution_count": 5,
   "metadata": {},
   "outputs": [
    {
     "name": "stdout",
     "output_type": "stream",
     "text": [
      "....................................................................................................\n",
      "('option: None', 'avg width: ', 4.033085992272663, 'avg coverage: ', 0.94682, 'min coverage: ', 0.893)\n",
      "('option: pre_mean', 'avg width: ', 4.029692847585582, 'avg coverage: ', 0.946, 'min coverage: ', 0.879)\n",
      "('option: post_mean', 'avg width: ', 4.050641526781862, 'avg coverage: ', 0.94777, 'min coverage: ', 0.894)\n",
      "('option: drop', 'avg width: ', 4.0391687703881995, 'avg coverage: ', 0.94667, 'min coverage: ', 0.88)\n"
     ]
    }
   ],
   "source": [
    "CVPlusPI.run_comparison(n=100,make_data_kwargs=dict(train_n=100,k=4,predict_n=1000,n_splits=5,n_reps=10))"
   ]
  },
  {
   "cell_type": "code",
   "execution_count": 6,
   "metadata": {},
   "outputs": [
    {
     "name": "stdout",
     "output_type": "stream",
     "text": [
      "....................................................................................................\n",
      "('option: None', 'avg width: ', 3.933748246134823, 'avg coverage: ', 0.9463700000000003, 'min coverage: ', 0.867)\n",
      "('option: pre_mean', 'avg width: ', 3.972385758910519, 'avg coverage: ', 0.9484499999999998, 'min coverage: ', 0.868)\n",
      "('option: post_mean', 'avg width: ', 3.9577548455239895, 'avg coverage: ', 0.94798, 'min coverage: ', 0.868)\n",
      "('option: drop', 'avg width: ', 3.955490922699859, 'avg coverage: ', 0.9475999999999999, 'min coverage: ', 0.866)\n"
     ]
    }
   ],
   "source": [
    "CVPlusPI.run_comparison(n=100,make_data_kwargs=dict(train_n=100,k=0,predict_n=1000,n_splits=5,n_reps=10))"
   ]
  },
  {
   "cell_type": "code",
   "execution_count": 7,
   "metadata": {},
   "outputs": [
    {
     "name": "stdout",
     "output_type": "stream",
     "text": [
      "....................................................................................................\n",
      "('option: None', 'avg width: ', 4.012252803900682, 'avg coverage: ', 0.9495699999999999, 'min coverage: ', 0.84)\n",
      "('option: pre_mean', 'avg width: ', 4.049081302538433, 'avg coverage: ', 0.95107, 'min coverage: ', 0.832)\n",
      "('option: post_mean', 'avg width: ', 4.033286675975565, 'avg coverage: ', 0.95069, 'min coverage: ', 0.839)\n",
      "('option: drop', 'avg width: ', 4.026068153403272, 'avg coverage: ', 0.9502200000000001, 'min coverage: ', 0.831)\n"
     ]
    }
   ],
   "source": [
    "CVPlusPI.run_comparison(n=100,make_data_kwargs=dict(train_n=100,k=1,predict_n=1000,n_splits=5,n_reps=10))"
   ]
  },
  {
   "cell_type": "code",
   "execution_count": null,
   "metadata": {},
   "outputs": [],
   "source": []
  }
 ],
 "metadata": {
  "kernelspec": {
   "display_name": "Python 3 (ipykernel)",
   "language": "python",
   "name": "python3"
  },
  "language_info": {
   "codemirror_mode": {
    "name": "ipython",
    "version": 3
   },
   "file_extension": ".py",
   "mimetype": "text/x-python",
   "name": "python",
   "nbconvert_exporter": "python",
   "pygments_lexer": "ipython3",
   "version": "3.9.7"
  }
 },
 "nbformat": 4,
 "nbformat_minor": 4
}
